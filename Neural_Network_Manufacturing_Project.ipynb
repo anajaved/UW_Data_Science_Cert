{
 "cells": [
  {
   "cell_type": "markdown",
   "id": "charged-consistency",
   "metadata": {},
   "source": [
    "## Milestone 03 - Capstone - Final Project\n",
    "### Author: Ana Javed\n",
    "\n",
    "#### Workplace Scenario\n",
    "\n",
    "\n",
    "The capstone project focuses on diaper manufacturing quality. In the Lesson 01 assignment, you discovered how the diaper manufacturing process works. Generally, to ensure or predict quality, a diaper manufacturer need s to monitor every step of the manufacturing process with sensors such as heat sensors, glue sensors, glue level, etc.\n",
    "\n",
    "For this capstone project, we will use the SECOM (https://archive.ics.uci.edu/ml/machine-learning-databases/secom/) manufacturing Data Set from the UCI Machine Learning Repository. The set is originally for semiconductor manufacturing, but in our case, we will assume that it is for the diaper manufacturing process.\n",
    "\n",
    "The dataset consists of two files:\n",
    "\n",
    "   - a dataset file SECOM containing 1567 examples, each with 591 features, presented in a 1567 x 591 matrix\n",
    "   - a labels file listing the classifications and date time stamp for each example\n",
    "\n",
    "Reference\n",
    "\n",
    "Dua, D. and Karra Taniskidou, E. (2017). UCI Machine Learning Repository [http://archive.ics.uci.edu/ml]. Irvine, CA: University of California, School of Information and Computer Science.\n",
    "\n"
   ]
  },
  {
   "cell_type": "markdown",
   "id": "dressed-maintenance",
   "metadata": {},
   "source": [
    "### Instructions\n",
    "\n",
    "Create a new notebook and perform each of the following tasks and answer the related questions:\n",
    "\n",
    "   1. Build a simple neural networks model\n",
    "   2. Build a DNN model\n",
    "   3. Build a RNN model\n",
    "   4. Summarize your findings with examples.  Explain what the manufacturer should focus on to optimize the diaper manufacturing process.\n",
    "   5. Solicit specific feedback on your code (instructions below).\n",
    "\n",
    "Instructions to Solicit Feedback\n",
    "\n",
    "Write 2-3 questions soliciting feedback on specific aspects on the assignment. For example, if you did something one way but are unsure if there might be a different or better way to do it, ask for feedback on that part. You may submit these questions by commenting out in the code within your .ipynb file or by typing them below your file name in the Your Response box on the Submit Milestone Assignment page. While the questions you submit will have no bearing on your grade, by doing so, you will engage more actively with the assignment and we will also be able to give you pointed feedback."
   ]
  },
  {
   "cell_type": "markdown",
   "id": "under-amplifier",
   "metadata": {},
   "source": [
    "##### Reading and Merging Data"
   ]
  },
  {
   "cell_type": "code",
   "execution_count": 324,
   "id": "lined-silver",
   "metadata": {},
   "outputs": [],
   "source": [
    "## Importing Necessary Libraries & Packages \n",
    "import matplotlib.pyplot as plt\n",
    "import pandas as pd \n",
    "import numpy as np\n",
    "import datetime as dt\n",
    "import csv\n",
    "import sklearn \n",
    "from sklearn.preprocessing import StandardScaler\n",
    "from sklearn.model_selection import train_test_split\n",
    "\n",
    "# Declaring inline visualizations \n",
    "%matplotlib inline\n"
   ]
  },
  {
   "cell_type": "code",
   "execution_count": 325,
   "id": "governing-omega",
   "metadata": {},
   "outputs": [
    {
     "name": "stdout",
     "output_type": "stream",
     "text": [
      "   sensor1  sensor2    sensor3    sensor4  sensor5  sensor6   sensor7  \\\n",
      "0  3030.93  2564.00  2187.7333  1411.1265   1.3602    100.0   97.6133   \n",
      "1  3095.78  2465.14  2230.4222  1463.6606   0.8294    100.0  102.3433   \n",
      "2  2932.61  2559.94  2186.4111  1698.0172   1.5102    100.0   95.4878   \n",
      "3  2988.72  2479.90  2199.0333   909.7926   1.3204    100.0  104.2367   \n",
      "4  3032.24  2502.87  2233.3667  1326.5200   1.5334    100.0  100.3967   \n",
      "\n",
      "   sensor8  sensor9  sensor10  ...  sensor581  sensor582  sensor583  \\\n",
      "0   0.1242   1.5005    0.0162  ...        NaN        NaN     0.5005   \n",
      "1   0.1247   1.4966   -0.0005  ...     0.0060   208.2045     0.5019   \n",
      "2   0.1241   1.4436    0.0041  ...     0.0148    82.8602     0.4958   \n",
      "3   0.1217   1.4882   -0.0124  ...     0.0044    73.8432     0.4990   \n",
      "4   0.1235   1.5031   -0.0031  ...        NaN        NaN     0.4800   \n",
      "\n",
      "   sensor584  sensor585  sensor586  sensor587  sensor588  sensor589  sensor590  \n",
      "0     0.0118     0.0035     2.3630        NaN        NaN        NaN        NaN  \n",
      "1     0.0223     0.0055     4.4447     0.0096     0.0201     0.0060   208.2045  \n",
      "2     0.0157     0.0039     3.1745     0.0584     0.0484     0.0148    82.8602  \n",
      "3     0.0103     0.0025     2.0544     0.0202     0.0149     0.0044    73.8432  \n",
      "4     0.4766     0.1045    99.3032     0.0202     0.0149     0.0044    73.8432  \n",
      "\n",
      "[5 rows x 590 columns]\n",
      "   class            timestamp\n",
      "0     -1  19/07/2008 11:55:00\n",
      "1     -1  19/07/2008 12:32:00\n",
      "2      1  19/07/2008 13:17:00\n",
      "3     -1  19/07/2008 14:43:00\n",
      "4     -1  19/07/2008 15:22:00\n"
     ]
    }
   ],
   "source": [
    "## Reading data file into Dataframe \n",
    "url = \"https://archive.ics.uci.edu/ml/machine-learning-databases/secom/secom.data\"\n",
    "labels_url = \"https://archive.ics.uci.edu/ml/machine-learning-databases/secom/secom_labels.data\"\n",
    "\n",
    "col_name_list = []\n",
    "## Renaming Columns to different Sensor #'s\n",
    "for i in range (1, 591, 1):\n",
    "    col_name_list.append(\"sensor\" + str(i))\n",
    "\n",
    "# print (col_name_list)\n",
    "    \n",
    "df = pd.read_csv(url, sep=\" \", header=None , names = col_name_list)\n",
    "df_labels = pd.read_csv(labels_url, sep=\" \", header = None, names = [\"class\", \"timestamp\"])\n",
    "\n",
    "\n",
    "## First 5 Rows from Dataframes\n",
    "print(df.head())\n",
    "print(df_labels.head()) \n"
   ]
  },
  {
   "cell_type": "code",
   "execution_count": 326,
   "id": "mounted-closing",
   "metadata": {},
   "outputs": [
    {
     "name": "stdout",
     "output_type": "stream",
     "text": [
      "(1567, 590)\n",
      "sensor1      float64\n",
      "sensor2      float64\n",
      "sensor3      float64\n",
      "sensor4      float64\n",
      "sensor5      float64\n",
      "              ...   \n",
      "sensor586    float64\n",
      "sensor587    float64\n",
      "sensor588    float64\n",
      "sensor589    float64\n",
      "sensor590    float64\n",
      "Length: 590, dtype: object\n",
      "           sensor1      sensor2      sensor3      sensor4      sensor5  \\\n",
      "count  1561.000000  1560.000000  1553.000000  1553.000000  1553.000000   \n",
      "mean   3014.452896  2495.850231  2200.547318  1396.376627     4.197013   \n",
      "std      73.621787    80.407705    29.513152   441.691640    56.355540   \n",
      "min    2743.240000  2158.750000  2060.660000     0.000000     0.681500   \n",
      "25%    2966.260000  2452.247500  2181.044400  1081.875800     1.017700   \n",
      "50%    3011.490000  2499.405000  2201.066700  1285.214400     1.316800   \n",
      "75%    3056.650000  2538.822500  2218.055500  1591.223500     1.525700   \n",
      "max    3356.350000  2846.440000  2315.266700  3715.041700  1114.536600   \n",
      "\n",
      "       sensor6      sensor7      sensor8      sensor9     sensor10  ...  \\\n",
      "count   1553.0  1553.000000  1558.000000  1565.000000  1565.000000  ...   \n",
      "mean     100.0   101.112908     0.121822     1.462862    -0.000841  ...   \n",
      "std        0.0     6.237214     0.008961     0.073897     0.015116  ...   \n",
      "min      100.0    82.131100     0.000000     1.191000    -0.053400  ...   \n",
      "25%      100.0    97.920000     0.121100     1.411200    -0.010800  ...   \n",
      "50%      100.0   101.512200     0.122400     1.461600    -0.001300  ...   \n",
      "75%      100.0   104.586700     0.123800     1.516900     0.008400  ...   \n",
      "max      100.0   129.252200     0.128600     1.656400     0.074900  ...   \n",
      "\n",
      "        sensor581   sensor582    sensor583    sensor584    sensor585  \\\n",
      "count  618.000000  618.000000  1566.000000  1566.000000  1566.000000   \n",
      "mean     0.005396   97.934373     0.500096     0.015318     0.003847   \n",
      "std      0.003116   87.520966     0.003404     0.017180     0.003720   \n",
      "min      0.001000    0.000000     0.477800     0.006000     0.001700   \n",
      "25%      0.003400   46.184900     0.497900     0.011600     0.003100   \n",
      "50%      0.004700   72.288900     0.500200     0.013800     0.003600   \n",
      "75%      0.006475  116.539150     0.502375     0.016500     0.004100   \n",
      "max      0.028600  737.304800     0.509800     0.476600     0.104500   \n",
      "\n",
      "         sensor586    sensor587    sensor588    sensor589    sensor590  \n",
      "count  1566.000000  1566.000000  1566.000000  1566.000000  1566.000000  \n",
      "mean      3.067826     0.021458     0.016475     0.005283    99.670066  \n",
      "std       3.578033     0.012358     0.008808     0.002867    93.891919  \n",
      "min       1.197500    -0.016900     0.003200     0.001000     0.000000  \n",
      "25%       2.306500     0.013425     0.010600     0.003300    44.368600  \n",
      "50%       2.757650     0.020500     0.014800     0.004600    71.900500  \n",
      "75%       3.295175     0.027600     0.020300     0.006400   114.749700  \n",
      "max      99.303200     0.102800     0.079900     0.028600   737.304800  \n",
      "\n",
      "[8 rows x 590 columns]\n",
      "(1567, 2)\n"
     ]
    },
    {
     "data": {
      "text/html": [
       "<div>\n",
       "<style scoped>\n",
       "    .dataframe tbody tr th:only-of-type {\n",
       "        vertical-align: middle;\n",
       "    }\n",
       "\n",
       "    .dataframe tbody tr th {\n",
       "        vertical-align: top;\n",
       "    }\n",
       "\n",
       "    .dataframe thead th {\n",
       "        text-align: right;\n",
       "    }\n",
       "</style>\n",
       "<table border=\"1\" class=\"dataframe\">\n",
       "  <thead>\n",
       "    <tr style=\"text-align: right;\">\n",
       "      <th></th>\n",
       "      <th>sensor1</th>\n",
       "      <th>sensor2</th>\n",
       "      <th>sensor3</th>\n",
       "      <th>sensor4</th>\n",
       "      <th>sensor5</th>\n",
       "      <th>sensor6</th>\n",
       "      <th>sensor7</th>\n",
       "      <th>sensor8</th>\n",
       "      <th>sensor9</th>\n",
       "      <th>sensor10</th>\n",
       "      <th>...</th>\n",
       "      <th>sensor581</th>\n",
       "      <th>sensor582</th>\n",
       "      <th>sensor583</th>\n",
       "      <th>sensor584</th>\n",
       "      <th>sensor585</th>\n",
       "      <th>sensor586</th>\n",
       "      <th>sensor587</th>\n",
       "      <th>sensor588</th>\n",
       "      <th>sensor589</th>\n",
       "      <th>sensor590</th>\n",
       "    </tr>\n",
       "  </thead>\n",
       "  <tbody>\n",
       "    <tr>\n",
       "      <th>0</th>\n",
       "      <td>3030.93</td>\n",
       "      <td>2564.00</td>\n",
       "      <td>2187.7333</td>\n",
       "      <td>1411.1265</td>\n",
       "      <td>1.3602</td>\n",
       "      <td>100.0</td>\n",
       "      <td>97.6133</td>\n",
       "      <td>0.1242</td>\n",
       "      <td>1.5005</td>\n",
       "      <td>0.0162</td>\n",
       "      <td>...</td>\n",
       "      <td>NaN</td>\n",
       "      <td>NaN</td>\n",
       "      <td>0.5005</td>\n",
       "      <td>0.0118</td>\n",
       "      <td>0.0035</td>\n",
       "      <td>2.3630</td>\n",
       "      <td>NaN</td>\n",
       "      <td>NaN</td>\n",
       "      <td>NaN</td>\n",
       "      <td>NaN</td>\n",
       "    </tr>\n",
       "    <tr>\n",
       "      <th>1</th>\n",
       "      <td>3095.78</td>\n",
       "      <td>2465.14</td>\n",
       "      <td>2230.4222</td>\n",
       "      <td>1463.6606</td>\n",
       "      <td>0.8294</td>\n",
       "      <td>100.0</td>\n",
       "      <td>102.3433</td>\n",
       "      <td>0.1247</td>\n",
       "      <td>1.4966</td>\n",
       "      <td>-0.0005</td>\n",
       "      <td>...</td>\n",
       "      <td>0.0060</td>\n",
       "      <td>208.2045</td>\n",
       "      <td>0.5019</td>\n",
       "      <td>0.0223</td>\n",
       "      <td>0.0055</td>\n",
       "      <td>4.4447</td>\n",
       "      <td>0.0096</td>\n",
       "      <td>0.0201</td>\n",
       "      <td>0.0060</td>\n",
       "      <td>208.2045</td>\n",
       "    </tr>\n",
       "    <tr>\n",
       "      <th>2</th>\n",
       "      <td>2932.61</td>\n",
       "      <td>2559.94</td>\n",
       "      <td>2186.4111</td>\n",
       "      <td>1698.0172</td>\n",
       "      <td>1.5102</td>\n",
       "      <td>100.0</td>\n",
       "      <td>95.4878</td>\n",
       "      <td>0.1241</td>\n",
       "      <td>1.4436</td>\n",
       "      <td>0.0041</td>\n",
       "      <td>...</td>\n",
       "      <td>0.0148</td>\n",
       "      <td>82.8602</td>\n",
       "      <td>0.4958</td>\n",
       "      <td>0.0157</td>\n",
       "      <td>0.0039</td>\n",
       "      <td>3.1745</td>\n",
       "      <td>0.0584</td>\n",
       "      <td>0.0484</td>\n",
       "      <td>0.0148</td>\n",
       "      <td>82.8602</td>\n",
       "    </tr>\n",
       "    <tr>\n",
       "      <th>3</th>\n",
       "      <td>2988.72</td>\n",
       "      <td>2479.90</td>\n",
       "      <td>2199.0333</td>\n",
       "      <td>909.7926</td>\n",
       "      <td>1.3204</td>\n",
       "      <td>100.0</td>\n",
       "      <td>104.2367</td>\n",
       "      <td>0.1217</td>\n",
       "      <td>1.4882</td>\n",
       "      <td>-0.0124</td>\n",
       "      <td>...</td>\n",
       "      <td>0.0044</td>\n",
       "      <td>73.8432</td>\n",
       "      <td>0.4990</td>\n",
       "      <td>0.0103</td>\n",
       "      <td>0.0025</td>\n",
       "      <td>2.0544</td>\n",
       "      <td>0.0202</td>\n",
       "      <td>0.0149</td>\n",
       "      <td>0.0044</td>\n",
       "      <td>73.8432</td>\n",
       "    </tr>\n",
       "    <tr>\n",
       "      <th>4</th>\n",
       "      <td>3032.24</td>\n",
       "      <td>2502.87</td>\n",
       "      <td>2233.3667</td>\n",
       "      <td>1326.5200</td>\n",
       "      <td>1.5334</td>\n",
       "      <td>100.0</td>\n",
       "      <td>100.3967</td>\n",
       "      <td>0.1235</td>\n",
       "      <td>1.5031</td>\n",
       "      <td>-0.0031</td>\n",
       "      <td>...</td>\n",
       "      <td>NaN</td>\n",
       "      <td>NaN</td>\n",
       "      <td>0.4800</td>\n",
       "      <td>0.4766</td>\n",
       "      <td>0.1045</td>\n",
       "      <td>99.3032</td>\n",
       "      <td>0.0202</td>\n",
       "      <td>0.0149</td>\n",
       "      <td>0.0044</td>\n",
       "      <td>73.8432</td>\n",
       "    </tr>\n",
       "  </tbody>\n",
       "</table>\n",
       "<p>5 rows × 590 columns</p>\n",
       "</div>"
      ],
      "text/plain": [
       "   sensor1  sensor2    sensor3    sensor4  sensor5  sensor6   sensor7  \\\n",
       "0  3030.93  2564.00  2187.7333  1411.1265   1.3602    100.0   97.6133   \n",
       "1  3095.78  2465.14  2230.4222  1463.6606   0.8294    100.0  102.3433   \n",
       "2  2932.61  2559.94  2186.4111  1698.0172   1.5102    100.0   95.4878   \n",
       "3  2988.72  2479.90  2199.0333   909.7926   1.3204    100.0  104.2367   \n",
       "4  3032.24  2502.87  2233.3667  1326.5200   1.5334    100.0  100.3967   \n",
       "\n",
       "   sensor8  sensor9  sensor10  ...  sensor581  sensor582  sensor583  \\\n",
       "0   0.1242   1.5005    0.0162  ...        NaN        NaN     0.5005   \n",
       "1   0.1247   1.4966   -0.0005  ...     0.0060   208.2045     0.5019   \n",
       "2   0.1241   1.4436    0.0041  ...     0.0148    82.8602     0.4958   \n",
       "3   0.1217   1.4882   -0.0124  ...     0.0044    73.8432     0.4990   \n",
       "4   0.1235   1.5031   -0.0031  ...        NaN        NaN     0.4800   \n",
       "\n",
       "   sensor584  sensor585  sensor586  sensor587  sensor588  sensor589  sensor590  \n",
       "0     0.0118     0.0035     2.3630        NaN        NaN        NaN        NaN  \n",
       "1     0.0223     0.0055     4.4447     0.0096     0.0201     0.0060   208.2045  \n",
       "2     0.0157     0.0039     3.1745     0.0584     0.0484     0.0148    82.8602  \n",
       "3     0.0103     0.0025     2.0544     0.0202     0.0149     0.0044    73.8432  \n",
       "4     0.4766     0.1045    99.3032     0.0202     0.0149     0.0044    73.8432  \n",
       "\n",
       "[5 rows x 590 columns]"
      ]
     },
     "execution_count": 326,
     "metadata": {},
     "output_type": "execute_result"
    }
   ],
   "source": [
    "## Conducting Exploratory Data Analysis: \n",
    "\n",
    "print(df.shape)  # (1567, 592)\n",
    "print(df.dtypes) \n",
    "print(df.describe()) \n",
    "\n",
    "print(df_labels.shape)  # (1567, 2)\n",
    "\n",
    "df.head()"
   ]
  },
  {
   "cell_type": "markdown",
   "id": "clinical-psychiatry",
   "metadata": {},
   "source": [
    "##### Clean and prepare data"
   ]
  },
  {
   "cell_type": "code",
   "execution_count": 327,
   "id": "single-number",
   "metadata": {},
   "outputs": [],
   "source": [
    "## Function to Find & Replace Missing values\n",
    "\n",
    "def replace_missing_values(df):\n",
    "    for each in df.columns:\n",
    "        if df.loc[:, each].dtype in ('float64', 'int64'):\n",
    "            df.loc[:, each] = pd.to_numeric(df.loc[:, each], errors='coerce')\n",
    "            HasNan1 = np.isnan(df.loc[:, each] )\n",
    "            # print(\"Number of missing values removed in \" + each + \" column:\", sum(HasNan1)) \n",
    "            df.loc[HasNan1, each] = np.nanmedian(df.loc[:, each] )\n",
    "\n",
    "\n"
   ]
  },
  {
   "cell_type": "code",
   "execution_count": 328,
   "id": "figured-scene",
   "metadata": {},
   "outputs": [],
   "source": [
    "## Missing Value Counts by Columns: \n",
    "replace_missing_values(df)\n",
    "\n",
    "## Merging the two Datasets into df \n",
    "df['class'] = df_labels['class']\n",
    "df['timestamp'] = df_labels['timestamp']\n"
   ]
  },
  {
   "cell_type": "code",
   "execution_count": 329,
   "id": "arctic-marriage",
   "metadata": {},
   "outputs": [],
   "source": [
    "## Adding separate date and time columns \n",
    "df['timestamp'] = pd.to_datetime(df['timestamp'])\n",
    "df['date_column'] = pd.to_datetime(df['timestamp']).dt.date\n",
    "df['time_column'] = pd.to_datetime(df['timestamp']).dt.time\n",
    "\n",
    "## Creating counts Column for visualizations \n",
    "df['counts'] = 1\n",
    "\n",
    "## Adding Month Column and TimeOfDay Column\n",
    "df['Month'] = pd.to_datetime(df['timestamp']).dt.month\n",
    "\n",
    "### Categorizing Time of Day into \n",
    "### Morning\", \"Early Afternoon\", \"Later Afternoon\", \"Evening\" Buckets\n",
    "df.loc[:, \"TimeOfDay\"] = df.loc[:, \"time_column\"]\n",
    "df.loc[df.loc[:, \"time_column\"] < pd.to_datetime('19:00:00').time() , \"TimeOfDay\"] = \"Late Afternoon\"\n",
    "df.loc[df.loc[:, \"time_column\"] < pd.to_datetime('13:00:00').time()  , \"TimeOfDay\"] = \"Early Afternoon\"\n",
    "df.loc[df.loc[:, \"time_column\"] < pd.to_datetime('07:00:00').time() , \"TimeOfDay\"] = \"Morning\"\n",
    "df.loc[df.loc[:, \"time_column\"] >= pd.to_datetime('19:00:00').time() , \"TimeOfDay\"] = \"Evening\"\n"
   ]
  },
  {
   "cell_type": "code",
   "execution_count": 330,
   "id": "suffering-steam",
   "metadata": {
    "scrolled": true
   },
   "outputs": [
    {
     "name": "stdout",
     "output_type": "stream",
     "text": [
      "\n",
      "Morning: \n",
      "00:01:00  to  06:56:00\n",
      "\n",
      "Early Afternoon: \n",
      "07:01:00  to  12:58:00\n",
      "\n",
      "Late Afternoon: \n",
      "13:01:00  to  18:59:00\n",
      "\n",
      "Evening: \n",
      "19:03:00  to  23:59:00\n"
     ]
    }
   ],
   "source": [
    "## Validating New Column Counts\n",
    "# print(\"Category Counts: \")\n",
    "# print(df.loc[:, \"TimeOfDay\"].value_counts())\n",
    "\n",
    "# Verifying the Ranges for the Categories \n",
    "print(\"\\nMorning: \")\n",
    "print(min(df.loc[df.loc[:, \"TimeOfDay\"] ==\"Morning\" , \"time_column\"]), \" to \",\n",
    "      max(df.loc[df.loc[:, \"TimeOfDay\"] ==\"Morning\" , \"time_column\"]),\n",
    "     )\n",
    "print(\"\\nEarly Afternoon: \")\n",
    "print(min(df.loc[df.loc[:, \"TimeOfDay\"] ==\"Early Afternoon\" , \"time_column\"]),  \" to \",\n",
    "      max(df.loc[df.loc[:, \"TimeOfDay\"] ==\"Early Afternoon\" , \"time_column\"]),\n",
    "     )\n",
    "print(\"\\nLate Afternoon: \")\n",
    "print(min(df.loc[df.loc[:, \"TimeOfDay\"] ==\"Late Afternoon\" , \"time_column\"]),  \" to \",\n",
    "      max(df.loc[df.loc[:, \"TimeOfDay\"] ==\"Late Afternoon\" , \"time_column\"]),\n",
    "     )\n",
    "print(\"\\nEvening: \")\n",
    "print(min(df.loc[df.loc[:, \"TimeOfDay\"] ==\"Evening\" , \"time_column\"]),  \" to \",\n",
    "      max(df.loc[df.loc[:, \"TimeOfDay\"] ==\"Evening\" , \"time_column\"]),\n",
    "     )"
   ]
  },
  {
   "cell_type": "code",
   "execution_count": 331,
   "id": "african-prompt",
   "metadata": {},
   "outputs": [
    {
     "name": "stdout",
     "output_type": "stream",
     "text": [
      "Before: \n",
      "[-1  1] \n",
      "\n",
      "After: \n",
      "[0 1]\n"
     ]
    }
   ],
   "source": [
    "## Adjusting Class column to be 0 and 1, instead of -1, 1 \n",
    "\n",
    "print(\"Before: \")\n",
    "print(df.loc[:, \"class\"].unique(), \"\\n\")\n",
    "\n",
    "## For Loop to create a binary value in \"ring_class\" column\n",
    "for each in df.loc[:, \"class\"].unique():\n",
    "    if int(each) >= 0:\n",
    "        df.loc[df.loc[:, \"class\"] == each, \"class\"] = 1\n",
    "    elif int(each) < 0: \n",
    "        df.loc[df.loc[:, \"class\"] == each, \"class\"] = 0\n",
    "    continue\n",
    "        \n",
    "        \n",
    "print(\"After: \")\n",
    "print(df.loc[:, \"class\"].unique())\n"
   ]
  },
  {
   "cell_type": "markdown",
   "id": "pointed-being",
   "metadata": {},
   "source": [
    "##### Visually explore data"
   ]
  },
  {
   "cell_type": "code",
   "execution_count": 332,
   "id": "infectious-mainland",
   "metadata": {
    "scrolled": true
   },
   "outputs": [
    {
     "name": "stdout",
     "output_type": "stream",
     "text": [
      "Number of Values in Each Class: \n",
      "0    1463\n",
      "1     104\n",
      "Name: class, dtype: int64\n"
     ]
    },
    {
     "data": {
      "text/plain": [
       "(array([1463.,    0.,    0.,    0.,    0.,    0.,    0.,    0.,    0.,\n",
       "         104.]),\n",
       " array([0. , 0.1, 0.2, 0.3, 0.4, 0.5, 0.6, 0.7, 0.8, 0.9, 1. ]),\n",
       " <BarContainer object of 10 artists>)"
      ]
     },
     "execution_count": 332,
     "metadata": {},
     "output_type": "execute_result"
    },
    {
     "data": {
      "image/png": "[encoded data removed]",
      "text/plain": [
       "<Figure size 432x288 with 1 Axes>"
      ]
     },
     "metadata": {
      "needs_background": "light"
     },
     "output_type": "display_data"
    }
   ],
   "source": [
    "## Distribution of The Class Categories \n",
    "print(\"Number of Values in Each Class: \")\n",
    "print(df.loc[:, \"class\"].value_counts())\n",
    "\n",
    "plt.hist(df.loc[:, \"class\"])"
   ]
  },
  {
   "cell_type": "code",
   "execution_count": 333,
   "id": "aggregate-headline",
   "metadata": {
    "scrolled": true
   },
   "outputs": [
    {
     "name": "stdout",
     "output_type": "stream",
     "text": [
      "2008-02-09    62\n",
      "2008-08-29    50\n",
      "2008-08-30    49\n",
      "2008-06-10    48\n",
      "2008-08-21    44\n",
      "              ..\n",
      "2008-08-13     1\n",
      "2008-08-25     1\n",
      "2008-02-08     1\n",
      "2008-07-25     1\n",
      "2008-07-20     1\n",
      "Name: date_column, Length: 86, dtype: int64\n",
      "\n",
      "\n",
      "Min Date:  2008-01-08 02:02:00\n",
      "Max Date:  2008-12-10 18:47:00\n"
     ]
    },
    {
     "data": {
      "image/png": "[encoded data removed]",
      "text/plain": [
       "<Figure size 1800x432 with 1 Axes>"
      ]
     },
     "metadata": {
      "needs_background": "light"
     },
     "output_type": "display_data"
    }
   ],
   "source": [
    "### Data Value Counts By Day \n",
    "## Bar Plot\n",
    "fig = plt.figure(figsize=(25, 6)) # Define plot area\n",
    "ax = fig.gca() # Define axis\n",
    "df.loc[:, ['date_column', 'counts']].groupby(['date_column']).agg('count').sort_values('date_column').plot.bar(ax=ax)\n",
    "\n",
    "\n",
    "# Printing Unique Counts of Each Day \n",
    "print(df.loc[:, \"date_column\"].value_counts().sort_values(axis = 0, ascending = False))\n",
    "print('\\n')\n",
    "## Printing Min and Max Timestamp Values\n",
    "print(\"Min Date: \", min(df.loc[:,'timestamp']))\n",
    "print(\"Max Date: \", max(df.loc[:,'timestamp']))"
   ]
  },
  {
   "cell_type": "code",
   "execution_count": 334,
   "id": "agricultural-polish",
   "metadata": {
    "scrolled": true
   },
   "outputs": [
    {
     "name": "stdout",
     "output_type": "stream",
     "text": [
      "Morning            438\n",
      "Late Afternoon     405\n",
      "Early Afternoon    380\n",
      "Evening            344\n",
      "Name: TimeOfDay, dtype: int64\n",
      "\n",
      "\n"
     ]
    },
    {
     "data": {
      "image/png": "[encoded data removed]",
      "text/plain": [
       "<Figure size 432x432 with 1 Axes>"
      ]
     },
     "metadata": {
      "needs_background": "light"
     },
     "output_type": "display_data"
    }
   ],
   "source": [
    "### Counts By Time of Day \n",
    "## Bar Plot\n",
    "fig = plt.figure(figsize=(6, 6)) # Define plot area\n",
    "ax = fig.gca() # Define axis\n",
    "df.loc[:, ['TimeOfDay', 'counts']].groupby(['TimeOfDay']).agg('count').sort_values('TimeOfDay').plot.bar(ax=ax)\n",
    "\n",
    "# Printing Unique Counts of Each Day \n",
    "print(df.loc[:, \"TimeOfDay\"].value_counts().sort_values(axis = 0, ascending = False))\n",
    "print('\\n')\n"
   ]
  },
  {
   "cell_type": "code",
   "execution_count": 335,
   "id": "printable-transsexual",
   "metadata": {
    "scrolled": true
   },
   "outputs": [
    {
     "data": {
      "image/png": "[encoded data removed]",
      "text/plain": [
       "<Figure size 366.375x864 with 4 Axes>"
      ]
     },
     "metadata": {
      "needs_background": "light"
     },
     "output_type": "display_data"
    }
   ],
   "source": [
    "## Facet Plot: By Class \n",
    "import seaborn as sns\n",
    "g = sns.FacetGrid(df,  \n",
    "                  row='TimeOfDay', \n",
    "                  hue=\"class\",\n",
    "                  aspect = 1.5,\n",
    "                  palette = \"Set1\"\n",
    "                 )\n",
    "g = g.map(plt.hist, \"class\").add_legend().tight_layout()\n",
    "g"
   ]
  },
  {
   "cell_type": "markdown",
   "id": "wooden-intranet",
   "metadata": {},
   "source": [
    "##### Handle class imbalance problem"
   ]
  },
  {
   "cell_type": "code",
   "execution_count": 336,
   "id": "laden-naples",
   "metadata": {},
   "outputs": [],
   "source": [
    "## Making a copy of the dataframe\n",
    "df2 = df.copy()\n",
    "\n",
    "## Dropping columns that are not needed for the analysis \n",
    "df = df.drop(columns=\"timestamp\")\n",
    "df = df.drop(columns=\"date_column\")\n",
    "df = df.drop(columns=\"time_column\")\n",
    "df = df.drop(columns=\"TimeOfDay\")\n",
    "df = df.drop(columns=\"class\")\n",
    "df = df.drop(columns=\"counts\")\n"
   ]
  },
  {
   "cell_type": "code",
   "execution_count": 337,
   "id": "cheap-dancing",
   "metadata": {},
   "outputs": [
    {
     "name": "stdout",
     "output_type": "stream",
     "text": [
      "(1567, 591)\n"
     ]
    }
   ],
   "source": [
    "print(df.shape)  #(1567, 591)\n",
    "\n",
    "## Splitting Training and Testing Data\n",
    "x_train, x_test, y_train, y_test = train_test_split (np.array(df),\n",
    "                                                     np.array(df_labels.loc[:,\"class\"]),\n",
    "                                                     test_size = 0.5,\n",
    "                                                     random_state = 123)"
   ]
  },
  {
   "cell_type": "code",
   "execution_count": 338,
   "id": "boolean-speaker",
   "metadata": {},
   "outputs": [],
   "source": [
    "## Feature Scaling with StandardScaler \n",
    "\n",
    "from sklearn.preprocessing import StandardScaler\n",
    "scaler = StandardScaler()\n",
    "scaler.fit(x_train)\n",
    "\n",
    "x_train = scaler.transform(x_train)\n",
    "x_test = scaler.transform(x_test)"
   ]
  },
  {
   "cell_type": "code",
   "execution_count": 339,
   "id": "organized-resort",
   "metadata": {},
   "outputs": [],
   "source": [
    "## Loading SMOTE Package \n",
    "from imblearn.over_sampling import SMOTE \n",
    "sm = SMOTE(random_state = 111)\n",
    "\n",
    "X_res, y_res = sm.fit_resample(x_train, y_train)\n"
   ]
  },
  {
   "cell_type": "code",
   "execution_count": 340,
   "id": "imposed-approval",
   "metadata": {},
   "outputs": [
    {
     "name": "stdout",
     "output_type": "stream",
     "text": [
      "1466 [-1  1] [733 733]\n",
      "(1466, 591)\n"
     ]
    }
   ],
   "source": [
    "## Checking the Total Resampled Counts\n",
    "uni, freq = np.unique(y_res, return_counts = True)  # 50% Class 0, #50% Class 1\n",
    "\n",
    "print(len(y_res), uni, freq )  # New Counts per Class\n",
    "print(X_res.shape)\n",
    "\n",
    "    "
   ]
  },
  {
   "cell_type": "code",
   "execution_count": 341,
   "id": "elect-mistress",
   "metadata": {},
   "outputs": [
    {
     "name": "stdout",
     "output_type": "stream",
     "text": [
      "783 783\n",
      "1466 1466\n"
     ]
    }
   ],
   "source": [
    "print(len(x_train), len(y_train))\n",
    "\n",
    "print(len(X_res), len(y_res))\n"
   ]
  },
  {
   "cell_type": "markdown",
   "id": "middle-handy",
   "metadata": {},
   "source": [
    "##### Apply feature selection techniques to reduce dimensionality of data"
   ]
  },
  {
   "cell_type": "markdown",
   "id": "scheduled-feedback",
   "metadata": {},
   "source": [
    "I will be applying the Lasso embed method to reduce the number of features in this dataset."
   ]
  },
  {
   "cell_type": "code",
   "execution_count": 342,
   "id": "formal-upgrade",
   "metadata": {
    "scrolled": true
   },
   "outputs": [
    {
     "name": "stderr",
     "output_type": "stream",
     "text": [
      "/Users/anajaved/opt/miniconda3/lib/python3.8/site-packages/sklearn/linear_model/_coordinate_descent.py:530: ConvergenceWarning: Objective did not converge. You might want to increase the number of iterations. Duality gap: 5.417880241132082, tolerance: 0.038839055520102125\n",
      "  model = cd_fast.enet_coordinate_descent(\n"
     ]
    },
    {
     "data": {
      "text/plain": [
       "Lasso(alpha=0.025)"
      ]
     },
     "execution_count": 342,
     "metadata": {},
     "output_type": "execute_result"
    }
   ],
   "source": [
    "## Separating out the target variable\n",
    "X = df\n",
    "y = df_labels.loc[:, \"class\"]\n",
    "\n",
    "## Applying LASSO Embedded Method \n",
    "from sklearn import linear_model\n",
    "\n",
    "alpha = 0.025 # Increasing alpha can shrink variable coefficients more to 0\n",
    "clf = linear_model.Lasso(alpha=alpha)\n",
    "clf.fit(X, y)\n",
    "\n",
    "# print(clf.coef_)\n",
    "# print(clf.intercept_)\n"
   ]
  },
  {
   "cell_type": "code",
   "execution_count": 343,
   "id": "southwest-liver",
   "metadata": {
    "scrolled": true
   },
   "outputs": [
    {
     "name": "stdout",
     "output_type": "stream",
     "text": [
      "sensor1 .... Column: 0 .... 2.696971434046566e-07\n",
      "sensor2 .... Column: 1 .... -0.00016935344549287947\n",
      "sensor3 .... Column: 2 .... -0.00021372446690069447\n",
      "sensor4 .... Column: 3 .... -3.02427481132957e-05\n",
      "sensor15 .... Column: 14 .... -0.0066472205392485335\n",
      "sensor16 .... Column: 15 .... 0.0002417699711635772\n",
      "sensor22 .... Column: 21 .... 4.004518430103049e-05\n",
      "sensor23 .... Column: 22 .... -0.00011816323274499552\n",
      "sensor24 .... Column: 23 .... -1.6675441035985818e-06\n",
      "sensor25 .... Column: 24 .... -1.049747275424256e-06\n",
      "sensor33 .... Column: 32 .... 0.00591533257725548\n",
      "sensor34 .... Column: 33 .... 0.0006078297442631603\n",
      "sensor36 .... Column: 35 .... -0.001380968743058162\n",
      "sensor41 .... Column: 40 .... -0.0004906037297630629\n",
      "sensor46 .... Column: 45 .... 0.0012816762167643966\n",
      "sensor52 .... Column: 51 .... 9.793985994670073e-05\n",
      "sensor56 .... Column: 55 .... -7.222621528792458e-05\n",
      "sensor60 .... Column: 59 .... 0.01408553642903133\n",
      "sensor61 .... Column: 60 .... 0.00384907359672806\n",
      "sensor63 .... Column: 62 .... -0.0007834266574157437\n",
      "sensor65 .... Column: 64 .... 0.01747433463411831\n",
      "sensor67 .... Column: 66 .... 0.0043089737991621815\n",
      "sensor68 .... Column: 67 .... -0.0002238044248290507\n",
      "sensor69 .... Column: 68 .... -8.071951212043088e-05\n",
      "sensor71 .... Column: 70 .... -0.007437373911008466\n",
      "sensor72 .... Column: 71 .... 0.0007192794766393692\n",
      "sensor73 .... Column: 72 .... 0.0008551979575727557\n",
      "sensor89 .... Column: 88 .... 9.754341273992446e-05\n",
      "sensor91 .... Column: 90 .... -3.693924607449643e-05\n",
      "sensor116 .... Column: 115 .... -0.0001392111337644309\n",
      "sensor118 .... Column: 117 .... -0.00019679362756108086\n",
      "sensor130 .... Column: 129 .... 0.012891346841116508\n",
      "sensor134 .... Column: 133 .... 0.0024971628927240846\n",
      "sensor136 .... Column: 135 .... 1.5335038972591028e-05\n",
      "sensor137 .... Column: 136 .... -0.00020988230823424522\n",
      "sensor138 .... Column: 137 .... 0.0006644102679237684\n",
      "sensor139 .... Column: 138 .... 0.0005157069058765949\n",
      "sensor140 .... Column: 139 .... 0.0001357800318891325\n",
      "sensor141 .... Column: 140 .... 5.090368901490389e-05\n",
      "sensor149 .... Column: 148 .... -0.0011587330716718836\n",
      "sensor152 .... Column: 151 .... -0.0008260299542117049\n",
      "sensor153 .... Column: 152 .... -0.0017649868404802393\n",
      "sensor159 .... Column: 158 .... 0.00021437140782852254\n",
      "sensor160 .... Column: 159 .... 1.3853112676218525e-05\n",
      "sensor161 .... Column: 160 .... -1.8334442730919292e-05\n",
      "sensor162 .... Column: 161 .... -3.0052527675281528e-05\n",
      "sensor163 .... Column: 162 .... -1.2028638557128736e-05\n",
      "sensor181 .... Column: 180 .... -0.0005247758148028572\n",
      "sensor183 .... Column: 182 .... -0.004680092841144708\n",
      "sensor184 .... Column: 183 .... 0.00441849671449422\n",
      "sensor188 .... Column: 187 .... -0.0004632537691756243\n",
      "sensor198 .... Column: 197 .... 0.006238249067814802\n",
      "sensor201 .... Column: 200 .... 0.002292139148368171\n",
      "sensor203 .... Column: 202 .... -0.0010482152037040316\n",
      "sensor204 .... Column: 203 .... 0.0006595952125594079\n",
      "sensor205 .... Column: 204 .... -0.00011369481877525299\n",
      "sensor208 .... Column: 207 .... -0.005021360095209249\n",
      "sensor209 .... Column: 208 .... -0.0005365839447150561\n",
      "sensor224 .... Column: 223 .... -3.9915229186785096e-05\n",
      "sensor226 .... Column: 225 .... 1.3486623275399199e-05\n",
      "sensor251 .... Column: 250 .... -0.0012548008236332093\n",
      "sensor272 .... Column: 271 .... 0.0002211194969488604\n",
      "sensor273 .... Column: 272 .... -0.0016036327315874907\n",
      "sensor275 .... Column: 274 .... 2.6182981927735687e-06\n",
      "sensor294 .... Column: 293 .... -0.0003649822237786832\n",
      "sensor295 .... Column: 294 .... -0.000136199970109661\n",
      "sensor296 .... Column: 295 .... -5.8500672028716034e-05\n",
      "sensor297 .... Column: 296 .... 5.949758904684042e-05\n",
      "sensor298 .... Column: 297 .... 2.2782361019321415e-05\n",
      "sensor325 .... Column: 324 .... -0.0002782364304950496\n",
      "sensor336 .... Column: 335 .... -0.01149841987928637\n",
      "sensor341 .... Column: 340 .... 9.778866448989673e-05\n",
      "sensor347 .... Column: 346 .... 0.0004849278359660407\n",
      "sensor364 .... Column: 363 .... -0.00013537365457421595\n",
      "sensor389 .... Column: 388 .... 0.0039887243083181695\n",
      "sensor407 .... Column: 406 .... 0.007483134168185827\n",
      "sensor413 .... Column: 412 .... -0.001579315582395252\n",
      "sensor414 .... Column: 413 .... -0.0005948376529560478\n",
      "sensor416 .... Column: 415 .... -0.001554950335199458\n",
      "sensor419 .... Column: 418 .... -2.7851238414403845e-05\n",
      "sensor420 .... Column: 419 .... 2.758874230415707e-05\n",
      "sensor424 .... Column: 423 .... 0.0004513847994878203\n",
      "sensor426 .... Column: 425 .... 0.002915575010131509\n",
      "sensor429 .... Column: 428 .... -0.001251861906685182\n",
      "sensor431 .... Column: 430 .... 0.002778520386804198\n",
      "sensor432 .... Column: 431 .... 0.003347898592021583\n",
      "sensor433 .... Column: 432 .... -1.8992344818725077e-05\n",
      "sensor434 .... Column: 433 .... 6.529076804472686e-05\n",
      "sensor435 .... Column: 434 .... 0.0004093066875619556\n",
      "sensor437 .... Column: 436 .... -0.005186907245653667\n",
      "sensor438 .... Column: 437 .... 0.013124246064665269\n",
      "sensor439 .... Column: 438 .... 0.0007585413674474456\n",
      "sensor440 .... Column: 439 .... -0.000681881850368773\n",
      "sensor454 .... Column: 453 .... -0.003031602317129323\n",
      "sensor457 .... Column: 456 .... -0.0002888263629524441\n",
      "sensor461 .... Column: 460 .... 0.0023592080296827565\n",
      "sensor468 .... Column: 467 .... 0.0017489902566112817\n",
      "sensor469 .... Column: 468 .... 1.3010511749175292e-05\n",
      "sensor472 .... Column: 471 .... 0.008720449099962191\n",
      "sensor473 .... Column: 472 .... 0.0005167034935255574\n",
      "sensor474 .... Column: 473 .... 0.0001347920898490353\n",
      "sensor475 .... Column: 474 .... 0.00040584340479690083\n",
      "sensor477 .... Column: 476 .... -0.00014739508189897166\n",
      "sensor478 .... Column: 477 .... 0.007375805609997905\n",
      "sensor481 .... Column: 480 .... -8.523991910034523e-05\n",
      "sensor483 .... Column: 482 .... -6.02596763548078e-06\n",
      "sensor484 .... Column: 483 .... 4.385960515160918e-05\n",
      "sensor485 .... Column: 484 .... -0.00012286779082793965\n",
      "sensor486 .... Column: 485 .... -5.1352056850465205e-05\n",
      "sensor487 .... Column: 486 .... 6.77506933823406e-05\n",
      "sensor488 .... Column: 487 .... 3.8958088705025024e-05\n",
      "sensor489 .... Column: 488 .... -8.367551680154936e-05\n",
      "sensor490 .... Column: 489 .... 6.647117183273395e-05\n",
      "sensor491 .... Column: 490 .... -0.0005677586205572931\n",
      "sensor495 .... Column: 494 .... 0.0009445216498668746\n",
      "sensor497 .... Column: 496 .... -9.215099253689717e-05\n",
      "sensor500 .... Column: 499 .... -4.37498012730427e-05\n",
      "sensor501 .... Column: 500 .... 5.342485177219818e-05\n",
      "sensor511 .... Column: 510 .... 0.0007265904224319727\n",
      "sensor512 .... Column: 511 .... 8.367510777267719e-05\n",
      "sensor521 .... Column: 520 .... -0.0003152543869507493\n",
      "sensor522 .... Column: 521 .... 0.00016814127349592742\n",
      "sensor524 .... Column: 523 .... -0.0007046895565531302\n",
      "sensor526 .... Column: 525 .... -0.0011973357457117188\n",
      "sensor542 .... Column: 541 .... 0.004643769496805657\n",
      "sensor548 .... Column: 547 .... 0.0010740715435081296\n",
      "sensor549 .... Column: 548 .... -0.0026922472027801556\n",
      "sensor556 .... Column: 555 .... -0.00011359554689130127\n",
      "sensor558 .... Column: 557 .... 0.001765308425746513\n",
      "sensor562 .... Column: 561 .... 0.00020443582453533445\n",
      "sensor563 .... Column: 562 .... -0.0023269827232734897\n",
      "sensor570 .... Column: 569 .... 0.0012511931186451255\n",
      "sensor571 .... Column: 570 .... -0.00015127819715401655\n",
      "sensor573 .... Column: 572 .... 0.0005314710844757262\n",
      "sensor575 .... Column: 574 .... -0.0007885318351892008\n",
      "sensor578 .... Column: 577 .... -0.003093473576137773\n",
      "sensor582 .... Column: 581 .... -0.0001695136436510768\n",
      "sensor590 .... Column: 589 .... -2.191269245630124e-05\n"
     ]
    }
   ],
   "source": [
    "for i, val in enumerate(clf.coef_):\n",
    "    # print(i, val)\n",
    "    if str(abs(val)) != '0.0':\n",
    "        if df.columns[i] != 'class':\n",
    "            print (df.columns[i], \".... Column:\", i, \"....\", val)"
   ]
  },
  {
   "cell_type": "markdown",
   "id": "existing-hughes",
   "metadata": {},
   "source": [
    "Initial findings:"
   ]
  },
  {
   "cell_type": "markdown",
   "id": "quiet-algebra",
   "metadata": {},
   "source": [
    "This dataset shows serious class imbalance. Approximately 7% of the rows were of class \"1\" and the rest were \"-1\", which is why SMOTE was utilize to handle the imbalance. During data exploration, it was found that there were about even amounts of values for each of the \"TimeOfDay\" categories (Morning, Early Afternoon, Late Afternoon, and Evening). \n",
    "\n",
    "Lastly, the feature selection method applied to the dataset was the Embedded Method, specifically the LASSO method. A higher alpha value means a higher penalty for coefficients, and the more the coefficients will be closer to 0. With this information, I set the alpha = 0.025, and 19 of the original 591 attributes returned. They were:\n",
    "\n",
    "    - sensor15 .... Column: 14 .... -0.006140397488435855\n",
    "    - sensor22 .... Column: 21 .... 0.026310228829674553\n",
    "    - sensor34 .... Column: 33 .... 0.007243928685268307\n",
    "    - sensor60 .... Column: 59 .... 0.04550319677074833\n",
    "    - sensor65 .... Column: 64 .... 0.020407806037949273\n",
    "    - sensor76 .... Column: 75 .... 0.005114173133561314\n",
    "    - sensor104 .... Column: 103 .... 0.01962183029918629\n",
    "    - sensor115 .... Column: 114 .... 0.00865591331258631\n",
    "    - sensor122 .... Column: 121 .... 0.014536747850965488\n",
    "    - sensor130 .... Column: 129 .... 0.010400698849259718\n",
    "    - sensor131 .... Column: 130 .... 0.002875723555295411\n",
    "    - sensor282 .... Column: 281 .... -0.002810470537685449\n",
    "    - sensor317 .... Column: 316 .... -0.001413139161257039\n",
    "    - sensor349 .... Column: 348 .... 0.026488427956661325\n",
    "    - sensor432 .... Column: 431 .... 0.004292709581914159\n",
    "    - sensor438 .... Column: 437 .... 0.010047530783654396\n",
    "    - sensor456 .... Column: 455 .... 0.002102233413598377\n",
    "    - sensor485 .... Column: 484 .... -0.00025826101620221933\n",
    "    - sensor511 .... Column: 510 .... 0.01037155426838045\n",
    "\n",
    "\n",
    "It is difficult to make inferences about the sensor types, since there is little information of the different sensors - but it is going to be computationally easier for our models to work with 19 attributes now. "
   ]
  },
  {
   "cell_type": "markdown",
   "id": "front-spray",
   "metadata": {},
   "source": [
    "###  1. Build a simple neural networks model"
   ]
  },
  {
   "cell_type": "code",
   "execution_count": 344,
   "id": "ethical-armor",
   "metadata": {},
   "outputs": [
    {
     "data": {
      "text/html": [
       "<div>\n",
       "<style scoped>\n",
       "    .dataframe tbody tr th:only-of-type {\n",
       "        vertical-align: middle;\n",
       "    }\n",
       "\n",
       "    .dataframe tbody tr th {\n",
       "        vertical-align: top;\n",
       "    }\n",
       "\n",
       "    .dataframe thead th {\n",
       "        text-align: right;\n",
       "    }\n",
       "</style>\n",
       "<table border=\"1\" class=\"dataframe\">\n",
       "  <thead>\n",
       "    <tr style=\"text-align: right;\">\n",
       "      <th></th>\n",
       "      <th>sensor15</th>\n",
       "      <th>sensor22</th>\n",
       "      <th>sensor34</th>\n",
       "      <th>sensor60</th>\n",
       "      <th>sensor65</th>\n",
       "      <th>sensor76</th>\n",
       "      <th>sensor104</th>\n",
       "      <th>sensor115</th>\n",
       "      <th>sensor122</th>\n",
       "      <th>sensor130</th>\n",
       "      <th>...</th>\n",
       "      <th>sensor282</th>\n",
       "      <th>sensor317</th>\n",
       "      <th>sensor349</th>\n",
       "      <th>sensor432</th>\n",
       "      <th>sensor438</th>\n",
       "      <th>sensor456</th>\n",
       "      <th>sensor485</th>\n",
       "      <th>sensor511</th>\n",
       "      <th>class</th>\n",
       "      <th>timestamp</th>\n",
       "    </tr>\n",
       "  </thead>\n",
       "  <tbody>\n",
       "    <tr>\n",
       "      <th>0</th>\n",
       "      <td>7.9558</td>\n",
       "      <td>-5419.00</td>\n",
       "      <td>9.5126</td>\n",
       "      <td>-1.7264</td>\n",
       "      <td>21.7264</td>\n",
       "      <td>0.0126</td>\n",
       "      <td>-0.0042</td>\n",
       "      <td>0.0</td>\n",
       "      <td>15.88</td>\n",
       "      <td>-0.0473</td>\n",
       "      <td>...</td>\n",
       "      <td>0.0120</td>\n",
       "      <td>6.2698</td>\n",
       "      <td>0.0215</td>\n",
       "      <td>33.1562</td>\n",
       "      <td>3.1136</td>\n",
       "      <td>2.3106</td>\n",
       "      <td>494.6996</td>\n",
       "      <td>64.6707</td>\n",
       "      <td>0</td>\n",
       "      <td>2008-07-19 11:55:00</td>\n",
       "    </tr>\n",
       "    <tr>\n",
       "      <th>1</th>\n",
       "      <td>10.1548</td>\n",
       "      <td>-5441.50</td>\n",
       "      <td>9.7997</td>\n",
       "      <td>0.8073</td>\n",
       "      <td>19.1927</td>\n",
       "      <td>-0.0039</td>\n",
       "      <td>-0.0045</td>\n",
       "      <td>0.0</td>\n",
       "      <td>15.88</td>\n",
       "      <td>-0.0946</td>\n",
       "      <td>...</td>\n",
       "      <td>0.0154</td>\n",
       "      <td>5.6522</td>\n",
       "      <td>0.0142</td>\n",
       "      <td>2.2655</td>\n",
       "      <td>3.2153</td>\n",
       "      <td>2.2568</td>\n",
       "      <td>0.0000</td>\n",
       "      <td>141.4365</td>\n",
       "      <td>0</td>\n",
       "      <td>2008-07-19 12:32:00</td>\n",
       "    </tr>\n",
       "    <tr>\n",
       "      <th>2</th>\n",
       "      <td>9.5157</td>\n",
       "      <td>-5447.75</td>\n",
       "      <td>8.6590</td>\n",
       "      <td>23.8245</td>\n",
       "      <td>16.1755</td>\n",
       "      <td>-0.0078</td>\n",
       "      <td>-0.0026</td>\n",
       "      <td>0.0</td>\n",
       "      <td>15.90</td>\n",
       "      <td>-0.1892</td>\n",
       "      <td>...</td>\n",
       "      <td>0.0157</td>\n",
       "      <td>5.7247</td>\n",
       "      <td>0.0105</td>\n",
       "      <td>29.1663</td>\n",
       "      <td>3.1281</td>\n",
       "      <td>3.1182</td>\n",
       "      <td>0.0000</td>\n",
       "      <td>240.7767</td>\n",
       "      <td>1</td>\n",
       "      <td>2008-07-19 13:17:00</td>\n",
       "    </tr>\n",
       "    <tr>\n",
       "      <th>3</th>\n",
       "      <td>9.6052</td>\n",
       "      <td>-5468.25</td>\n",
       "      <td>8.6789</td>\n",
       "      <td>24.3791</td>\n",
       "      <td>15.6209</td>\n",
       "      <td>-0.0555</td>\n",
       "      <td>-0.0059</td>\n",
       "      <td>0.0</td>\n",
       "      <td>15.55</td>\n",
       "      <td>0.2838</td>\n",
       "      <td>...</td>\n",
       "      <td>0.0172</td>\n",
       "      <td>5.4440</td>\n",
       "      <td>0.0407</td>\n",
       "      <td>13.4051</td>\n",
       "      <td>2.7013</td>\n",
       "      <td>3.0744</td>\n",
       "      <td>305.7500</td>\n",
       "      <td>113.5593</td>\n",
       "      <td>0</td>\n",
       "      <td>2008-07-19 14:43:00</td>\n",
       "    </tr>\n",
       "    <tr>\n",
       "      <th>4</th>\n",
       "      <td>10.5661</td>\n",
       "      <td>-5476.25</td>\n",
       "      <td>8.7677</td>\n",
       "      <td>-12.2945</td>\n",
       "      <td>32.2945</td>\n",
       "      <td>-0.0534</td>\n",
       "      <td>-0.0045</td>\n",
       "      <td>0.0</td>\n",
       "      <td>15.75</td>\n",
       "      <td>-0.5677</td>\n",
       "      <td>...</td>\n",
       "      <td>0.0163</td>\n",
       "      <td>4.8956</td>\n",
       "      <td>0.0246</td>\n",
       "      <td>10.7390</td>\n",
       "      <td>6.2069</td>\n",
       "      <td>4.7756</td>\n",
       "      <td>461.8619</td>\n",
       "      <td>148.0663</td>\n",
       "      <td>0</td>\n",
       "      <td>2008-07-19 15:22:00</td>\n",
       "    </tr>\n",
       "  </tbody>\n",
       "</table>\n",
       "<p>5 rows × 21 columns</p>\n",
       "</div>"
      ],
      "text/plain": [
       "   sensor15  sensor22  sensor34  sensor60  sensor65  sensor76  sensor104  \\\n",
       "0    7.9558  -5419.00    9.5126   -1.7264   21.7264    0.0126    -0.0042   \n",
       "1   10.1548  -5441.50    9.7997    0.8073   19.1927   -0.0039    -0.0045   \n",
       "2    9.5157  -5447.75    8.6590   23.8245   16.1755   -0.0078    -0.0026   \n",
       "3    9.6052  -5468.25    8.6789   24.3791   15.6209   -0.0555    -0.0059   \n",
       "4   10.5661  -5476.25    8.7677  -12.2945   32.2945   -0.0534    -0.0045   \n",
       "\n",
       "   sensor115  sensor122  sensor130  ...  sensor282  sensor317  sensor349  \\\n",
       "0        0.0      15.88    -0.0473  ...     0.0120     6.2698     0.0215   \n",
       "1        0.0      15.88    -0.0946  ...     0.0154     5.6522     0.0142   \n",
       "2        0.0      15.90    -0.1892  ...     0.0157     5.7247     0.0105   \n",
       "3        0.0      15.55     0.2838  ...     0.0172     5.4440     0.0407   \n",
       "4        0.0      15.75    -0.5677  ...     0.0163     4.8956     0.0246   \n",
       "\n",
       "   sensor432  sensor438  sensor456  sensor485  sensor511  class  \\\n",
       "0    33.1562     3.1136     2.3106   494.6996    64.6707      0   \n",
       "1     2.2655     3.2153     2.2568     0.0000   141.4365      0   \n",
       "2    29.1663     3.1281     3.1182     0.0000   240.7767      1   \n",
       "3    13.4051     2.7013     3.0744   305.7500   113.5593      0   \n",
       "4    10.7390     6.2069     4.7756   461.8619   148.0663      0   \n",
       "\n",
       "            timestamp  \n",
       "0 2008-07-19 11:55:00  \n",
       "1 2008-07-19 12:32:00  \n",
       "2 2008-07-19 13:17:00  \n",
       "3 2008-07-19 14:43:00  \n",
       "4 2008-07-19 15:22:00  \n",
       "\n",
       "[5 rows x 21 columns]"
      ]
     },
     "execution_count": 344,
     "metadata": {},
     "output_type": "execute_result"
    }
   ],
   "source": [
    "## Making additional copy in case it's needed for future models \n",
    "df3 = df2\n",
    "\n",
    "## Only including features identified in feature selection process\n",
    "\n",
    "for each in df2.columns:\n",
    "    if each not in ['sensor15', 'sensor22','sensor34','sensor60','sensor65','sensor76','sensor104','sensor115',\n",
    "             'sensor122','sensor130','sensor131','sensor282','sensor317','sensor349','sensor432','sensor438',\n",
    "             'sensor456','sensor485','sensor511', 'timestamp', 'class']:\n",
    "        df2 = df2.drop(columns=each)\n",
    "        \n",
    "        \n",
    "df2.head()"
   ]
  },
  {
   "cell_type": "code",
   "execution_count": 345,
   "id": "buried-cosmetic",
   "metadata": {},
   "outputs": [],
   "source": [
    "X = df2.loc[:, ['sensor15', 'sensor22','sensor34','sensor60','sensor65','sensor76','sensor104','sensor115',\n",
    "             'sensor122','sensor130','sensor131','sensor282','sensor317','sensor349','sensor432','sensor438',\n",
    "             'sensor456','sensor485','sensor511']]\n",
    "y = df2.loc[:, 'class']\n",
    "\n",
    "\n",
    "## Splitting Training and Testing Data\n",
    "x_train, x_test, y_train, y_test = train_test_split (X,\n",
    "                                                     y,\n",
    "                                                     test_size = 0.15,\n",
    "                                                     random_state = 123)\n",
    "\n",
    "## Feature Scaling with StandardScaler \n",
    "scaler = StandardScaler()\n",
    "scaler.fit(x_train)\n",
    "\n",
    "x_train = scaler.transform(x_train)\n",
    "x_test = scaler.transform(x_test)\n",
    "\n",
    "\n",
    "## Loading SMOTE Package \n",
    "from imblearn.over_sampling import SMOTE \n",
    "sm = SMOTE(random_state = 111)\n",
    "\n",
    "X_res, y_res = sm.fit_resample(x_train, y_train)\n",
    "\n"
   ]
  },
  {
   "cell_type": "code",
   "execution_count": 346,
   "id": "olive-exercise",
   "metadata": {},
   "outputs": [
    {
     "name": "stdout",
     "output_type": "stream",
     "text": [
      "[[212   9]\n",
      " [ 10   5]]\n",
      "              precision    recall  f1-score   support\n",
      "\n",
      "           0       0.95      0.96      0.96       221\n",
      "           1       0.36      0.33      0.34        15\n",
      "\n",
      "    accuracy                           0.92       236\n",
      "   macro avg       0.66      0.65      0.65       236\n",
      "weighted avg       0.92      0.92      0.92       236\n",
      "\n"
     ]
    }
   ],
   "source": [
    "## Utilizing sklearn MLP (Multi-layer Perceptron) for this\n",
    "from sklearn.neural_network import MLPClassifier\n",
    "from sklearn.metrics import classification_report, confusion_matrix\n",
    "from random import seed\n",
    "seed(123)\n",
    "\n",
    "## Calling on MLPClassifier \n",
    "mlp = MLPClassifier(hidden_layer_sizes=(30, 30, 30), max_iter=1000, random_state=123)\n",
    "\n",
    "## Fitting MLPClassifier with Training Data \n",
    "mlp.fit(X_res, y_res)\n",
    "\n",
    "## Making Predictions with MLPClassifier \n",
    "predictions = mlp.predict(x_test)\n",
    "\n",
    "## Printing Out Accuracy of Quality Classification \n",
    "print(confusion_matrix(y_test, predictions))\n",
    "print(classification_report(y_test, predictions))\n"
   ]
  },
  {
   "cell_type": "markdown",
   "id": "atomic-quality",
   "metadata": {},
   "source": [
    "###   2. Build a DNN model"
   ]
  },
  {
   "cell_type": "code",
   "execution_count": 347,
   "id": "weighted-peace",
   "metadata": {},
   "outputs": [
    {
     "name": "stdout",
     "output_type": "stream",
     "text": [
      "Epoch 1/8\n",
      "78/78 [==============================] - 1s 2ms/step - loss: 3.3356 - accuracy: 0.4979\n",
      "Epoch 2/8\n",
      "78/78 [==============================] - 0s 3ms/step - loss: 0.7441 - accuracy: 0.6519\n",
      "Epoch 3/8\n",
      "78/78 [==============================] - 0s 5ms/step - loss: 0.7964 - accuracy: 0.6880\n",
      "Epoch 4/8\n",
      "78/78 [==============================] - 0s 4ms/step - loss: 0.6977 - accuracy: 0.6665: 0s - loss: 0.7243 - accura\n",
      "Epoch 5/8\n",
      "78/78 [==============================] - 0s 5ms/step - loss: 0.5631 - accuracy: 0.7039: 0s - loss: 0.5640 - accuracy: 0.\n",
      "Epoch 6/8\n",
      "78/78 [==============================] - ETA: 0s - loss: 0.5744 - accuracy: 0.75 - 0s 4ms/step - loss: 0.5760 - accuracy: 0.7516\n",
      "Epoch 7/8\n",
      "78/78 [==============================] - 0s 2ms/step - loss: 0.6343 - accuracy: 0.7524\n",
      "Epoch 8/8\n",
      "78/78 [==============================] - 0s 2ms/step - loss: 0.5500 - accuracy: 0.7716\n"
     ]
    },
    {
     "data": {
      "text/plain": [
       "<tensorflow.python.keras.callbacks.History at 0x7fca98889a00>"
      ]
     },
     "execution_count": 347,
     "metadata": {},
     "output_type": "execute_result"
    }
   ],
   "source": [
    "import tensorflow as tf\n",
    "from tensorflow import keras\n",
    "\n",
    "seed(123)\n",
    "\n",
    "model = keras.Sequential([\n",
    "    keras.layers.Dense(16, activation=tf.nn.relu), # Input Layer\n",
    "    keras.layers.Dense(120, activation=tf.nn.relu), # Hidden Layer\n",
    "    keras.layers.Dense(10) # Output Layer \n",
    "])\n",
    "\n",
    "\n",
    "model.compile(optimizer='adam', \n",
    "              loss='sparse_categorical_crossentropy',\n",
    "              metrics=['accuracy'])\n",
    "\n",
    "\n",
    "model.fit(X_res, y_res, epochs=8)\n",
    "\n",
    "\n",
    "# test_loss, test_acc = model.evaluate(x_test, y_test)\n",
    "# print('Test accuracy:', test_acc)\n"
   ]
  },
  {
   "cell_type": "code",
   "execution_count": 348,
   "id": "fallen-movement",
   "metadata": {},
   "outputs": [
    {
     "name": "stdout",
     "output_type": "stream",
     "text": [
      "8/8 [==============================] - 0s 3ms/step - loss: 0.8470 - accuracy: 0.7203\n",
      "Test accuracy: 0.7203390002250671\n"
     ]
    }
   ],
   "source": [
    "test_loss, test_acc = model.evaluate(x_test, y_test)\n",
    "\n",
    "print('Test accuracy:', test_acc)"
   ]
  },
  {
   "cell_type": "markdown",
   "id": "placed-filing",
   "metadata": {},
   "source": [
    "###   3. Build a RNN model"
   ]
  },
  {
   "cell_type": "markdown",
   "id": "dominican-interface",
   "metadata": {},
   "source": [
    "Generating new X and y variables since I am including timestamp column to the RNN model "
   ]
  },
  {
   "cell_type": "code",
   "execution_count": 349,
   "id": "monetary-postage",
   "metadata": {},
   "outputs": [],
   "source": [
    "X = df2.loc[:, ['sensor15', 'sensor22','sensor34','sensor60','sensor65','sensor76','sensor104','sensor115',\n",
    "             'sensor122','sensor130','sensor131','sensor282','sensor317','sensor349','sensor432','sensor438',\n",
    "             'sensor456','sensor485','sensor511', 'timestamp']]\n",
    "y = df2.loc[:, 'class']\n",
    "\n",
    "## Making the timestamp the index in the dataset \n",
    "X.loc[:, \"timestamp\"] = pd.to_datetime(X.loc[:, \"timestamp\"])\n",
    "X.index=pd.DatetimeIndex(data=X.loc[:, \"timestamp\"], freq = 'infer')\n",
    "# print(X.head())\n",
    "\n",
    "X = X.drop(columns=\"timestamp\")\n",
    "\n",
    "\n",
    "## Splitting Training and Testing Data\n",
    "x_train, x_test, y_train, y_test = train_test_split (X,\n",
    "                                                     y,\n",
    "                                                     test_size = 0.15,\n",
    "                                                     random_state = 123)\n"
   ]
  },
  {
   "cell_type": "code",
   "execution_count": 350,
   "id": "conventional-professor",
   "metadata": {
    "scrolled": false
   },
   "outputs": [],
   "source": [
    "## Feature Scaling with StandardScaler \n",
    "scaler = StandardScaler()\n",
    "scaler.fit(x_train)\n",
    "\n",
    "x_train = scaler.transform(x_train)\n",
    "x_test = scaler.transform(x_test)\n",
    "\n",
    "\n",
    "## Ensuring the float type is enforced for the columns \n",
    "x_train = np.array(x_train, dtype=np.float)\n",
    "x_test = np.array(x_test, dtype=np.float)\n",
    "    "
   ]
  },
  {
   "cell_type": "code",
   "execution_count": 351,
   "id": "auburn-picnic",
   "metadata": {},
   "outputs": [],
   "source": [
    "# print(len(x_test[0]),  # 236, 19\n",
    "# len(x_train[0]),  # 1331, 19 \n",
    "# len(X_res[0])) # 2484, 19 "
   ]
  },
  {
   "cell_type": "code",
   "execution_count": 352,
   "id": "awful-vulnerability",
   "metadata": {},
   "outputs": [
    {
     "name": "stdout",
     "output_type": "stream",
     "text": [
      "Model: \"sequential_81\"\n",
      "_________________________________________________________________\n",
      "Layer (type)                 Output Shape              Param #   \n",
      "=================================================================\n",
      "lstm_53 (LSTM)               (None, 100)               48000     \n",
      "_________________________________________________________________\n",
      "dense_127 (Dense)            (None, 1)                 101       \n",
      "=================================================================\n",
      "Total params: 48,101\n",
      "Trainable params: 48,101\n",
      "Non-trainable params: 0\n",
      "_________________________________________________________________\n",
      "None\n",
      "Epoch 1/5\n",
      "42/42 [==============================] - 4s 31ms/step - loss: 0.2406 - accuracy: 0.6438 - val_loss: 0.1860 - val_accuracy: 0.9364\n",
      "Epoch 2/5\n",
      "42/42 [==============================] - 1s 15ms/step - loss: 0.1712 - accuracy: 0.9218 - val_loss: 0.1199 - val_accuracy: 0.9364\n",
      "Epoch 3/5\n",
      "42/42 [==============================] - 0s 8ms/step - loss: 0.1091 - accuracy: 0.9356 - val_loss: 0.0803 - val_accuracy: 0.9364\n",
      "Epoch 4/5\n",
      "42/42 [==============================] - 0s 6ms/step - loss: 0.0726 - accuracy: 0.9407 - val_loss: 0.0658 - val_accuracy: 0.9364\n",
      "Epoch 5/5\n",
      "42/42 [==============================] - 0s 6ms/step - loss: 0.0633 - accuracy: 0.9372 - val_loss: 0.0610 - val_accuracy: 0.9364\n"
     ]
    },
    {
     "data": {
      "text/plain": [
       "<tensorflow.python.keras.callbacks.History at 0x7fca9fe4f130>"
      ]
     },
     "execution_count": 352,
     "metadata": {},
     "output_type": "execute_result"
    }
   ],
   "source": [
    "## Construct our model \n",
    "x_train = x_train.reshape(-1, 1, 19)\n",
    "x_test  = x_test.reshape(-1, 1, 19)\n",
    "y_train = y_train.values.reshape(-1, 1, 1)\n",
    "y_test = y_test.values.reshape(-1, 1, 1)\n",
    "\n",
    "\n",
    "model3 = keras.models.Sequential()\n",
    "model3.add(keras.layers.LSTM(100, input_shape=(1, 19), activation=\"relu\"))\n",
    "model3.add(keras.layers.Dense(1, activation='sigmoid'))\n",
    "\n",
    "model3.compile(loss='mse', optimizer='adam', metrics=['accuracy'])\n",
    "print(model3.summary())\n",
    "\n",
    "model3.fit(x_train, y_train, validation_data=(x_test, y_test), epochs=5, batch_size=32)"
   ]
  },
  {
   "cell_type": "code",
   "execution_count": 353,
   "id": "billion-yemen",
   "metadata": {},
   "outputs": [
    {
     "name": "stdout",
     "output_type": "stream",
     "text": [
      "Accuracy: 93.64%\n"
     ]
    }
   ],
   "source": [
    "# Evaluate model #3\n",
    "scores = model3.evaluate(x_test, y_test, verbose=0)\n",
    "print(\"Accuracy: %.2f%%\" % (scores[1]*100))"
   ]
  },
  {
   "cell_type": "markdown",
   "id": "meaningful-kelly",
   "metadata": {},
   "source": [
    "###   4. Summarize your findings with examples.  Explain what the manufacturer should focus on to optimize the diaper manufacturing process."
   ]
  },
  {
   "cell_type": "markdown",
   "id": "fresh-laptop",
   "metadata": {},
   "source": [
    "For the simple neural network, I used the MLPClassifier from sklearn. I did not include the timestamp column, and I limited the columns to the features identified by the LASSO embed method. There were 3 hidden layers, each with 30 nodes, and 100 iterations. This method provided an overall accuracy score of 92%. Even though the class imbalance was addressed with the SMOTE method, the F1-score for the binary classes differentiate (96% for class 0, 34% for class 1). The average F1-score was 65%. \n",
    "\n",
    "For the DNN model, there were 3 layers, 120 inputs in the hidden layer, the adam optimizer, loss was set to sparse categorical cross entropy, and there were 8 epochs. The last epoch accuracy was 77.16%, and the testing accuracy is 72.03%. Since the testing accuracy is lower by about 5%, there is a chance that the model has overfitted to the training data. \n",
    "\n",
    "Lastly, the RNN model was the only model to include the timestamp column. The activation function was set to sigmoid, the loss function was mse, the optimizer was adam, and there were 5 epochs specified. This model produced the highest accuracy out of all three models and it was 93.64%."
   ]
  },
  {
   "cell_type": "markdown",
   "id": "peaceful-gregory",
   "metadata": {},
   "source": [
    "###   5. Solicit specific feedback on your code (instructions below)."
   ]
  },
  {
   "cell_type": "markdown",
   "id": "published-admission",
   "metadata": {},
   "source": [
    "1) How do you sucessfully standardize/normalize the data when you have timestamp column?\n",
    "\n",
    "2) How do you successfully handle class imbalance with SMOTE method when you have a timestamp column?"
   ]
  },
  {
   "cell_type": "code",
   "execution_count": null,
   "id": "operational-stand",
   "metadata": {},
   "outputs": [],
   "source": []
  },
  {
   "cell_type": "code",
   "execution_count": null,
   "id": "graduate-interview",
   "metadata": {},
   "outputs": [],
   "source": []
  }
 ],
 "metadata": {
  "kernelspec": {
   "display_name": "Python 3",
   "language": "python",
   "name": "python3"
  },
  "language_info": {
   "codemirror_mode": {
    "name": "ipython",
    "version": 3
   },
   "file_extension": ".py",
   "mimetype": "text/x-python",
   "name": "python",
   "nbconvert_exporter": "python",
   "pygments_lexer": "ipython3",
   "version": "3.8.5"
  }
 },
 "nbformat": 4,
 "nbformat_minor": 5
}
