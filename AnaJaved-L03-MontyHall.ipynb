{
 "cells": [
  {
   "cell_type": "markdown",
   "metadata": {},
   "source": [
    "# Lesson 3 Assignment - Monty Hall Simulation\n",
    "## Author - Ana Javed"
   ]
  },
  {
   "cell_type": "markdown",
   "metadata": {},
   "source": [
    "### Instructions\n",
    "Simulate the conditional probabilities of the distributions for winning a car vs. a goat for the Monty Hall Problem that includes the following:\n",
    "1. the cases for switching or not switching\n",
    "2. histograms and summary statistics (at least mean and variance) of the results for winning the car or a goat for both strategies: switching or not switching\n",
    "3. comparison of the cases to determine the best strategy\n",
    "4. recommended strategy\n",
    "\n"
   ]
  },
  {
   "cell_type": "markdown",
   "metadata": {},
   "source": [
    "#### Note: \n",
    "Please clearly outline the results and your recommendation with markdown text. Be sure your discussion includes narrative for your figures and tables so it is clear to the reader the importance of each bit of evidence."
   ]
  },
  {
   "cell_type": "code",
   "execution_count": 1,
   "metadata": {},
   "outputs": [],
   "source": [
    "# Import libraries that may be used for this assignment: \n",
    "from __future__ import division \n",
    "\n",
    "import numpy\n",
    "import pandas\n",
    "import scipy\n",
    "import scipy.stats\n",
    "from matplotlib import pyplot\n",
    "import seaborn\n",
    "import random\n",
    "\n",
    "# Configuring plot visualization\n",
    "seaborn.set_palette('muted')\n",
    "seaborn.set_style('ticks')\n",
    "%matplotlib inline\n",
    "\n",
    "# Creating a Dataframe where simulation samples will be appended to! \n",
    "combined_results_df = pandas.DataFrame(\n",
    "    columns = ['Door', 'Starting_Probability', 'Contains', \n",
    "               'Door_desc', 'Win_Car','Total_Probability', 'Players_Choice'])\n"
   ]
  },
  {
   "cell_type": "code",
   "execution_count": 2,
   "metadata": {},
   "outputs": [],
   "source": [
    "# Simulating 2000 samples of the Monty Hall Game \n",
    "for i in range (0, 2000, 1):\n",
    "    \n",
    "    # Setting seed for reproducibility\n",
    "    random.seed(i)\n",
    "    \n",
    "    # Establishing options for doors & switching \n",
    "    first_door_options = ['door1', 'door2', 'door3']\n",
    "    first_remaining_options = ['door1', 'door2', 'door3']\n",
    "    second_choice = ['stay', 'change']\n",
    "\n",
    "    ## Setting Up Dataframe, placing standard values in for each door as a placeholder. \n",
    "    # Most of these columns will be updated below: \n",
    "    door_probabilities = {}\n",
    "    door_probabilities[\"Door\"] = first_door_options\n",
    "    door_probabilities[\"Starting_Probability\"] = [(1/3), (1/3), (1/3)]\n",
    "    door_probabilities[\"Contains\"] = ['goat', 'goat','goat']\n",
    "    door_probabilities[\"Door_desc\"] = ['choice', 'choice','choice']\n",
    "    door_probabilities[\"Win_Car\"] = ['no', 'no', 'no']\n",
    "    door_probabilities[\"Total_Probability\"] = [(1/3), (1/3), (1/3)]\n",
    "    door_probabilities[\"Players_Choice\"] = ['change', 'change', 'change']\n",
    "        \n",
    "    door_probabilities = pandas.DataFrame(door_probabilities) # Creating sample DF \n",
    "    \n",
    "    ## Randomizing which door the Contestant Chooses, and which one has the car\n",
    "    first_door_choice = random.choice(first_door_options)  \n",
    "    car_behind_door = random.choice(first_door_options)   \n",
    "    first_remaining_options.remove(first_door_choice) # Removing the Player's first Door Choice\n",
    "\n",
    "    # Randomizing Which Door Monte Chooses, adjusting/switching if the door chosen is a car! \n",
    "    Monte_reveal = random.choice(first_remaining_options) \n",
    "\n",
    "    if Monte_reveal == car_behind_door:\n",
    "        choice_change = first_remaining_options\n",
    "        choice_change.remove(car_behind_door)\n",
    "        Monte_reveal = random.choice(choice_change)\n",
    "\n",
    "    # Assigning to a variable Which Door has the Car \n",
    "    Is_car = door_probabilities.loc[:, 'Door' ] == car_behind_door\n",
    "    door_probabilities.loc[Is_car,'Contains'] = 'car'\n",
    "\n",
    "    #  Assigning to a variable Which Door Monte Reveals \n",
    "    Is_monte_reveal = door_probabilities.loc[:, 'Door' ] == Monte_reveal\n",
    "    door_probabilities.loc[Is_monte_reveal,'Door_desc'] = 'Monte_Reveals'\n",
    "\n",
    "    # Assigning to a variable Door Player Chooses first \n",
    "    Is_players_first_choice = door_probabilities.loc[:, 'Door' ] == first_door_choice\n",
    "    door_probabilities.loc[Is_players_first_choice,'Door_desc'] = 'Player_First_Choice'\n",
    "\n",
    "    # Randomizing the Contestants Choice of Staying/Changing\n",
    "    players_choice_after_reveal = random.choice(second_choice)  \n",
    "    \n",
    "    # Defaulting this variable to no. Will reassign it if Player stays/change their door: \n",
    "    win = 'no'\n",
    "\n",
    "    # Updating Total Probabilities \n",
    "\n",
    "    if (first_door_choice == car_behind_door):\n",
    "        first_choice_array = door_probabilities.loc[:, 'Door'] == first_door_choice\n",
    "        door_probabilities.loc[first_choice_array,'Total_Probability'] = (1/3) * (1/2)  # Door Probability\n",
    "\n",
    "        if players_choice_after_reveal == 'stay': # Updating win to \"Yes\" if player stays on their door \n",
    "            win = 'yes'\n",
    "\n",
    "    if (first_door_choice != car_behind_door):\n",
    "        first_choice_array = door_probabilities.loc[:, 'Door'] == first_door_choice\n",
    "        door_probabilities.loc[first_choice_array,'Total_Probability'] = (1/3) * (1)    # Door Probability\n",
    "\n",
    "        if players_choice_after_reveal == 'change': # Updating win to \"Yes\" if player stays on their door \n",
    "            win = 'yes'\n",
    "            \n",
    "    # Updating Dataframe to capture Whether A Contestant Won after 2nd Decision \n",
    "    Is_players_first_choice = door_probabilities.loc[:, 'Door' ] == first_door_choice # Boolean array \n",
    "    door_probabilities.loc[Is_players_first_choice,'Win_Car'] = win\n",
    "\n",
    "    \n",
    "    # Updating Dataframe to capture Player's Choice to Stay or Change \n",
    "    door_probabilities.loc[first_choice_array,\"Players_Choice\"]  = players_choice_after_reveal # Did Player change or stay? \n",
    "    \n",
    "\n",
    "    ## Adding contestants result back to the main DF \n",
    "    combined_results_df = combined_results_df.append(door_probabilities.loc[first_choice_array,:] , ignore_index = True) \n",
    "\n"
   ]
  },
  {
   "cell_type": "code",
   "execution_count": 3,
   "metadata": {},
   "outputs": [],
   "source": [
    "######### Conducting some additional validation on result counts and data output: \n",
    "\n",
    "# print(combined_results_df.head(100))  # Top 100 rows \n",
    "\n",
    "# print(combined_results_df.loc[:, 'Win_Car'].value_counts())  # Distinct Value Counts of Win/Losses \n",
    "# print(combined_results_df.loc[:, 'Players_Choice'].value_counts()) # Distinct Value Counts of Staying/Changing Choices\n",
    "# print(combined_results_df.loc[:, 'Total_Probability'].value_counts()) # Distinct Value Counts of Total Probability \n"
   ]
  },
  {
   "cell_type": "code",
   "execution_count": 4,
   "metadata": {},
   "outputs": [
    {
     "data": {
      "image/png": "[encoded data removed]",
      "text/plain": [
       "<Figure size 504x288 with 1 Axes>"
      ]
     },
     "metadata": {
      "needs_background": "light"
     },
     "output_type": "display_data"
    }
   ],
   "source": [
    "# Separating Datasets between Contestant Switching and Not Switching: For Histogram Below\n",
    "Switching = (combined_results_df.loc[(combined_results_df.loc[:, 'Players_Choice'] == 'change'),:]) # All rows where player changed\n",
    "No_switching = (combined_results_df.loc[(combined_results_df.loc[:, 'Players_Choice'] == 'stay'),:]) # All rows where player didn't change\n",
    "                                          \n",
    "                                     \n",
    "## Only wanting instances where Contestant Did win                                     \n",
    "Switching_win = (Switching.loc[(Switching.loc[:, 'Win_Car'] == 'yes'),:]) # All wins from Switchings\n",
    "No_switching_win = (No_switching.loc[(No_switching.loc[:, 'Win_Car'] == 'yes'),:]) # All wins from not switching\n",
    "\n",
    "\n",
    "## Winning the Car Probabilities based on Action: \n",
    "\n",
    "pyplot.figure(figsize=(7, 4))\n",
    "pyplot.hist(data=Switching_win, x='Total_Probability', label = 'Switching', edgecolor='black')\n",
    "pyplot.hist(data=No_switching_win, x='Total_Probability', label = 'No switching', edgecolor='black')\n",
    "pyplot.legend()\n",
    "pyplot.xlabel('Total Probabilities')\n",
    "pyplot.ylabel('Count')\n",
    "pyplot.title('Histogram of Winning Samples Probabilities')\n",
    "pyplot.xlim(-0.1, 0.6)\n",
    "pyplot.grid(True)\n",
    "pyplot.show()"
   ]
  },
  {
   "cell_type": "code",
   "execution_count": 5,
   "metadata": {},
   "outputs": [
    {
     "data": {
      "image/png": "[encoded data removed]",
      "text/plain": [
       "<Figure size 504x288 with 1 Axes>"
      ]
     },
     "metadata": {
      "needs_background": "light"
     },
     "output_type": "display_data"
    }
   ],
   "source": [
    "## Car/Goat Probabilities for Switching \n",
    "\n",
    "                                     \n",
    "## Only wanting instances of car vs goat                                   \n",
    "# Switching_win = (Switching.loc[(Switching.loc[:, 'Win_Car'] == 'yes'),:])\n",
    "\n",
    "Switching_goat = (Switching.loc[(Switching.loc[:, 'Contains'] == 'goat'),:])\n",
    "Switching_car = (Switching.loc[(Switching.loc[:, 'Contains'] == 'car'),:])\n",
    "\n",
    "\n",
    "Switching_goat_win = Switching_goat.loc[Switching_goat.loc[:, \"Win_Car\"] == 'yes', :]\n",
    "Switching_goat_lose = Switching_goat.loc[Switching_goat.loc[:, \"Win_Car\"] == 'no', :]\n",
    "\n",
    "Switching_car_win = Switching_car.loc[Switching_car.loc[:, \"Win_Car\"] == 'yes', :]\n",
    "Switching_car_lose =  Switching_car.loc[Switching_car.loc[:, \"Win_Car\"] == 'no', :]\n",
    "    \n",
    "\n",
    "# print(Switching_goat.head())\n",
    "\n",
    "pyplot.figure(figsize=(7, 4))\n",
    "pyplot.hist(data=Switching_goat_win, x='Total_Probability', label = 'Goat - Win', edgecolor='black')\n",
    "pyplot.hist(data=Switching_goat_lose, x='Total_Probability', label = 'Goat - Lose', edgecolor='black')\n",
    "\n",
    "pyplot.hist(data=Switching_car_win, x='Total_Probability', label = 'Car - Win', edgecolor='black')\n",
    "pyplot.hist(data=Switching_car_lose, x='Total_Probability', label = 'Car - Lose', edgecolor='black')\n",
    "pyplot.legend()\n",
    "pyplot.xlabel('Total Probabilities')\n",
    "pyplot.ylabel('Count')\n",
    "pyplot.title('Histogram of Switching from Original Choice')\n",
    "pyplot.xlim(-0.1, 0.6)\n",
    "pyplot.grid(True)\n",
    "pyplot.show()"
   ]
  },
  {
   "cell_type": "code",
   "execution_count": 6,
   "metadata": {},
   "outputs": [
    {
     "data": {
      "image/png": "[encoded data removed]",
      "text/plain": [
       "<Figure size 504x288 with 1 Axes>"
      ]
     },
     "metadata": {
      "needs_background": "light"
     },
     "output_type": "display_data"
    }
   ],
   "source": [
    "## Car/Goat Probabilities for Not Switching \n",
    "\n",
    "No_switching_goat = (No_switching.loc[(No_switching.loc[:, 'Contains'] == 'goat'),:])\n",
    "No_switching_car = (No_switching.loc[(No_switching.loc[:, 'Contains'] == 'car'),:])\n",
    "\n",
    "No_switching_goat_win = No_switching_goat.loc[No_switching_goat.loc[:, \"Win_Car\"] == 'yes', :]\n",
    "No_switching_goat_lose = No_switching_goat.loc[No_switching_goat.loc[:, \"Win_Car\"] == 'no', :]\n",
    "\n",
    "No_switching_car_win = No_switching_car.loc[No_switching_car.loc[:, \"Win_Car\"] == 'yes', :]\n",
    "No_switching_car_lose =  No_switching_car.loc[No_switching_car.loc[:, \"Win_Car\"] == 'no', :]\n",
    "    \n",
    "    \n",
    "pyplot.figure(figsize=(7, 4))\n",
    "\n",
    "pyplot.hist(data=No_switching_goat_win, x='Total_Probability', label = 'Goat - Win', edgecolor='black')\n",
    "pyplot.hist(data=No_switching_goat_lose, x='Total_Probability', label = 'Goat - Lose', edgecolor='black')\n",
    "\n",
    "pyplot.hist(data=No_switching_car_win, x='Total_Probability', label = 'Car - Win', edgecolor='black')\n",
    "pyplot.hist(data=No_switching_car_lose, x='Total_Probability', label = 'Car - Lose', edgecolor='black')\n",
    "\n",
    "pyplot.legend()\n",
    "pyplot.xlabel('Total Probabilities')\n",
    "pyplot.ylabel('Count')\n",
    "pyplot.title('Histogram of Not Switching from Original Choice')\n",
    "pyplot.xlim(-0.1, 0.6)\n",
    "pyplot.grid(True)\n",
    "pyplot.show()"
   ]
  },
  {
   "cell_type": "code",
   "execution_count": 7,
   "metadata": {},
   "outputs": [
    {
     "name": "stdout",
     "output_type": "stream",
     "text": [
      "----------Mean of All the Samples----------\n",
      "         Total_Probability\n",
      "Win_Car                   \n",
      "no                0.279960\n",
      "yes               0.277888\n",
      "\n",
      "\n",
      "----------Variance of All the Samples----------\n",
      "         Total_Probability\n",
      "Win_Car                   \n",
      "no                0.006053\n",
      "yes               0.006173\n",
      "\n",
      "\n",
      "Dataframe Dimensions: \n",
      "(2000, 7)\n",
      "\n",
      "\n",
      "Summary Statistics: \n"
     ]
    },
    {
     "data": {
      "text/html": [
       "<div>\n",
       "<style scoped>\n",
       "    .dataframe tbody tr th:only-of-type {\n",
       "        vertical-align: middle;\n",
       "    }\n",
       "\n",
       "    .dataframe tbody tr th {\n",
       "        vertical-align: top;\n",
       "    }\n",
       "\n",
       "    .dataframe thead th {\n",
       "        text-align: right;\n",
       "    }\n",
       "</style>\n",
       "<table border=\"1\" class=\"dataframe\">\n",
       "  <thead>\n",
       "    <tr style=\"text-align: right;\">\n",
       "      <th></th>\n",
       "      <th>Total_Probability</th>\n",
       "    </tr>\n",
       "  </thead>\n",
       "  <tbody>\n",
       "    <tr>\n",
       "      <th>count</th>\n",
       "      <td>2000.000000</td>\n",
       "    </tr>\n",
       "    <tr>\n",
       "      <th>mean</th>\n",
       "      <td>0.278917</td>\n",
       "    </tr>\n",
       "    <tr>\n",
       "      <th>std</th>\n",
       "      <td>0.078175</td>\n",
       "    </tr>\n",
       "    <tr>\n",
       "      <th>min</th>\n",
       "      <td>0.166667</td>\n",
       "    </tr>\n",
       "    <tr>\n",
       "      <th>25%</th>\n",
       "      <td>0.166667</td>\n",
       "    </tr>\n",
       "    <tr>\n",
       "      <th>50%</th>\n",
       "      <td>0.333333</td>\n",
       "    </tr>\n",
       "    <tr>\n",
       "      <th>75%</th>\n",
       "      <td>0.333333</td>\n",
       "    </tr>\n",
       "    <tr>\n",
       "      <th>max</th>\n",
       "      <td>0.333333</td>\n",
       "    </tr>\n",
       "  </tbody>\n",
       "</table>\n",
       "</div>"
      ],
      "text/plain": [
       "       Total_Probability\n",
       "count        2000.000000\n",
       "mean            0.278917\n",
       "std             0.078175\n",
       "min             0.166667\n",
       "25%             0.166667\n",
       "50%             0.333333\n",
       "75%             0.333333\n",
       "max             0.333333"
      ]
     },
     "execution_count": 7,
     "metadata": {},
     "output_type": "execute_result"
    }
   ],
   "source": [
    "## Summary Statistics \n",
    "\n",
    "print(\"----------Mean of All the Samples----------\")\n",
    "print(combined_results_df.loc[:,[\"Total_Probability\", \"Win_Car\"]].groupby(\"Win_Car\").mean())\n",
    "print('\\n')\n",
    "\n",
    "print(\"----------Variance of All the Samples----------\")\n",
    "print(combined_results_df.loc[:,[\"Total_Probability\", \"Win_Car\"]].groupby(\"Win_Car\").var())\n",
    "print('\\n')\n",
    "\n",
    "print(\"Dataframe Dimensions: \")\n",
    "print(combined_results_df.shape)\n",
    "print('\\n')\n",
    "\n",
    "print(\"Summary Statistics: \")\n",
    "combined_results_df.loc[:,[\"Total_Probability\", \"Win_Car\"]].describe()"
   ]
  },
  {
   "cell_type": "code",
   "execution_count": 8,
   "metadata": {},
   "outputs": [
    {
     "name": "stdout",
     "output_type": "stream",
     "text": [
      "----------Mean & Summary Statistics of Switching Your Door----------\n",
      "         Total_Probability\n",
      "Win_Car                   \n",
      "no                0.166667\n",
      "yes               0.333333\n",
      "\n",
      "\n",
      "       Total_Probability\n",
      "count         990.000000\n",
      "mean            0.279798\n",
      "std             0.077863\n",
      "min             0.166667\n",
      "25%             0.166667\n",
      "50%             0.333333\n",
      "75%             0.333333\n",
      "max             0.333333\n",
      "\n",
      "\n",
      "----------Mean & Summary Statistics of Not Switching Your Door----------\n",
      "         Total_Probability\n",
      "Win_Car                   \n",
      "no                0.333333\n",
      "yes               0.166667\n",
      "\n",
      "\n",
      "       Total_Probability\n",
      "count        1010.000000\n",
      "mean            0.278053\n",
      "std             0.078509\n",
      "min             0.166667\n",
      "25%             0.166667\n",
      "50%             0.333333\n",
      "75%             0.333333\n",
      "max             0.333333\n",
      "\n",
      "\n"
     ]
    }
   ],
   "source": [
    "## Additional Summary Statistics, break down by Switching/Not Switching\n",
    "\n",
    "print(\"----------Mean & Summary Statistics of Switching Your Door----------\")\n",
    "print(Switching.loc[:,[\"Total_Probability\", \"Win_Car\"]].groupby(\"Win_Car\").mean())\n",
    "print('\\n')\n",
    "\n",
    "print(Switching.loc[:,[\"Total_Probability\", \"Win_Car\"]].describe())\n",
    "print('\\n')\n",
    "\n",
    "\n",
    "print(\"----------Mean & Summary Statistics of Not Switching Your Door----------\")\n",
    "print(No_switching.loc[:,[\"Total_Probability\", \"Win_Car\"]].groupby(\"Win_Car\").mean())\n",
    "print('\\n')\n",
    "\n",
    "\n",
    "print(No_switching.loc[:,[\"Total_Probability\", \"Win_Car\"]].describe())\n",
    "print('\\n')\n",
    "\n",
    "\n"
   ]
  },
  {
   "cell_type": "markdown",
   "metadata": {},
   "source": [
    "### Conclusion / Summary:\n",
    "\n",
    "For this assignment, I created a simulation that mirrors the Monte Hall game. I took into account the different possibilities and probabilities of each choice a contestant has when playing. After running 2000 randomized events, I found that a contestant should always switch the door (i.e. change their initial selection) after Monte reveal a door with a goat. There is a higher chance (1/3 or 33.33%) in winning the car when switching than not switching (1/6 or 16.67%) when given the opportunity. The first histogram created above (containing orange and blue bars) displays the different probabilities. \n",
    "\n",
    "The second histogram delves deeper in the cases of whether the original contestant’s choice matters when a contestant decides to switch doors. This histogram shows that the original choice does matter. You have a higher probability of choosing a goat in the first round and winning after switching (1/3 or 33.33%) than choosing a car on your first round and losing after switching (1/6 or 16.67%). \n",
    "\n",
    "The reason 2 bars appear out of the 4 different colors in the legend is because a contestant can’t originally choose a goat and lose after switching. Similarly, a contestant can’t win a car, if they originally chose a door with a car and then switched to a separate door. I chose to include those two regardless, to ensure the rules had been setup correctly in the simulation. \n",
    "\n",
    "The third histogram delves deeper in the cases of whether the original contestant’s choice matters when a contestant decides to not switch doors. Similar to the histogram above, only 2 of the 4 bars are showing since you can’t choose a goat initially, not switch, and still win the game. Alternatively, you can’t choose a car door initially, not switch, and then lose. That’s not how the game is setup. \n",
    "\n",
    "This histogram displays there’s a higher probability of selecting a door with a goat behind it initially and losing when you don’t switch (1/3 or 33.33%). Also, there’s a 1/6 or 16.67% chance you select a door with a car first and then win when not switching doors. \n",
    "\n",
    "All three histograms show that there are improved chances of winning a car when switching your initial door selection.\n",
    "\n",
    "The summary statistics at the end of the report also support this conclusion. Across all samples, there are about equal means (about 0.28) and variances (0.006) for winning and not winning the game. In total, there were 990 samples where a contestant switched doors, and 1010 where a contestant did not switch doors. \n",
    "\n",
    "\n"
   ]
  },
  {
   "cell_type": "code",
   "execution_count": null,
   "metadata": {},
   "outputs": [],
   "source": []
  }
 ],
 "metadata": {
  "kernelspec": {
   "display_name": "Python 3",
   "language": "python",
   "name": "python3"
  },
  "language_info": {
   "codemirror_mode": {
    "name": "ipython",
    "version": 3
   },
   "file_extension": ".py",
   "mimetype": "text/x-python",
   "name": "python",
   "nbconvert_exporter": "python",
   "pygments_lexer": "ipython3",
   "version": "3.8.3"
  }
 },
 "nbformat": 4,
 "nbformat_minor": 2
}
