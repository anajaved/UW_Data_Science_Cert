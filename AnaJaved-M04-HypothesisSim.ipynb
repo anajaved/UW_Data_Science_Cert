{
 "cells": [
  {
   "cell_type": "markdown",
   "id": "improved-probe",
   "metadata": {},
   "source": [
    "# Independent Project - Milestone 4\n",
    "\n",
    "### Author - Ana Javed\n",
    "\n",
    "Project Guidance and Instructions\n",
    "\n",
    "Milestone 4 is where everything you built in the previous milestones comes together. For this Milestone, you focus on improving model accuracy and summarizing your findings. Try explaining your findings as if you are presenting to your management team in layman’s terms. For example, talk about the influencing factors, what can be improved, what is important in your findings, what is the key aspect to focus on, what do the data tell them that they do not know.\n",
    "\n",
    "For Milestone 4 you should: \n",
    "\n",
    "    - update Milestones 1 through 3, and assignment 9 based on feedback;\n",
    "    - enhance your model results by trying different model and/or data enhancement techniques (Build 3 models with different enhancements and feature engineering techniques);\n",
    "    - explain your choice of model and model accuracy; and\n",
    "    - draw direct inferences and conclusions from model results (describe how your model results can improve or provide a solution to the problem you have chosen). Use graphs and evidence from the data to prove your point. Part of being a data scientist is to tell a story that helps the business.\n",
    "\n"
   ]
  },
  {
   "cell_type": "code",
   "execution_count": 1,
   "id": "charged-database",
   "metadata": {},
   "outputs": [],
   "source": [
    "# Load necessary libraries\n",
    "import pandas as pd\n",
    "import numpy as np\n",
    "import matplotlib.pyplot as plt\n",
    "\n",
    "import statsmodels.graphics.tsaplots as splt\n",
    "import statsmodels.tsa.seasonal as sts\n",
    "import statsmodels.tsa.arima_process as arima\n",
    "\n",
    "from statsmodels.tsa.stattools import adfuller\n",
    "import sklearn.linear_model as lm\n",
    "import pmdarima as pm\n",
    "from pmdarima.arima import auto_arima\n",
    "\n",
    "%matplotlib inline"
   ]
  },
  {
   "cell_type": "markdown",
   "id": "ecological-reputation",
   "metadata": {},
   "source": [
    "## Data Source / Background Information:\n",
    "\n",
    "According to the California Office of Environmental Health Hazard Assessment:(https://oehha.ca.gov/calenviroscreen/indicator/air-quality-pm25) \n",
    "\n",
    "\"Particulate matter, or PM2.5, is very small particles in air that are 2.5 micrometers (about 1 ten-thousandth of an inch) or less in diameter. This is less than the thickness of a human hair. Particulate matter, one of six U.S. EPA criteria air pollutants, is a mixture that can include organic chemicals, dust, soot and metals. These particles can come from cars and trucks, factories, wood burning, and other activities.\"\n",
    "\n",
    "PM2.5 can be examined to help measure the amount of pollution in the air. The dataset that will be analyzed is PM2.5 measurements collected by the US Embassy in Beijing. Details regarding the data can be found here: https://archive.ics.uci.edu/ml/datasets/Beijing+PM2.5+Data\n",
    "\n"
   ]
  },
  {
   "cell_type": "code",
   "execution_count": 2,
   "id": "important-seeking",
   "metadata": {},
   "outputs": [
    {
     "name": "stdout",
     "output_type": "stream",
     "text": [
      "    No  year  month  day  hour  pm2.5  DEWP  TEMP    PRES cbwd    Iws  Is  Ir\n",
      "0    1  2010      1    1     0    NaN   -21 -11.0  1021.0   NW   1.79   0   0\n",
      "1    2  2010      1    1     1    NaN   -21 -12.0  1020.0   NW   4.92   0   0\n",
      "2    3  2010      1    1     2    NaN   -21 -11.0  1019.0   NW   6.71   0   0\n",
      "3    4  2010      1    1     3    NaN   -21 -14.0  1019.0   NW   9.84   0   0\n",
      "4    5  2010      1    1     4    NaN   -20 -12.0  1018.0   NW  12.97   0   0\n",
      "5    6  2010      1    1     5    NaN   -19 -10.0  1017.0   NW  16.10   0   0\n",
      "6    7  2010      1    1     6    NaN   -19  -9.0  1017.0   NW  19.23   0   0\n",
      "7    8  2010      1    1     7    NaN   -19  -9.0  1017.0   NW  21.02   0   0\n",
      "8    9  2010      1    1     8    NaN   -19  -9.0  1017.0   NW  24.15   0   0\n",
      "9   10  2010      1    1     9    NaN   -20  -8.0  1017.0   NW  27.28   0   0\n",
      "10  11  2010      1    1    10    NaN   -19  -7.0  1017.0   NW  31.30   0   0\n",
      "11  12  2010      1    1    11    NaN   -18  -5.0  1017.0   NW  34.43   0   0\n",
      "12  13  2010      1    1    12    NaN   -19  -5.0  1015.0   NW  37.56   0   0\n",
      "13  14  2010      1    1    13    NaN   -18  -3.0  1015.0   NW  40.69   0   0\n",
      "14  15  2010      1    1    14    NaN   -18  -2.0  1014.0   NW  43.82   0   0\n",
      "\n",
      "\n",
      "    No  year  month  day  hour  pm2.5  DEWP  TEMP    PRES cbwd    Iws  Is  Ir\n",
      "0    1  2010      1    1     0    NaN   -21 -11.0  1021.0   NW   1.79   0   0\n",
      "1    2  2010      1    1     1    NaN   -21 -12.0  1020.0   NW   4.92   0   0\n",
      "2    3  2010      1    1     2    NaN   -21 -11.0  1019.0   NW   6.71   0   0\n",
      "3    4  2010      1    1     3    NaN   -21 -14.0  1019.0   NW   9.84   0   0\n",
      "4    5  2010      1    1     4    NaN   -20 -12.0  1018.0   NW  12.97   0   0\n",
      "5    6  2010      1    1     5    NaN   -19 -10.0  1017.0   NW  16.10   0   0\n",
      "6    7  2010      1    1     6    NaN   -19  -9.0  1017.0   NW  19.23   0   0\n",
      "7    8  2010      1    1     7    NaN   -19  -9.0  1017.0   NW  21.02   0   0\n",
      "8    9  2010      1    1     8    NaN   -19  -9.0  1017.0   NW  24.15   0   0\n",
      "9   10  2010      1    1     9    NaN   -20  -8.0  1017.0   NW  27.28   0   0\n",
      "10  11  2010      1    1    10    NaN   -19  -7.0  1017.0   NW  31.30   0   0\n",
      "11  12  2010      1    1    11    NaN   -18  -5.0  1017.0   NW  34.43   0   0\n",
      "12  13  2010      1    1    12    NaN   -19  -5.0  1015.0   NW  37.56   0   0\n",
      "13  14  2010      1    1    13    NaN   -18  -3.0  1015.0   NW  40.69   0   0\n",
      "14  15  2010      1    1    14    NaN   -18  -2.0  1014.0   NW  43.82   0   0\n",
      "\n",
      "\n",
      "Index(['No', 'year', 'month', 'day', 'hour', 'pm2.5', 'DEWP', 'TEMP', 'PRES',\n",
      "       'cbwd', 'Iws', 'Is', 'Ir'],\n",
      "      dtype='object')\n",
      "\n",
      "\n",
      "(43824, 13)\n",
      "\n",
      "\n",
      "No         int64\n",
      "year       int64\n",
      "month      int64\n",
      "day        int64\n",
      "hour       int64\n",
      "pm2.5    float64\n",
      "DEWP       int64\n",
      "TEMP     float64\n",
      "PRES     float64\n",
      "cbwd      object\n",
      "Iws      float64\n",
      "Is         int64\n",
      "Ir         int64\n",
      "dtype: object\n",
      "\n",
      "\n"
     ]
    }
   ],
   "source": [
    "## Data File URL \n",
    "fileName = \"https://archive.ics.uci.edu/ml/machine-learning-databases/00381/PRSA_data_2010.1.1-2014.12.31.csv\"\n",
    "\n",
    "## Reading in the CSV filt into pandas data frame \n",
    "pollution_df = pd.read_csv(fileName)\n",
    "\n",
    "## Top and Bottom 15 Rows \n",
    "print(pollution_df.head(15))\n",
    "print(\"\\n\")\n",
    "print(pollution_df.head(15))\n",
    "print(\"\\n\")\n",
    "\n",
    "## Exploratory Data Analysis \n",
    "print(pollution_df.columns) ## Printing Columns \n",
    "print(\"\\n\")\n",
    "print(pollution_df.shape) ## Printing Data Dimensions \n",
    "print(\"\\n\")\n",
    "print(pollution_df.dtypes) ## Printing Column Types \n",
    "print(\"\\n\")\n"
   ]
  },
  {
   "cell_type": "code",
   "execution_count": 3,
   "id": "trying-pickup",
   "metadata": {
    "scrolled": true
   },
   "outputs": [
    {
     "name": "stdout",
     "output_type": "stream",
     "text": [
      "(41757, 13)\n"
     ]
    }
   ],
   "source": [
    "## Looking For Missing Values in the Columns. Want to Account for the NaN values! \n",
    "# pollution_df.loc[:, \"pm2.5\"].value_counts() # NaN values Present\n",
    "# pollution_df.loc[:, \"year\"].value_counts() # none\n",
    "# pollution_df.loc[:, \"month\"].value_counts() # none\n",
    "# pollution_df.loc[:, \"day\"].value_counts() #none\n",
    "\n",
    "## Identifying How Many NaNs in the pm2.5 column: \n",
    "HasNan1 = np.isnan(pollution_df.loc[:,'pm2.5'])\n",
    "sum(HasNan1) # 2067 NaNs out of 43824\n",
    "# pollution_df.loc[HasNan1,'pm2.5'] = np.nanmedian(pollution_df.loc[:,'pm2.5'])\n",
    "\n",
    "# ## Dropping NaN Values \n",
    "pollution_df = pollution_df.dropna() \n",
    "\n",
    "\n",
    "## Confirming new Dimensions of the Data Frame: \n",
    "print(pollution_df.shape) # now 41757 Rows, 13 Columns "
   ]
  },
  {
   "cell_type": "code",
   "execution_count": 4,
   "id": "veterinary-oregon",
   "metadata": {},
   "outputs": [],
   "source": [
    "## Scaling Temp, Pres, and Dew Point Columns \n",
    "# Declaring Scale function\n",
    "def scale(col):\n",
    "    mean_col = np.mean(col)\n",
    "    sd_col = np.std(col)\n",
    "    std = (col - mean_col) / sd_col\n",
    "    return std\n",
    "\n",
    "pollution_df.loc[:, \"DEWP\"] = np.apply_along_axis(scale, 0, pollution_df.loc[:, \"DEWP\"])\n",
    "pollution_df.loc[:, \"TEMP\"] = np.apply_along_axis(scale, 0, pollution_df.loc[:, \"TEMP\"])\n",
    "pollution_df.loc[:, \"PRES\"] = np.apply_along_axis(scale, 0, pollution_df.loc[:, \"PRES\"])\n",
    "pollution_df.loc[:, \"pm2.5\"] = np.apply_along_axis(scale, 0, pollution_df.loc[:, \"pm2.5\"])\n",
    "\n",
    "# print(pollution_df.head(15))\n",
    "# print(\"\\n\")\n",
    "# print(pollution_df.head(15))\n",
    "# print(\"\\n\")\n"
   ]
  },
  {
   "cell_type": "code",
   "execution_count": 5,
   "id": "insured-incidence",
   "metadata": {},
   "outputs": [
    {
     "name": "stdout",
     "output_type": "stream",
     "text": [
      "(60, 1)\n",
      "              avg_pm\n",
      "Date                \n",
      "2010-01-01 -0.088764\n",
      "2010-02-01 -0.014984\n",
      "2010-03-01 -0.049029\n",
      "2010-04-01 -0.201891\n",
      "2010-05-01 -0.127254\n",
      "2010-06-01  0.112878\n",
      "2010-07-01  0.271970\n",
      "2010-08-01 -0.010985\n",
      "2010-09-01  0.259616\n",
      "2010-10-01  0.221287\n",
      "              avg_pm\n",
      "Date                \n",
      "2014-03-01  0.128981\n",
      "2014-04-01 -0.036723\n",
      "2014-05-01 -0.286352\n",
      "2014-06-01 -0.429452\n",
      "2014-07-01 -0.099483\n",
      "2014-08-01 -0.387515\n",
      "2014-09-01 -0.307656\n",
      "2014-10-01  0.455654\n",
      "2014-11-01  0.062629\n",
      "2014-12-01 -0.216897\n"
     ]
    }
   ],
   "source": [
    "## Converting Year & Month Columns to Datetime Date Column in the Data Frame \n",
    "from datetime import datetime\n",
    "\n",
    "pollution_df.loc[:, \"Date\"] = pd.to_datetime(pollution_df.loc[:, \"year\"].astype(str) \n",
    "                                             + '-' + pollution_df.loc[:, \"month\"].astype(str)\n",
    "                                            )\n",
    "# New Combined Datetime Column: \n",
    "pollution_df.loc[:, \"Date\"]\n",
    "\n",
    "\n",
    "## Creating a new column and taking average Of PM2.5 per Month \n",
    "pollution_df[\"avg_pm\"] = pollution_df.groupby(\"Date\")[\"pm2.5\"].transform(np.average)\n",
    "\n",
    "## Creating a new DF of the Monthly Dates & Average PM columns \n",
    "pm_df = pollution_df.loc[:, [\"Date\",\"avg_pm\"]]\n",
    "pm_df = pm_df.set_index(\"Date\")\n",
    "\n",
    "## Removing Duplicate Rows \n",
    "pm_df = pm_df.drop_duplicates()\n",
    "\n",
    "## Examining the Shape / Format of the new DF: \n",
    "print(pm_df.shape) # (60, 1)\n",
    "print(pm_df.head(10)) # Data Starts: 2010-01-01 \n",
    "print(pm_df.tail(10)) # Data Ends: 2014-12-01  "
   ]
  },
  {
   "cell_type": "code",
   "execution_count": 6,
   "id": "russian-capacity",
   "metadata": {},
   "outputs": [
    {
     "name": "stdout",
     "output_type": "stream",
     "text": [
      "DataFrame one-hot-expanded shape: (41757, 49)\n"
     ]
    }
   ],
   "source": [
    "# One-hot encode inputs --> Month and Hour Columns Specifically\n",
    "pollution_df = pd.get_dummies(pollution_df, columns=['month', 'hour'], drop_first=False,\n",
    "                             )\n",
    "print('DataFrame one-hot-expanded shape: {}'.format(pollution_df.shape))\n"
   ]
  },
  {
   "cell_type": "code",
   "execution_count": 7,
   "id": "brutal-bicycle",
   "metadata": {},
   "outputs": [
    {
     "data": {
      "text/plain": [
       "1.0 to 1.5      7991\n",
       "0.5 to 1.0      7364\n",
       "-1.0 to -0.5    6222\n",
       "-0.5 to 0.0     5887\n",
       "-1.5 to -1.0    5312\n",
       "0.0 to 0.5      4744\n",
       "-2.0 to -1.5    3084\n",
       "1.5 to 2.0       973\n",
       "-2.5 to -2.0     166\n",
       "-3.0 to -2.5      14\n",
       "Name: DEWP_cat, dtype: int64"
      ]
     },
     "execution_count": 7,
     "metadata": {},
     "output_type": "execute_result"
    }
   ],
   "source": [
    "### Binning the Numeric Variable: Dew Point to Categorical Values \n",
    "\n",
    "# pollution_df.loc[:, \"DEWP\"].describe()\n",
    "\n",
    "pollution_df.loc[:, \"DEWP_cat\"] = pollution_df.loc[:, \"DEWP\"]\n",
    "\n",
    "for each in pollution_df.loc[:, \"DEWP_cat\"].unique():\n",
    "    if each >= 1.5 and each < 2.0:\n",
    "        cat = \"1.5 to 2.0\"\n",
    "    elif each >= 1.0 and each < 1.5:\n",
    "        cat =  \"1.0 to 1.5\"\n",
    "    elif each >= 0.5 and each < 1.0:\n",
    "        cat =  \"0.5 to 1.0\"\n",
    "    elif each >= 0.0 and each < 0.5:\n",
    "        cat =  \"0.0 to 0.5\"\n",
    "        \n",
    "    elif each >= -0.5 and each < 0.0:\n",
    "        cat =  \"-0.5 to 0.0\"\n",
    "    elif each >= -1.0 and each < -0.5:\n",
    "        cat =  \"-1.0 to -0.5\"\n",
    "    elif each >= -1.5 and each < -1.0:\n",
    "        cat =  \"-1.5 to -1.0\"\n",
    "        \n",
    "    elif each >= -2.0 and each < -1.5:\n",
    "        cat =  \"-2.0 to -1.5\"\n",
    "            \n",
    "    elif each >= -2.5 and each < -2.0:\n",
    "        cat =  \"-2.5 to -2.0\"\n",
    "        \n",
    "    elif each >= -3.0 and each < -2.5:\n",
    "        cat =  \"-3.0 to -2.5\"\n",
    "    else:\n",
    "        print(\"Unknown Group: \", each)\n",
    "        cat = ''\n",
    "        \n",
    "    pollution_df.loc[ pollution_df.loc[:, \"DEWP_cat\"] == each, \"DEWP_cat\"] = cat\n",
    "    \n",
    "## New Categories & Counts \n",
    "pollution_df.loc[:, \"DEWP_cat\"].value_counts()"
   ]
  },
  {
   "cell_type": "code",
   "execution_count": 8,
   "id": "purple-balance",
   "metadata": {},
   "outputs": [
    {
     "data": {
      "text/plain": [
       "Less than 0       26018\n",
       "Greater than 0    15739\n",
       "Name: PM_cat, dtype: int64"
      ]
     },
     "execution_count": 8,
     "metadata": {},
     "output_type": "execute_result"
    }
   ],
   "source": [
    "### Binning the Numeric Variable: PM2.5 to Categorical Values \n",
    "\n",
    "# pollution_df.loc[:, \"pm2.5\"].describe()\n",
    "\n",
    "## Creating New Column: \n",
    "pollution_df.loc[:, \"PM_cat\"] = pollution_df.loc[:, \"pm2.5\"]\n",
    "\n",
    "## For simplicity: Just creating two categories for Naives Bayes\n",
    "for each in pollution_df.loc[:, \"PM_cat\"].unique():\n",
    "    if each >= 0:\n",
    "        cat =  \"Greater than 0\"\n",
    "    elif each < 0:\n",
    "        cat =  \"Less than 0\"\n",
    "\n",
    "    else:\n",
    "        print(\"Unknown Group: \", each)\n",
    "        cat = ''\n",
    "        \n",
    "    pollution_df.loc[ pollution_df.loc[:, \"PM_cat\"] == each, \"PM_cat\"] = cat\n",
    "    \n",
    "## New Categories & Counts \n",
    "pollution_df.loc[:, \"PM_cat\"].value_counts()"
   ]
  },
  {
   "cell_type": "code",
   "execution_count": 9,
   "id": "organizational-sydney",
   "metadata": {},
   "outputs": [
    {
     "data": {
      "text/plain": [
       "0.0 to 1.0      13706\n",
       "-1.0 to 0.0     10640\n",
       "-2.0 to -1.      8943\n",
       "1.0 to 2.0       8020\n",
       "-3.0 to -2.0      385\n",
       "2.0 to 3.0         63\n",
       "Name: TEMP_cat, dtype: int64"
      ]
     },
     "execution_count": 9,
     "metadata": {},
     "output_type": "execute_result"
    }
   ],
   "source": [
    "### Binning the Numeric Variable: TEMP to Categorical Values \n",
    "\n",
    "# pollution_df.loc[:, \"TEMP\"].describe()\n",
    "\n",
    "## Creating New Column: \n",
    "pollution_df.loc[:, \"TEMP_cat\"] = pollution_df.loc[:, \"TEMP\"]\n",
    "\n",
    "for each in pollution_df.loc[:, \"TEMP_cat\"].unique():\n",
    "    if each >= 3.0 and each < 4.0:\n",
    "        cat = \"3.0 to 4.0\"\n",
    "    elif each >= 2.0 and each < 3.0:\n",
    "        cat = \"2.0 to 3.0\"\n",
    "    elif each >= 1.0 and each < 2.0:\n",
    "        cat = \"1.0 to 2.0\"\n",
    "    elif each >= 0.0 and each < 1.0:\n",
    "        cat =  \"0.0 to 1.0\"\n",
    "    elif each >= -1.0 and each < 0.0:\n",
    "        cat =  \"-1.0 to 0.0\"\n",
    "    elif each >= -2.0 and each < -1.0:\n",
    "        cat =  \"-2.0 to -1.\"\n",
    "    elif each >= -3.0 and each < -2.0:\n",
    "        cat =  \"-3.0 to -2.0\"\n",
    "    else:\n",
    "        print(\"Unknown Group: \", each)\n",
    "        cat = ''\n",
    "        \n",
    "    pollution_df.loc[ pollution_df.loc[:, \"TEMP_cat\"] == each, \"TEMP_cat\"] = cat\n",
    "    \n",
    "## New Categories & Counts \n",
    "pollution_df.loc[:, \"TEMP_cat\"].value_counts()"
   ]
  },
  {
   "cell_type": "code",
   "execution_count": 10,
   "id": "listed-design",
   "metadata": {},
   "outputs": [
    {
     "data": {
      "text/plain": [
       "-1.0 to 0.0     12643\n",
       "0.0 to 1.0      12342\n",
       "-2.0 to -1.      8423\n",
       "1.0 to 2.0       7655\n",
       "2.0 to 3.0        500\n",
       "-3.0 to -2.0      194\n",
       "Name: PRES_cat, dtype: int64"
      ]
     },
     "execution_count": 10,
     "metadata": {},
     "output_type": "execute_result"
    }
   ],
   "source": [
    "### Binning the Numeric Variable: PRES to Categorical Values \n",
    "\n",
    "pollution_df.loc[:, \"PRES\"].describe()\n",
    "\n",
    "## Creating New Column: \n",
    "pollution_df.loc[:, \"PRES_cat\"] = pollution_df.loc[:, \"PRES\"]\n",
    "\n",
    "for each in pollution_df.loc[:, \"PRES_cat\"].unique():\n",
    "    if each >= 3.0 and each < 4.0:\n",
    "        cat = \"3.0 to 4.0\"\n",
    "    elif each >= 2.0 and each < 3.0:\n",
    "        cat = \"2.0 to 3.0\"\n",
    "    elif each >= 1.0 and each < 2.0:\n",
    "        cat = \"1.0 to 2.0\"\n",
    "    elif each >= 0.0 and each < 1.0:\n",
    "        cat =  \"0.0 to 1.0\"\n",
    "    elif each >= -1.0 and each < 0.0:\n",
    "        cat =  \"-1.0 to 0.0\"\n",
    "    elif each >= -2.0 and each < -1.0:\n",
    "        cat =  \"-2.0 to -1.\"\n",
    "    elif each >= -3.0 and each < -2.0:\n",
    "        cat =  \"-3.0 to -2.0\"\n",
    "    else:\n",
    "        print(\"Unknown Group: \", each)\n",
    "        cat = ''\n",
    "        \n",
    "    pollution_df.loc[ pollution_df.loc[:, \"PRES_cat\"] == each, \"PRES_cat\"] = cat\n",
    "    \n",
    "## New Categories & Counts \n",
    "pollution_df.loc[:, \"PRES_cat\"].value_counts()"
   ]
  },
  {
   "cell_type": "code",
   "execution_count": 11,
   "id": "certified-panama",
   "metadata": {},
   "outputs": [],
   "source": [
    "## Dropping Redundant Columns that will not be needed for the analysis \n",
    "\n",
    "pollution_df = pollution_df.drop(['No', 'DEWP', 'TEMP', 'PRES', 'pm2.5', 'day', 'cbwd', 'Date',\n",
    "                                 'Iws', 'Is', 'Ir'], axis=1)"
   ]
  },
  {
   "cell_type": "markdown",
   "id": "complex-injection",
   "metadata": {},
   "source": [
    "Since there are a lot of data points in this time series, I am going to rely on using only the montly averages of the data for the decomposition (below) which is much more readable and cleaner. I also am examining the data at a monthly level, as opposed to hourly. This also improves the readability and reduces some of the noise in the data values. "
   ]
  },
  {
   "cell_type": "code",
   "execution_count": 12,
   "id": "equivalent-struggle",
   "metadata": {},
   "outputs": [
    {
     "data": {
      "image/png": "[encoded data removed]",
      "text/plain": [
       "<Figure size 432x288 with 1 Axes>"
      ]
     },
     "metadata": {
      "needs_background": "light"
     },
     "output_type": "display_data"
    }
   ],
   "source": [
    "## Plotting the Time Series Plot of PM2.5 Pollutant \n",
    "def plot_ts(ts, lab = ''):\n",
    "    ts.plot()\n",
    "    plt.title('Time series plot of ' + lab)\n",
    "    plt.ylabel('Value')\n",
    "    plt.xlabel('Date')\n",
    "    \n",
    "plot_ts(pm_df, 'PM2.5 Pollutant in Beijing')"
   ]
  },
  {
   "cell_type": "markdown",
   "id": "absolute-soccer",
   "metadata": {},
   "source": [
    "#### Time Series Plot Analysis\n",
    "\n",
    "The time series plot has a slightly consistent trend over the years, and there does appear to be a seasonal component to the data. However we see that there are larger increases in 2013 and 2014 - and pm2.5 levels get above 160. \n",
    "\n",
    "Since there is not an overall upward trend over time, I will use an additive decomposition model.\n",
    "\n",
    "This time series is not stationary since the variance does appear to vary over time. "
   ]
  },
  {
   "cell_type": "code",
   "execution_count": 13,
   "id": "worst-hunter",
   "metadata": {},
   "outputs": [],
   "source": [
    "## Defining Decomposition Function \n",
    "def decomp_ts(ts, freq = 'M', model = 'additive'):\n",
    "    res = sts.seasonal_decompose(ts, model = model)\n",
    "    res.plot()\n",
    "    return(pd.DataFrame({'resid': res.resid, \n",
    "                         'trend': res.trend, \n",
    "                         'seasonal': res.seasonal},\n",
    "                       index = ts.index) )"
   ]
  },
  {
   "cell_type": "code",
   "execution_count": 14,
   "id": "integral-lithuania",
   "metadata": {},
   "outputs": [
    {
     "name": "stdout",
     "output_type": "stream",
     "text": [
      "               resid     trend  seasonal\n",
      "Date                                    \n",
      "2010-01-01       NaN       NaN  0.196675\n",
      "2010-02-01       NaN       NaN  0.358473\n",
      "2010-03-01       NaN       NaN -0.023908\n",
      "2010-04-01       NaN       NaN -0.150466\n",
      "2010-05-01       NaN       NaN -0.220976\n",
      "2010-06-01       NaN       NaN -0.047797\n",
      "2010-07-01  0.279106  0.045059 -0.052195\n",
      "2010-08-01  0.105583  0.048470 -0.165039\n",
      "2010-09-01  0.311970  0.056123 -0.108477\n",
      "2010-10-01  0.025015  0.044976  0.151295\n",
      "2010-11-01  0.343830  0.040440  0.044927\n",
      "2010-12-01 -0.061821  0.030430  0.017487\n",
      "2011-01-01 -0.803206  0.022910  0.196675\n",
      "2011-02-01  0.185003  0.018269  0.358473\n",
      "2011-03-01 -0.426765  0.008575 -0.023908\n",
      "2011-04-01  0.065998  0.008125 -0.150466\n",
      "2011-05-01 -0.147803  0.007108 -0.220976\n",
      "2011-06-01  0.155569 -0.000724 -0.047797\n",
      "2011-07-01  0.111497  0.038026 -0.052195\n",
      "2011-08-01  0.175618  0.041690 -0.165039\n",
      "2011-09-01  0.042891  0.029294 -0.108477\n",
      "2011-10-01  0.310012  0.045078  0.151295\n",
      "2011-11-01  0.019792  0.054988  0.044927\n",
      "2011-12-01  0.028767  0.061365  0.017487\n",
      "2012-01-01 -0.015676  0.043850  0.196675\n",
      "2012-02-01 -0.538755  0.021496  0.358473\n",
      "2012-03-01  0.009508 -0.004681 -0.023908\n",
      "2012-04-01  0.073394 -0.043455 -0.150466\n",
      "2012-05-01  0.217573 -0.076255 -0.220976\n",
      "2012-06-01  0.111824 -0.085941 -0.047797\n",
      "2012-07-01 -0.089728 -0.052155 -0.052195\n",
      "2012-08-01 -0.027114 -0.000657 -0.165039\n",
      "2012-09-01 -0.340216  0.029224 -0.108477\n",
      "2012-10-01 -0.223693  0.031398  0.151295\n",
      "2012-11-01 -0.183973  0.018922  0.044927\n",
      "2012-12-01  0.074649  0.022844  0.017487\n",
      "2013-01-01  0.807461  0.024227  0.196675\n",
      "2013-02-01 -0.095152  0.010321  0.358473\n",
      "2013-03-01  0.273889  0.015657 -0.023908\n",
      "2013-04-01 -0.237434  0.034829 -0.150466\n",
      "2013-05-01  0.032782  0.041664 -0.220976\n",
      "2013-06-01  0.148481  0.038407 -0.047797\n",
      "2013-07-01 -0.269442 -0.000251 -0.052195\n",
      "2013-08-01 -0.222654 -0.011069 -0.165039\n",
      "2013-09-01  0.016788  0.006239 -0.108477\n",
      "2013-10-01 -0.079901  0.013726  0.151295\n",
      "2013-11-01 -0.148217  0.021081  0.044927\n",
      "2013-12-01 -0.010163 -0.008434  0.017487\n",
      "2014-01-01  0.042853 -0.022857  0.196675\n",
      "2014-02-01  0.480337 -0.013121  0.358473\n",
      "2014-03-01  0.174801 -0.021911 -0.023908\n",
      "2014-04-01  0.129475 -0.015731 -0.150466\n",
      "2014-05-01 -0.071119  0.005743 -0.220976\n",
      "2014-06-01 -0.384442  0.002787 -0.047797\n",
      "2014-07-01       NaN       NaN -0.052195\n",
      "2014-08-01       NaN       NaN -0.165039\n",
      "2014-09-01       NaN       NaN -0.108477\n",
      "2014-10-01       NaN       NaN  0.151295\n",
      "2014-11-01       NaN       NaN  0.044927\n",
      "2014-12-01       NaN       NaN  0.017487\n"
     ]
    },
    {
     "data": {
      "image/png": "[encoded data removed]",
      "text/plain": [
       "<Figure size 432x288 with 4 Axes>"
      ]
     },
     "metadata": {
      "needs_background": "light"
     },
     "output_type": "display_data"
    }
   ],
   "source": [
    "## Applying the Decomposition function to the FULL PM2.5 Dataset: \n",
    "pm_decomp = decomp_ts(pm_df)\n",
    "\n",
    "print(pm_decomp)\n"
   ]
  },
  {
   "cell_type": "markdown",
   "id": "competent-arrow",
   "metadata": {},
   "source": [
    "The decomposition results of the monthly averaged data looks appropriate. I see that the seasonal trend is much more discernable and clear enough to read! It is also regularly occuring between 25 and -25. \n",
    "\n",
    "The trend plot does have irregular peaks throughout the month, as some peaks are larger than others. There's also a large decrease in the trend around mid-2012.\n",
    "\n",
    "It is also important to note that the residual and trend columns have NaN values in the first and last 6 rows of the data frame since it's a monthly time series. We will separate these out when applying the Dicky Fuller test. \n"
   ]
  },
  {
   "cell_type": "code",
   "execution_count": 15,
   "id": "short-theory",
   "metadata": {},
   "outputs": [
    {
     "name": "stdout",
     "output_type": "stream",
     "text": [
      "D-F statistic = -4.828646859513701\n",
      "p-value = 4.7923344018877826e-05\n",
      "number of lags used = 3\n",
      "Critical value at 5% confidence = -2.929885661157025\n",
      "Critical value at 10% confidence = -2.6031845661157025\n"
     ]
    }
   ],
   "source": [
    "## Conducting the Dicky Fuller Test\n",
    "\n",
    "# Declaring the Function \n",
    "def DF_Test(ts):\n",
    "    stationary = adfuller(ts)\n",
    "    ## Print the results\n",
    "    print('D-F statistic = ' + str(stationary[0]))\n",
    "    print('p-value = ' + str(stationary[1]))\n",
    "    print('number of lags used = ' + str(stationary[2]))\n",
    "    print('Critical value at 5% confidence = ' + str(stationary[4]['5%']))\n",
    "    print('Critical value at 10% confidence = ' + str(stationary[4]['10%']))\n",
    "    \n",
    "## Applying the Test to the decomposition residuals \n",
    "DF_Test(pm_decomp.resid[6:-6])    "
   ]
  },
  {
   "cell_type": "markdown",
   "id": "regulation-professor",
   "metadata": {},
   "source": [
    "Given that there is a large DF statistic and that the p-value is small (< 0.05), we can reject the null hypothesis that the residual is not stationary. We also know that this is not due to random chance since that confidence interval does not straddle 0."
   ]
  },
  {
   "cell_type": "markdown",
   "id": "suffering-magazine",
   "metadata": {},
   "source": [
    "### Using the auto_arima function from the pmdarima package to find a best model fit, excluding the last 12 months of observations from the training data, and setting d=1 and D=1 and limit p, q, P and Q to 3 with starting values of 1.\n",
    "\n",
    "Up to this point, the following changes I have made compared to the data processing in Milestone 3 include: creating a new pm2.5 monthly average value, changing the frequency of the timeseries from hourly to monthly. \n",
    "\n",
    "Below, I will fine tune additional parameters for the Auto Arima model. According to the documentation of the auto_arima function (https://alkaline-ml.com/pmdarima/modules/generated/pmdarima.arima.auto_arima.html), there are various optimizer names that can be passed to the method parameter. I have gone through and tested each method and documented below which method produced the lowers AIC score. "
   ]
  },
  {
   "cell_type": "code",
   "execution_count": 16,
   "id": "controlling-indian",
   "metadata": {},
   "outputs": [
    {
     "name": "stdout",
     "output_type": "stream",
     "text": [
      "Performing stepwise search to minimize aic\n",
      " ARIMA(1,1,1)(0,1,1)[12]             : AIC=inf, Time=0.35 sec\n",
      " ARIMA(0,1,0)(0,1,0)[12]             : AIC=80.880, Time=0.03 sec\n",
      " ARIMA(1,1,0)(1,1,0)[12]             : AIC=57.862, Time=0.37 sec\n",
      " ARIMA(0,1,1)(0,1,1)[12]             : AIC=inf, Time=0.19 sec\n",
      " ARIMA(1,1,0)(0,1,0)[12]             : AIC=59.211, Time=0.08 sec\n",
      " ARIMA(1,1,0)(2,1,0)[12]             : AIC=46.010, Time=0.49 sec\n",
      " ARIMA(1,1,0)(2,1,1)[12]             : AIC=48.425, Time=0.42 sec\n",
      " ARIMA(1,1,0)(1,1,1)[12]             : AIC=61.811, Time=0.16 sec\n",
      " ARIMA(0,1,0)(2,1,0)[12]             : AIC=56.848, Time=0.34 sec\n",
      " ARIMA(2,1,0)(2,1,0)[12]             : AIC=46.376, Time=0.62 sec\n",
      " ARIMA(1,1,1)(2,1,0)[12]             : AIC=46.160, Time=0.49 sec\n",
      " ARIMA(0,1,1)(2,1,0)[12]             : AIC=38.763, Time=0.37 sec\n",
      " ARIMA(0,1,1)(1,1,0)[12]             : AIC=45.719, Time=0.17 sec\n",
      " ARIMA(0,1,1)(2,1,1)[12]             : AIC=42.275, Time=0.54 sec\n",
      " ARIMA(0,1,1)(1,1,1)[12]             : AIC=inf, Time=0.39 sec\n",
      " ARIMA(0,1,2)(2,1,0)[12]             : AIC=46.151, Time=0.41 sec\n",
      " ARIMA(1,1,2)(2,1,0)[12]             : AIC=44.817, Time=0.40 sec\n",
      " ARIMA(0,1,1)(2,1,0)[12] intercept   : AIC=42.142, Time=0.57 sec\n",
      "\n",
      "Best model:  ARIMA(0,1,1)(2,1,0)[12]          \n",
      "Total fit time: 6.435 seconds\n",
      "                                      SARIMAX Results                                      \n",
      "===========================================================================================\n",
      "Dep. Variable:                                   y   No. Observations:                   60\n",
      "Model:             SARIMAX(0, 1, 1)x(2, 1, [], 12)   Log Likelihood                 -15.382\n",
      "Date:                             Sat, 20 Feb 2021   AIC                             38.763\n",
      "Time:                                     17:37:26   BIC                             46.164\n",
      "Sample:                                          0   HQIC                            41.548\n",
      "                                              - 60                                         \n",
      "Covariance Type:                               opg                                         \n",
      "==============================================================================\n",
      "                 coef    std err          z      P>|z|      [0.025      0.975]\n",
      "------------------------------------------------------------------------------\n",
      "ma.L1         -0.9303      0.214     -4.341      0.000      -1.350      -0.510\n",
      "ar.S.L12      -0.2769      0.128     -2.159      0.031      -0.528      -0.026\n",
      "ar.S.L24      -0.6102      0.156     -3.922      0.000      -0.915      -0.305\n",
      "sigma2         0.0858      0.024      3.575      0.000       0.039       0.133\n",
      "===================================================================================\n",
      "Ljung-Box (L1) (Q):                   0.06   Jarque-Bera (JB):                 3.71\n",
      "Prob(Q):                              0.80   Prob(JB):                         0.16\n",
      "Heteroskedasticity (H):               0.57   Skew:                             0.62\n",
      "Prob(H) (two-sided):                  0.28   Kurtosis:                         3.59\n",
      "===================================================================================\n",
      "\n",
      "Warnings:\n",
      "[1] Covariance matrix calculated using the outer product of gradients (complex-step).\n",
      "Best AIC Value:  38.76334963013758\n"
     ]
    }
   ],
   "source": [
    "import pmdarima as pm\n",
    "from pmdarima.arima import auto_arima\n",
    "\n",
    "## Applying the Auto_arima function\n",
    "stepwise_fit = auto_arima(pm_df.avg_pm, start_p=1, start_q=1,\n",
    "                             max_p=3, max_q=3, m=12,\n",
    "                             start_P=0, seasonal=True,\n",
    "                             d=1, D=1, trace=True,\n",
    "                             method = 'nm', # instead of lbfgs\n",
    "                             information_criterion = 'aic',\n",
    "                             error_action='ignore',  # ignoring if an order does not work\n",
    "                             suppress_warnings=True,  # removing convergence warnings\n",
    "                             stepwise=True,   # set to stepwise\n",
    "                             random_state = 10)\n",
    "\n",
    "## Printing Summary & Best AIC value\n",
    "print(stepwise_fit.summary())\n",
    "\n",
    "print(\"Best AIC Value: \", stepwise_fit.aic())"
   ]
  },
  {
   "cell_type": "markdown",
   "id": "going-commander",
   "metadata": {},
   "source": [
    "### Summary Review\n",
    "\n",
    "When previously conducting this analysis, the Auto_arima function with default parameters displayed that ARIMA(1,1,0)(2,1,0)[12] was the best model and it had an AIC value of AIC=47.311.\n",
    "All of the model coeffients were statistically significant, and the p-values were less than 0.05 and the confidence intervals did not contain zero (aside from sigma2).\n",
    "\n",
    "I went through the various optimization methods I could pass to the model and documented the AIC score and model produced (if applicable). \n",
    "\n",
    "- method = 'nm' ->  Best AIC 42.142 -->  ARIMA(0,1,1)(2,1,0)[12]\n",
    "\n",
    "- method = 'powell' and method = 'bfgs' gave same results as 'lbfgs' (the default parameter) \n",
    "\n",
    "- method = 'cg' --> best AIC AIC=68.496 --> ARIMA(0,1,1)(0,1,0)[12] \n",
    "\n",
    "- method = 'ncg' errored out \n",
    "\n",
    "- method = 'basinhopping' took too long to run \n",
    "\n",
    "The two methods that caught my eye were 'nm' or newton, and 'cg' or conjugate gradient, since they both had an AIC value that was less than the default parameter 'lbfgs'. I chose to continue with the newton method since that AIC was the lowest and all the coeffients were statistically significant and had a p-value < 0.05. \n",
    "\n",
    "Below, I will split the data into training and testing data. I have also adjusted the dates, so the training dataset now contains 3 years (as opposed to 4 last time) and the testing data contains 2 years worth of data (as opposed to 1). "
   ]
  },
  {
   "cell_type": "code",
   "execution_count": 24,
   "id": "incoming-precipitation",
   "metadata": {},
   "outputs": [
    {
     "name": "stdout",
     "output_type": "stream",
     "text": [
      "              avg_pm\n",
      "Date                \n",
      "2010-01-01 -0.088764\n",
      "2010-02-01 -0.014984\n",
      "2010-03-01 -0.049029\n",
      "2010-04-01 -0.201891\n",
      "2010-05-01 -0.127254\n",
      "2010-06-01  0.112878\n",
      "2010-07-01  0.271970\n",
      "2010-08-01 -0.010985\n",
      "2010-09-01  0.259616\n",
      "2010-10-01  0.221287\n",
      "2010-11-01  0.429197\n",
      "2010-12-01 -0.013904\n",
      "2011-01-01 -0.583620\n",
      "2011-02-01  0.561745\n",
      "2011-03-01 -0.442098\n",
      "2011-04-01 -0.076344\n",
      "2011-05-01 -0.361671\n",
      "2011-06-01  0.107048\n",
      "2011-07-01  0.097328\n",
      "2011-08-01  0.052269\n",
      "2011-09-01 -0.036292\n",
      "2011-10-01  0.506386\n",
      "2011-11-01  0.119707\n",
      "2011-12-01  0.107620\n",
      "2012-01-01  0.224849\n",
      "2012-02-01 -0.158786\n",
      "2012-03-01 -0.019082\n",
      "2012-04-01 -0.120527\n",
      "2012-05-01 -0.079658\n",
      "2012-06-01 -0.021914\n",
      "2012-07-01 -0.194077\n",
      "2012-08-01 -0.192810\n",
      "2012-09-01 -0.419469\n",
      "2012-10-01 -0.041000\n",
      "2012-11-01 -0.120124\n",
      "2012-12-01  0.114980\n",
      "              avg_pm\n",
      "Date                \n",
      "2013-01-01  1.028364\n",
      "2013-02-01  0.273642\n",
      "2013-03-01  0.265637\n",
      "2013-04-01 -0.353071\n",
      "2013-05-01 -0.146531\n",
      "2013-06-01  0.139091\n",
      "2013-07-01 -0.321887\n",
      "2013-08-01 -0.398762\n",
      "2013-09-01 -0.085450\n",
      "2013-10-01  0.085121\n",
      "2013-11-01 -0.082209\n",
      "2013-12-01 -0.001110\n",
      "2014-01-01  0.216671\n",
      "2014-02-01  0.825689\n",
      "2014-03-01  0.128981\n",
      "2014-04-01 -0.036723\n",
      "2014-05-01 -0.286352\n",
      "2014-06-01 -0.429452\n",
      "2014-07-01 -0.099483\n",
      "2014-08-01 -0.387515\n",
      "2014-09-01 -0.307656\n",
      "2014-10-01  0.455654\n",
      "2014-11-01  0.062629\n",
      "2014-12-01 -0.216897\n"
     ]
    }
   ],
   "source": [
    "## Splitting Test and Training Data \n",
    "train = pm_df[:-24]  ## Training Data\n",
    "test = pm_df[-24:] ## Testing  Data\n",
    "\n",
    "\n",
    "print(train) # 2010 - 2012 Data Values\n",
    "print(test) # 2013 - 2014 Year Data Values"
   ]
  },
  {
   "cell_type": "code",
   "execution_count": 25,
   "id": "cardiovascular-agent",
   "metadata": {},
   "outputs": [],
   "source": [
    "## Fitting the Model with the Training Dataset \n",
    "stepwise_fit.fit(train)\n",
    "\n",
    "## Using the Model to predict the values of the Test Dataset\n",
    "predictions, CI = stepwise_fit.predict(n_periods=test.shape[0], return_conf_int = True)\n",
    "\n"
   ]
  },
  {
   "cell_type": "code",
   "execution_count": 26,
   "id": "rough-chess",
   "metadata": {},
   "outputs": [
    {
     "name": "stdout",
     "output_type": "stream",
     "text": [
      "[ 0.18833645 -0.10923831 -0.03693213 -0.10863695 -0.08849417 -0.00868903\n",
      " -0.17680101 -0.17327108 -0.40037048 -0.00426572 -0.10752889  0.12454759\n",
      "  0.21219427 -0.11668207 -0.02083287 -0.10225253 -0.07532858 -0.00389014\n",
      " -0.17510533 -0.17083966 -0.40040759 -0.00803094 -0.10469975  0.13196197]\n",
      "              avg_pm\n",
      "Date                \n",
      "2013-01-01  1.028364\n",
      "2013-02-01  0.273642\n",
      "2013-03-01  0.265637\n",
      "2013-04-01 -0.353071\n",
      "2013-05-01 -0.146531\n",
      "2013-06-01  0.139091\n",
      "2013-07-01 -0.321887\n",
      "2013-08-01 -0.398762\n",
      "2013-09-01 -0.085450\n",
      "2013-10-01  0.085121\n",
      "2013-11-01 -0.082209\n",
      "2013-12-01 -0.001110\n",
      "2014-01-01  0.216671\n",
      "2014-02-01  0.825689\n",
      "2014-03-01  0.128981\n",
      "2014-04-01 -0.036723\n",
      "2014-05-01 -0.286352\n",
      "2014-06-01 -0.429452\n",
      "2014-07-01 -0.099483\n",
      "2014-08-01 -0.387515\n",
      "2014-09-01 -0.307656\n",
      "2014-10-01  0.455654\n",
      "2014-11-01  0.062629\n",
      "2014-12-01 -0.216897\n"
     ]
    }
   ],
   "source": [
    "print(predictions)\n",
    "print(test)"
   ]
  },
  {
   "cell_type": "code",
   "execution_count": 27,
   "id": "geological-interim",
   "metadata": {},
   "outputs": [
    {
     "data": {
      "image/png": "[encoded data removed]",
      "text/plain": [
       "<Figure size 576x360 with 1 Axes>"
      ]
     },
     "metadata": {
      "needs_background": "light"
     },
     "output_type": "display_data"
    }
   ],
   "source": [
    "def plot_mod_fit(df, col):\n",
    "    import matplotlib.pyplot as plt\n",
    "    fig = plt.figure(figsize=(8, 5)) # set plot area\n",
    "    ax = fig.gca() # define axis  \n",
    "    df.loc[:, col].plot(color = 'r', ax = ax)\n",
    "    df.loc[:, 'scores'].plot(ax = ax) \n",
    "    ax.set_title('Actual ' + col + ' vs. the predicted values') # Give the plot a main title\n",
    "    ax.set_xlabel('Date') # Set text for the x axis\n",
    "    ax.set_ylabel(col)# Set text for y axis\n",
    "    ax.legend()\n",
    "    \n",
    "## Adding the Scores Column \n",
    "predictions = pd.DataFrame(predictions, index = test.index,\n",
    "                               columns=['scores'])\n",
    "predictions = pd.concat([test, predictions],axis=1)\n",
    "\n",
    "## Adding a Residual Column \n",
    "predictions.loc[:, \"residual\"] = predictions.loc[:, \"scores\"] - predictions.loc[:, \"avg_pm\"]\n",
    "\n",
    "\n",
    "## Plotting Prediction vs Actual Values \n",
    "plot_mod_fit(predictions, 'avg_pm')"
   ]
  },
  {
   "cell_type": "markdown",
   "id": "going-liabilities",
   "metadata": {},
   "source": [
    "These predictions are close to the actual observations. The two lines in the plot above do not overlap on some parts (March to November, for example) however the difference between the values are not drastically different. The best way to check how close the actual observations are to the predictions is relying on the RMSE."
   ]
  },
  {
   "cell_type": "code",
   "execution_count": 28,
   "id": "thrown-digit",
   "metadata": {},
   "outputs": [
    {
     "data": {
      "text/plain": [
       "0.5744357655214649"
      ]
     },
     "execution_count": 28,
     "metadata": {},
     "output_type": "execute_result"
    }
   ],
   "source": [
    "def RMSE(ts, score):\n",
    "    from math import sqrt\n",
    "    return sqrt(np.std(ts - score))\n",
    "\n",
    "RMSE(predictions.loc[:, \"avg_pm\"], predictions.loc[:, \"scores\"])\n",
    "\n"
   ]
  },
  {
   "cell_type": "markdown",
   "id": "agricultural-salmon",
   "metadata": {},
   "source": [
    "This new model has a root mean square error (RMSE) of .574 which is a good improvement! Before making any auto arima model adjustments, the RMSE was 0.78. \n",
    "\n",
    "**Note, in Milestone 3 the RMSE was 4.786 which is no longer comparable since I have now scaled and averaged the pm2.5 column. Thus, I calculated the RMSE after making the changes to the pm2.5 column and before I tweaked the auto arima model. "
   ]
  },
  {
   "cell_type": "code",
   "execution_count": 29,
   "id": "helpful-closer",
   "metadata": {},
   "outputs": [
    {
     "data": {
      "image/png": "[encoded data removed]",
      "text/plain": [
       "<Figure size 432x288 with 1 Axes>"
      ]
     },
     "metadata": {
      "needs_background": "light"
     },
     "output_type": "display_data"
    },
    {
     "data": {
      "image/png": "[encoded data removed]",
      "text/plain": [
       "<Figure size 504x216 with 2 Axes>"
      ]
     },
     "metadata": {
      "needs_background": "light"
     },
     "output_type": "display_data"
    }
   ],
   "source": [
    "def dist_ts(ts, lab = '', bins = 20):\n",
    "    import scipy.stats as ss\n",
    "    ## Setup a figure with two subplots side by side\n",
    "    f, (ax1, ax2) = plt.subplots(1, 2, figsize=(7, 3))\n",
    "    ## Plot the histogram with labels\n",
    "    ts.hist(ax = ax1, bins = bins, alpha = 0.5)\n",
    "    ax1.set_xlabel('Value')\n",
    "    ax1.set_ylabel('Frequency')\n",
    "    ax1.set_title('Histogram of ' + lab)\n",
    "    ## Plot the q-q plot on the other axes\n",
    "    ss.probplot(ts, plot = ax2)\n",
    "    \n",
    "def plot_ts(ts, title):\n",
    "    ts.plot()\n",
    "    plt.title(title)\n",
    "    plt.xlabel('Date')\n",
    "    plt.ylabel('Value')\n",
    "    \n",
    "    \n",
    "    \n",
    "plot_ts(predictions.loc[:, 'residual'],  \n",
    "        title = 'Residual time series of monthly average pm2.5 ' )\n",
    "\n",
    "dist_ts(predictions.loc[:, 'residual'], \n",
    "        '\\n residual of trend and seasonal model')"
   ]
  },
  {
   "cell_type": "markdown",
   "id": "cubic-assault",
   "metadata": {},
   "source": [
    "The time series of the residual does show slight periodic behaivor. The histogram of the residual data does appear to be normally distributed (and slightly skewed to the left) , and the probability plot does appear to fall some what close to the red line. These residuals do appear to be more normally distributed than the milestone 3 assignment residuals. \n"
   ]
  },
  {
   "cell_type": "code",
   "execution_count": 30,
   "id": "extreme-single",
   "metadata": {},
   "outputs": [
    {
     "name": "stdout",
     "output_type": "stream",
     "text": [
      "Confidence Intervals for the Predictions in 2013: \n",
      "[[-0.99778855  1.37446145]\n",
      " [-1.74921497  1.53073835]\n",
      " [-2.02995856  1.95609431]\n",
      " [-2.40096879  2.1836949 ]\n",
      " [-2.64533132  2.46834298]\n",
      " [-2.80512375  2.78774569]\n",
      " [-3.19386549  2.84026347]\n",
      " [-3.39589563  3.04935347]\n",
      " [-3.81620712  3.01546615]\n",
      " [-3.60295587  3.59442444]\n",
      " [-3.88022047  3.66516269]\n",
      " [-3.81446658  4.06356177]\n",
      " [-4.33258239  4.75697093]\n",
      " [-5.17276397  4.93939983]\n",
      " [-5.54106234  5.4993966 ]\n",
      " [-6.05052141  5.84601635]\n",
      " [-6.42283769  6.27218054]\n",
      " [-6.72697286  6.71919257]\n",
      " [-7.25386302  6.90365237]\n",
      " [-7.58823677  7.24655744]\n",
      " [-8.14164451  7.34082933]\n",
      " [-8.06009392  8.04403205]\n",
      " [-8.45602825  8.24662874]\n",
      " [-8.5082728   8.77219674]]\n",
      "\n",
      "\n",
      "Mean for the Forecast/Predictions: \n",
      "avg_pm      0.013683\n",
      "scores     -0.072302\n",
      "residual   -0.085985\n",
      "dtype: float64\n"
     ]
    }
   ],
   "source": [
    "print(\"Confidence Intervals for the Predictions in 2013: \")\n",
    "print(CI)\n",
    "\n",
    "print(\"\\n\")\n",
    "\n",
    "print(\"Mean for the Forecast/Predictions: \")\n",
    "print(np.mean(predictions))"
   ]
  },
  {
   "cell_type": "markdown",
   "id": "bizarre-edmonton",
   "metadata": {},
   "source": [
    "The confidence interval ranges fluctuate a lot and can be large at times. "
   ]
  },
  {
   "cell_type": "markdown",
   "id": "declared-polls",
   "metadata": {},
   "source": [
    "### Conclusions "
   ]
  },
  {
   "cell_type": "markdown",
   "id": "oriented-insight",
   "metadata": {},
   "source": [
    "The purpose of this assignment was to revisit a previous model we generated, and to adjust and/or apply data enhancement techniques. For this time series model, I continued to work with the auto_arima model to forecast pm2.5 pollutant data in Beijing. Some of the adjustments I made included: using the average pm2.5 values, changing the frequency of the timeseries to monthly instead of hourly, specified the \"newton\" method of optimization for the model, and trained the model on 3 years of data instead ofo 4.\n",
    "\n",
    "All in all this yielded positive results, and improved the forecasting done by the model. The model's predictions had a root mean square error (RMSE) of .574 - which is approximately and improvement of 0.21. The residuals also appeared to be more normally distributed than the first attempt of the model.\n",
    "\n",
    "I believe this model could be utilized at an organization to understand the time based fluctuations of the pm2.5 pollutant in Beijing, and make relatively close estimates to what the pm2.5 pollution rates may be like in the future. \n"
   ]
  },
  {
   "cell_type": "code",
   "execution_count": null,
   "id": "polish-nature",
   "metadata": {},
   "outputs": [],
   "source": []
  }
 ],
 "metadata": {
  "kernelspec": {
   "display_name": "Python 3",
   "language": "python",
   "name": "python3"
  },
  "language_info": {
   "codemirror_mode": {
    "name": "ipython",
    "version": 3
   },
   "file_extension": ".py",
   "mimetype": "text/x-python",
   "name": "python",
   "nbconvert_exporter": "python",
   "pygments_lexer": "ipython3",
   "version": "3.8.5"
  }
 },
 "nbformat": 4,
 "nbformat_minor": 5
}
