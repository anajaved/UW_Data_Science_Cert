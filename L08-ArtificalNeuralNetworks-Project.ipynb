{
 "cells": [
  {
   "cell_type": "markdown",
   "metadata": {},
   "source": [
    "## Lesson 8 - Artificial Neural Networks \n",
    "### Author: Ana Javed"
   ]
  },
  {
   "cell_type": "markdown",
   "metadata": {},
   "source": [
    "### Wine Classifier\n",
    "\n",
    "\n",
    "#### Workplace Scenario\n",
    "\n",
    "Mackenzie has a wine bottling factory and recently attended a followup symposium on deep learning and has returned with fascinating ideas to build neural networks to perform classification tasks. She had the idea of building a red-white wine classifier so that the bottle labels can be automatically generated. She approached your team, and suggested that you build a red-white wine classifier as a modified simple perceptron.\n",
    "\n",
    "Perform each of the following tasks and answer the related questions:\n",
    "\n",
    "   - Use the provided RedWhiteWine.csv file. Include ALL the features with “Class” being your output vector\n",
    "   - Use the provided Simple Perceptron Neural Network notebook to develop a multi-layer feed-forward/backpropagation neural network\n",
    "   - Be able to adjust the following between experiments:\n",
    "        - Learning Rate\n",
    "        - Number of epochs\n",
    "        - Depth of architecture—number of hidden layers between the input and output layers\n",
    "        - Number of nodes in a hidden layer—width of the hidden layers\n",
    "        - (optional) Momentum\n",
    "   - Determine what the best neural network structure and hyperparameter settings results in the best predictive capability\n",
    "\n",
    "\n",
    "This code was developed based on the code provided here: https://machinelearningmastery.com/implement-backpropagation-algorithm-scratch-python/\n"
   ]
  },
  {
   "cell_type": "code",
   "execution_count": 25,
   "metadata": {},
   "outputs": [],
   "source": [
    "## Importing Necessary Libraries & Packages \n",
    "import matplotlib.pyplot as plt\n",
    "import pandas as pd \n",
    "import numpy as np\n",
    "import datetime as dt\n",
    "import csv\n",
    "import sklearn \n",
    "from sklearn.preprocessing import StandardScaler\n",
    "from sklearn.model_selection import train_test_split\n",
    "\n",
    "# Declaring inline visualizations \n",
    "%matplotlib inline\n"
   ]
  },
  {
   "cell_type": "markdown",
   "metadata": {},
   "source": [
    "## Data Set\n",
    "\n",
    "We are using the Red, White Wine dataset that can found here: (https://library.startlearninglabs.uw.edu/DATASCI420/2019/Datasets/RedWhiteWine.csv) "
   ]
  },
  {
   "cell_type": "code",
   "execution_count": 26,
   "metadata": {},
   "outputs": [],
   "source": [
    "url = \"https://library.startlearninglabs.uw.edu/DATASCI420/2019/Datasets/RedWhiteWine.csv\"\n",
    "    \n",
    "df = pd.read_csv(url, sep=\",\", header=0)\n",
    "\n",
    "df.columns =['fixedAcidity','volatileAcidity','citricAcid','residualSugar',\n",
    "                      'chlorides','freeSulfurDioxide','totalSulfurDioxide','density',\n",
    "                      'pH','sulphates','alcohol','quality','Class']"
   ]
  },
  {
   "cell_type": "code",
   "execution_count": 27,
   "metadata": {},
   "outputs": [
    {
     "name": "stdout",
     "output_type": "stream",
     "text": [
      "(6497, 13)\n",
      "fixedAcidity          float64\n",
      "volatileAcidity       float64\n",
      "citricAcid            float64\n",
      "residualSugar         float64\n",
      "chlorides             float64\n",
      "freeSulfurDioxide     float64\n",
      "totalSulfurDioxide    float64\n",
      "density               float64\n",
      "pH                    float64\n",
      "sulphates             float64\n",
      "alcohol               float64\n",
      "quality                 int64\n",
      "Class                   int64\n",
      "dtype: object\n",
      "       fixedAcidity  volatileAcidity   citricAcid  residualSugar    chlorides  \\\n",
      "count   6497.000000      6497.000000  6497.000000    6497.000000  6497.000000   \n",
      "mean       7.215307         0.339666     0.318633       5.443235     0.056034   \n",
      "std        1.296434         0.164636     0.145318       4.757804     0.035034   \n",
      "min        3.800000         0.080000     0.000000       0.600000     0.009000   \n",
      "25%        6.400000         0.230000     0.250000       1.800000     0.038000   \n",
      "50%        7.000000         0.290000     0.310000       3.000000     0.047000   \n",
      "75%        7.700000         0.400000     0.390000       8.100000     0.065000   \n",
      "max       15.900000         1.580000     1.660000      65.800000     0.611000   \n",
      "\n",
      "       freeSulfurDioxide  totalSulfurDioxide      density           pH  \\\n",
      "count        6497.000000         6497.000000  6497.000000  6497.000000   \n",
      "mean           30.525319          115.744574     0.994697     3.218501   \n",
      "std            17.749400           56.521855     0.002999     0.160787   \n",
      "min             1.000000            6.000000     0.987110     2.720000   \n",
      "25%            17.000000           77.000000     0.992340     3.110000   \n",
      "50%            29.000000          118.000000     0.994890     3.210000   \n",
      "75%            41.000000          156.000000     0.996990     3.320000   \n",
      "max           289.000000          440.000000     1.038980     4.010000   \n",
      "\n",
      "         sulphates      alcohol      quality        Class  \n",
      "count  6497.000000  6497.000000  6497.000000  6497.000000  \n",
      "mean      0.531268    10.491801     5.818378     0.246114  \n",
      "std       0.148806     1.192712     0.873255     0.430779  \n",
      "min       0.220000     8.000000     3.000000     0.000000  \n",
      "25%       0.430000     9.500000     5.000000     0.000000  \n",
      "50%       0.510000    10.300000     6.000000     0.000000  \n",
      "75%       0.600000    11.300000     6.000000     0.000000  \n",
      "max       2.000000    14.900000     9.000000     1.000000  \n"
     ]
    },
    {
     "data": {
      "text/html": [
       "<div>\n",
       "<style scoped>\n",
       "    .dataframe tbody tr th:only-of-type {\n",
       "        vertical-align: middle;\n",
       "    }\n",
       "\n",
       "    .dataframe tbody tr th {\n",
       "        vertical-align: top;\n",
       "    }\n",
       "\n",
       "    .dataframe thead th {\n",
       "        text-align: right;\n",
       "    }\n",
       "</style>\n",
       "<table border=\"1\" class=\"dataframe\">\n",
       "  <thead>\n",
       "    <tr style=\"text-align: right;\">\n",
       "      <th></th>\n",
       "      <th>fixedAcidity</th>\n",
       "      <th>volatileAcidity</th>\n",
       "      <th>citricAcid</th>\n",
       "      <th>residualSugar</th>\n",
       "      <th>chlorides</th>\n",
       "      <th>freeSulfurDioxide</th>\n",
       "      <th>totalSulfurDioxide</th>\n",
       "      <th>density</th>\n",
       "      <th>pH</th>\n",
       "      <th>sulphates</th>\n",
       "      <th>alcohol</th>\n",
       "      <th>quality</th>\n",
       "      <th>Class</th>\n",
       "    </tr>\n",
       "  </thead>\n",
       "  <tbody>\n",
       "    <tr>\n",
       "      <th>0</th>\n",
       "      <td>7.4</td>\n",
       "      <td>0.70</td>\n",
       "      <td>0.00</td>\n",
       "      <td>1.9</td>\n",
       "      <td>0.076</td>\n",
       "      <td>11.0</td>\n",
       "      <td>34.0</td>\n",
       "      <td>0.9978</td>\n",
       "      <td>3.51</td>\n",
       "      <td>0.56</td>\n",
       "      <td>9.4</td>\n",
       "      <td>5</td>\n",
       "      <td>1</td>\n",
       "    </tr>\n",
       "    <tr>\n",
       "      <th>1</th>\n",
       "      <td>7.8</td>\n",
       "      <td>0.88</td>\n",
       "      <td>0.00</td>\n",
       "      <td>2.6</td>\n",
       "      <td>0.098</td>\n",
       "      <td>25.0</td>\n",
       "      <td>67.0</td>\n",
       "      <td>0.9968</td>\n",
       "      <td>3.20</td>\n",
       "      <td>0.68</td>\n",
       "      <td>9.8</td>\n",
       "      <td>5</td>\n",
       "      <td>1</td>\n",
       "    </tr>\n",
       "    <tr>\n",
       "      <th>2</th>\n",
       "      <td>7.8</td>\n",
       "      <td>0.76</td>\n",
       "      <td>0.04</td>\n",
       "      <td>2.3</td>\n",
       "      <td>0.092</td>\n",
       "      <td>15.0</td>\n",
       "      <td>54.0</td>\n",
       "      <td>0.9970</td>\n",
       "      <td>3.26</td>\n",
       "      <td>0.65</td>\n",
       "      <td>9.8</td>\n",
       "      <td>5</td>\n",
       "      <td>1</td>\n",
       "    </tr>\n",
       "    <tr>\n",
       "      <th>3</th>\n",
       "      <td>11.2</td>\n",
       "      <td>0.28</td>\n",
       "      <td>0.56</td>\n",
       "      <td>1.9</td>\n",
       "      <td>0.075</td>\n",
       "      <td>17.0</td>\n",
       "      <td>60.0</td>\n",
       "      <td>0.9980</td>\n",
       "      <td>3.16</td>\n",
       "      <td>0.58</td>\n",
       "      <td>9.8</td>\n",
       "      <td>6</td>\n",
       "      <td>1</td>\n",
       "    </tr>\n",
       "    <tr>\n",
       "      <th>4</th>\n",
       "      <td>7.4</td>\n",
       "      <td>0.70</td>\n",
       "      <td>0.00</td>\n",
       "      <td>1.9</td>\n",
       "      <td>0.076</td>\n",
       "      <td>11.0</td>\n",
       "      <td>34.0</td>\n",
       "      <td>0.9978</td>\n",
       "      <td>3.51</td>\n",
       "      <td>0.56</td>\n",
       "      <td>9.4</td>\n",
       "      <td>5</td>\n",
       "      <td>1</td>\n",
       "    </tr>\n",
       "  </tbody>\n",
       "</table>\n",
       "</div>"
      ],
      "text/plain": [
       "   fixedAcidity  volatileAcidity  citricAcid  residualSugar  chlorides  \\\n",
       "0           7.4             0.70        0.00            1.9      0.076   \n",
       "1           7.8             0.88        0.00            2.6      0.098   \n",
       "2           7.8             0.76        0.04            2.3      0.092   \n",
       "3          11.2             0.28        0.56            1.9      0.075   \n",
       "4           7.4             0.70        0.00            1.9      0.076   \n",
       "\n",
       "   freeSulfurDioxide  totalSulfurDioxide  density    pH  sulphates  alcohol  \\\n",
       "0               11.0                34.0   0.9978  3.51       0.56      9.4   \n",
       "1               25.0                67.0   0.9968  3.20       0.68      9.8   \n",
       "2               15.0                54.0   0.9970  3.26       0.65      9.8   \n",
       "3               17.0                60.0   0.9980  3.16       0.58      9.8   \n",
       "4               11.0                34.0   0.9978  3.51       0.56      9.4   \n",
       "\n",
       "   quality  Class  \n",
       "0        5      1  \n",
       "1        5      1  \n",
       "2        5      1  \n",
       "3        6      1  \n",
       "4        5      1  "
      ]
     },
     "execution_count": 27,
     "metadata": {},
     "output_type": "execute_result"
    }
   ],
   "source": [
    "## Conducting Exploratory Data Analysis: \n",
    "\n",
    "print(df.shape)  # (6497, 13)\n",
    "print(df.dtypes) \n",
    "print(df.describe()) \n",
    "\n",
    "df.head()"
   ]
  },
  {
   "cell_type": "code",
   "execution_count": 28,
   "metadata": {},
   "outputs": [],
   "source": [
    "## Function to Find & Replace Missing values\n",
    "\n",
    "def replace_missing_values(df):\n",
    "    for each in df.columns:\n",
    "        if df.loc[:, each].dtype in ('float64', 'int64'):\n",
    "            df.loc[:, each] = pd.to_numeric(df.loc[:, each], errors='coerce')\n",
    "            HasNan1 = np.isnan(df.loc[:, each] )\n",
    "            \n",
    "            print(\"Number of missing values removed in \" + each + \" column:\", sum(HasNan1)) \n",
    "            \n",
    "            if sum(HasNan1) > 0:\n",
    "                df.loc[HasNan1, each] = np.nanmedian(df.loc[:, each] )\n",
    "            else:\n",
    "                continue \n",
    "\n"
   ]
  },
  {
   "cell_type": "code",
   "execution_count": 29,
   "metadata": {},
   "outputs": [
    {
     "name": "stdout",
     "output_type": "stream",
     "text": [
      "Number of missing values removed in fixedAcidity column: 0\n",
      "Number of missing values removed in volatileAcidity column: 0\n",
      "Number of missing values removed in citricAcid column: 0\n",
      "Number of missing values removed in residualSugar column: 0\n",
      "Number of missing values removed in chlorides column: 0\n",
      "Number of missing values removed in freeSulfurDioxide column: 0\n",
      "Number of missing values removed in totalSulfurDioxide column: 0\n",
      "Number of missing values removed in density column: 0\n",
      "Number of missing values removed in pH column: 0\n",
      "Number of missing values removed in sulphates column: 0\n",
      "Number of missing values removed in alcohol column: 0\n",
      "Number of missing values removed in quality column: 0\n",
      "Number of missing values removed in Class column: 0\n"
     ]
    }
   ],
   "source": [
    "## Missing Value Counts by Columns: \n",
    "replace_missing_values(df)"
   ]
  },
  {
   "cell_type": "markdown",
   "metadata": {},
   "source": [
    "There are no missing data values in the dataset. I will continue to prep data for the artificial neural network."
   ]
  },
  {
   "cell_type": "code",
   "execution_count": 30,
   "metadata": {},
   "outputs": [],
   "source": [
    "## Separating The Class Column (Target Variable) from the dataset\n",
    "\n",
    "X = df.loc[:, ['fixedAcidity','volatileAcidity','citricAcid','residualSugar',\n",
    "                      'chlorides','freeSulfurDioxide','totalSulfurDioxide','density',\n",
    "                      'pH','sulphates','alcohol','quality']]\n",
    "\n",
    "Y = df.loc[:, \"Class\"]\n"
   ]
  },
  {
   "cell_type": "code",
   "execution_count": 31,
   "metadata": {},
   "outputs": [],
   "source": [
    "## Normalizing Independent Attributes with StandardScaler \n",
    "\n",
    "# print(X.describe())\n",
    "standardization_scale = StandardScaler().fit(X)\n",
    "X = pd.DataFrame(standardization_scale.transform(X), \n",
    "                             columns=X.columns)\n",
    "\n",
    "# X.describe()\n",
    "\n",
    "## Creating a Dataframe of Normalized Independent Columns + Depdendent Class Columns \n",
    "X_full = X\n",
    "X_full[\"Class\"] = Y\n",
    "\n",
    "## Converting X and Y To Arrays\n",
    "X = np.transpose(X).to_numpy()\n",
    "Y = Y.to_numpy()\n",
    "\n",
    "\n",
    "# X_full.head()"
   ]
  },
  {
   "cell_type": "markdown",
   "metadata": {},
   "source": [
    "### Initialize Parameters\n",
    "Because this there are not hidden layers, the second dimension is always assigned to 1. std is set to ${1^{-1}}$ to ensure values are between zero and 1. If zeros, there's no reason to multiply with std."
   ]
  },
  {
   "cell_type": "code",
   "execution_count": 32,
   "metadata": {},
   "outputs": [],
   "source": [
    "from random import seed\n",
    "from random import random\n",
    "from math import exp\n",
    "\n",
    "# Initialize a network\n",
    "def initialize_network(n_inputs, n_hidden, n_outputs, num_hidden_layers):\n",
    "    network = list()\n",
    "    \n",
    "    count = 0\n",
    "    \n",
    "    for i in range(0, num_hidden_layers +1) :\n",
    "        # print(i)\n",
    "        hidden_layer = [{'weights':[random() for i in range(n_inputs + 1)]} for i in range(n_hidden)]\n",
    "        network.append(hidden_layer)\n",
    "        count += 1 \n",
    "        \n",
    "        if num_hidden_layers == count:\n",
    "            break \n",
    "        \n",
    "    output_layer = [{'weights':[random() for i in range(n_hidden + 1)]} for i in range(n_outputs)]\n",
    "    network.append(output_layer)\n",
    "    return network"
   ]
  },
  {
   "cell_type": "code",
   "execution_count": 33,
   "metadata": {},
   "outputs": [
    {
     "name": "stdout",
     "output_type": "stream",
     "text": [
      "[{'weights': [0.052363598850944326, 0.08718667752263232, 0.4072417636703983]}]\n",
      "[{'weights': [0.10770023493843905, 0.9011988779516946]}, {'weights': [0.0381536661023224, 0.5362020400339269]}]\n"
     ]
    }
   ],
   "source": [
    "## Testing the Initialize_network function by printing out the layers one by one \n",
    "\n",
    "seed(123)\n",
    "network = initialize_network(2,1,2, num_hidden_layers =1)\n",
    "for layer in network:\n",
    "        print(layer)\n",
    "        \n",
    "## Hidding layer has one neuron with 2 inputs plus bias \n",
    "## The output layer has 2 neurons each with 1 weight plus bias "
   ]
  },
  {
   "cell_type": "code",
   "execution_count": 34,
   "metadata": {},
   "outputs": [],
   "source": [
    "## Calculate neuron activation for an input\n",
    "def activate(weights, inputs):\n",
    "    activation = weights[-1]\n",
    "    for i in range(len(weights)-1):\n",
    "        activation += weights[i] * inputs[i]\n",
    "    return activation\n",
    "\n",
    "## Transfer Neuron Activation\n",
    "def transfer(activation):\n",
    "    return 1.0 / (1.0 + exp(-activation))"
   ]
  },
  {
   "cell_type": "markdown",
   "metadata": {},
   "source": [
    "### Forward Propagation\n",
    "Here, I am assuming a single layered network. Note that event with single layered network, the layer itself can have multiple nodes. Also, I am using vectorized operations here i.e not using explicit loops. This helps in processing multiple inputs."
   ]
  },
  {
   "cell_type": "code",
   "execution_count": 35,
   "metadata": {},
   "outputs": [],
   "source": [
    "## Forward Propogation input to a Network Output\n",
    "def forward_propagate(network, row):\n",
    "    inputs = row\n",
    "    for layer in network:\n",
    "        new_inputs = []\n",
    "        for neuron in layer:\n",
    "            activation = activate(neuron['weights'], inputs)\n",
    "            neuron['output'] = transfer(activation)\n",
    "            new_inputs.append(neuron['output'])\n",
    "        inputs = new_inputs\n",
    "    return inputs\n"
   ]
  },
  {
   "cell_type": "markdown",
   "metadata": {},
   "source": [
    "### Backpropagation"
   ]
  },
  {
   "cell_type": "code",
   "execution_count": 36,
   "metadata": {},
   "outputs": [],
   "source": [
    "# Calculate the derivative of an neuron output\n",
    "def transfer_derivative(output):\n",
    "    return output * (1.0 - output)\n",
    "\n",
    " \n",
    "# Backpropagate error and store in neurons\n",
    "def backward_propagate_error(network, expected):\n",
    "    for i in reversed(range(len(network))):\n",
    "        layer = network[i]\n",
    "        errors = list()\n",
    "        if i != len(network)-1:\n",
    "            for j in range(len(layer)):\n",
    "                error = 0.0\n",
    "                for neuron in network[i + 1]:\n",
    "                    error += (neuron['weights'][j] * neuron['delta'])\n",
    "                errors.append(error)\n",
    "        else:\n",
    "            for j in range(len(layer)):\n",
    "                neuron = layer[j]\n",
    "                errors.append(expected[j] - neuron['output'])\n",
    "        for j in range(len(layer)):\n",
    "            neuron = layer[j]\n",
    "            neuron['delta'] = errors[j] * transfer_derivative(neuron['output'])"
   ]
  },
  {
   "cell_type": "code",
   "execution_count": 37,
   "metadata": {},
   "outputs": [],
   "source": [
    "# Update network weights with error\n",
    "def update_weights(network, row, l_rate):\n",
    "    for i in range(len(network)):\n",
    "        inputs = row[:-1]\n",
    "        if i != 0:\n",
    "            inputs = [neuron['output'] for neuron in network[i - 1]]\n",
    "        for neuron in network[i]:\n",
    "            for j in range(len(inputs)):\n",
    "                neuron['weights'][j] += l_rate * neuron['delta'] * inputs[j]\n",
    "            neuron['weights'][-1] += l_rate * neuron['delta']"
   ]
  },
  {
   "cell_type": "code",
   "execution_count": 38,
   "metadata": {},
   "outputs": [],
   "source": [
    "# Train a network for a fixed number of epochs\n",
    "def train_network(network, train, l_rate, n_epoch, n_outputs):\n",
    "    errors = list()\n",
    "    for epoch in range(n_epoch):\n",
    "        sum_error = 0\n",
    "        for row in train:\n",
    "            outputs = forward_propagate(network, row)\n",
    "            expected = [0 for i in range(n_outputs)]\n",
    "#             print(expected)\n",
    "#             print(row)\n",
    "            expected[int(row[-1])] = 1\n",
    "            sum_error += sum([(expected[i]-outputs[i])**2 for i in range(len(expected))])\n",
    "            backward_propagate_error(network, expected)\n",
    "            update_weights(network, row, l_rate)\n",
    "        print('>epoch=%d, lrate=%.3f, error=%.3f' % (epoch, l_rate, sum_error))\n",
    "        errors.append(sum_error)\n",
    "    return errors "
   ]
  },
  {
   "cell_type": "code",
   "execution_count": 39,
   "metadata": {},
   "outputs": [],
   "source": [
    "## Converting full data frame to numpy array \n",
    "X_full = X_full.to_numpy()\n"
   ]
  },
  {
   "cell_type": "markdown",
   "metadata": {},
   "source": [
    "### Running the Experiment (Attempt 1): \n",
    "#### 20 Epochs, 2 Hidden Layer Width, Learning Rate = 0.5"
   ]
  },
  {
   "cell_type": "code",
   "execution_count": 40,
   "metadata": {},
   "outputs": [
    {
     "name": "stdout",
     "output_type": "stream",
     "text": [
      ">epoch=0, lrate=0.500, error=100.999\n",
      ">epoch=1, lrate=0.500, error=120.641\n",
      ">epoch=2, lrate=0.500, error=55.455\n",
      ">epoch=3, lrate=0.500, error=53.011\n",
      ">epoch=4, lrate=0.500, error=52.151\n",
      ">epoch=5, lrate=0.500, error=50.118\n",
      ">epoch=6, lrate=0.500, error=51.735\n",
      ">epoch=7, lrate=0.500, error=52.375\n",
      ">epoch=8, lrate=0.500, error=54.308\n",
      ">epoch=9, lrate=0.500, error=53.329\n",
      ">epoch=10, lrate=0.500, error=52.973\n",
      ">epoch=11, lrate=0.500, error=53.840\n",
      ">epoch=12, lrate=0.500, error=54.509\n",
      ">epoch=13, lrate=0.500, error=54.620\n",
      ">epoch=14, lrate=0.500, error=57.037\n",
      ">epoch=15, lrate=0.500, error=54.837\n",
      ">epoch=16, lrate=0.500, error=54.588\n",
      ">epoch=17, lrate=0.500, error=54.775\n",
      ">epoch=18, lrate=0.500, error=53.297\n",
      ">epoch=19, lrate=0.500, error=52.364\n"
     ]
    }
   ],
   "source": [
    "## Setting Variables for the Neural Network \n",
    "num_epochs = 20   # Number of Epochs\n",
    "learning_rate = 0.5 # Learning Rate\n",
    "\n",
    "hidden_layer_width = 2  # Number of Nodes in Hidden Layer\n",
    "num_hidden_layers = 1   # Number of Hidden Layers between Input and Output layers \n",
    "\n",
    "n_inputs = len(X_full[0]) - 1  # Number of Inputs \n",
    "n_outputs = len(set([row[-1] for row in X_full])) # Number of Outputs \n",
    "\n",
    "network = initialize_network(n_inputs, hidden_layer_width, n_outputs, num_hidden_layers)\n",
    "errors = train_network(network, X_full, learning_rate, num_epochs, n_outputs)\n",
    "\n"
   ]
  },
  {
   "cell_type": "code",
   "execution_count": 41,
   "metadata": {},
   "outputs": [
    {
     "name": "stdout",
     "output_type": "stream",
     "text": [
      "Hidden Layer:\n",
      "[{'weights': [-0.167663361158089, -0.01645577275355247, -0.31392321450945393, -1.915654757412831, 4.823979362062677, 1.7178714389217193, -3.666143821759209, 5.568881161833112, -0.5607113909693742, 0.6434395188391566, 2.4131966577472594, 1.9585880094586885, -4.015345518527125], 'output': 4.71726607430482e-07, 'delta': -5.438412375372857e-14}, {'weights': [-0.16967975243227254, -1.788383489314633, 0.41251731372311035, 3.2671413695699996, 0.2576728904079014, -0.47368763495162575, 2.935484836548079, -3.9609076092084186, -0.31437197130913463, -0.23066634886108975, -1.1943808791529336, 0.0318690577389258, 2.0601089148565848], 'output': 0.9962438656467743, 'delta': 5.113521047131355e-10}]\n",
      "\n",
      "\n",
      "Output Layer\n",
      "[{'weights': [-5.826813850841552, 6.903709577343292, 2.3403257370218093], 'output': 0.9999007829335036, 'delta': 9.843049588741481e-09}, {'weights': [5.820429441890063, -6.901832080464204, -2.3366145417792605], 'output': 9.977235316405107e-05, 'delta': -9.953529269762083e-09}]\n",
      "\n",
      "\n"
     ]
    }
   ],
   "source": [
    "count = 0\n",
    "for layer in network:\n",
    "    if count != num_hidden_layers:\n",
    "        print(\"Hidden Layer:\")\n",
    "    elif count == num_hidden_layers:\n",
    "        print(\"Output Layer\")\n",
    "        \n",
    "    print(layer)\n",
    "    count += 1 \n",
    "    print(\"\\n\")"
   ]
  },
  {
   "cell_type": "markdown",
   "metadata": {},
   "source": [
    "### Errors Plot: 20 Epochs, 0.5 Learning Rate, 2 Hidden Layer Widths"
   ]
  },
  {
   "cell_type": "code",
   "execution_count": 42,
   "metadata": {},
   "outputs": [
    {
     "data": {
      "text/plain": [
       "[<matplotlib.lines.Line2D at 0x7fd3fc1b1580>]"
      ]
     },
     "execution_count": 42,
     "metadata": {},
     "output_type": "execute_result"
    },
    {
     "data": {
      "image/png": "[encoded data removed]",
      "text/plain": [
       "<Figure size 576x432 with 1 Axes>"
      ]
     },
     "metadata": {
      "needs_background": "light"
     },
     "output_type": "display_data"
    }
   ],
   "source": [
    "import matplotlib.pyplot as plt\n",
    "plt.rcParams['figure.figsize'] = (8.0, 6.0) #Set default plot sizes\n",
    "plt.rcParams['image.interpolation'] = 'nearest' #Use nearest neighbor for rendering\n",
    "\n",
    "plt.plot(errors)"
   ]
  },
  {
   "cell_type": "markdown",
   "metadata": {},
   "source": [
    "### Running the Experiment  (Attempt 2): \n",
    "#### 50 Epochs, 3 Hidden Layer Width, Learning Rate = 0.25"
   ]
  },
  {
   "cell_type": "code",
   "execution_count": 43,
   "metadata": {},
   "outputs": [
    {
     "name": "stdout",
     "output_type": "stream",
     "text": [
      ">epoch=0, lrate=0.250, error=170.894\n",
      ">epoch=1, lrate=0.250, error=278.199\n",
      ">epoch=2, lrate=0.250, error=71.606\n",
      ">epoch=3, lrate=0.250, error=60.903\n",
      ">epoch=4, lrate=0.250, error=58.685\n",
      ">epoch=5, lrate=0.250, error=57.043\n",
      ">epoch=6, lrate=0.250, error=55.734\n",
      ">epoch=7, lrate=0.250, error=54.590\n",
      ">epoch=8, lrate=0.250, error=53.360\n",
      ">epoch=9, lrate=0.250, error=51.902\n",
      ">epoch=10, lrate=0.250, error=50.425\n",
      ">epoch=11, lrate=0.250, error=48.970\n",
      ">epoch=12, lrate=0.250, error=47.356\n",
      ">epoch=13, lrate=0.250, error=45.871\n",
      ">epoch=14, lrate=0.250, error=44.957\n",
      ">epoch=15, lrate=0.250, error=44.142\n",
      ">epoch=16, lrate=0.250, error=43.401\n",
      ">epoch=17, lrate=0.250, error=42.810\n",
      ">epoch=18, lrate=0.250, error=42.320\n",
      ">epoch=19, lrate=0.250, error=41.943\n",
      ">epoch=20, lrate=0.250, error=41.619\n",
      ">epoch=21, lrate=0.250, error=41.349\n",
      ">epoch=22, lrate=0.250, error=41.096\n",
      ">epoch=23, lrate=0.250, error=40.866\n",
      ">epoch=24, lrate=0.250, error=40.641\n",
      ">epoch=25, lrate=0.250, error=40.428\n",
      ">epoch=26, lrate=0.250, error=40.217\n",
      ">epoch=27, lrate=0.250, error=40.011\n",
      ">epoch=28, lrate=0.250, error=39.805\n",
      ">epoch=29, lrate=0.250, error=39.598\n",
      ">epoch=30, lrate=0.250, error=39.387\n",
      ">epoch=31, lrate=0.250, error=39.166\n",
      ">epoch=32, lrate=0.250, error=38.930\n",
      ">epoch=33, lrate=0.250, error=38.669\n",
      ">epoch=34, lrate=0.250, error=38.375\n",
      ">epoch=35, lrate=0.250, error=38.042\n",
      ">epoch=36, lrate=0.250, error=37.687\n",
      ">epoch=37, lrate=0.250, error=37.366\n",
      ">epoch=38, lrate=0.250, error=37.137\n",
      ">epoch=39, lrate=0.250, error=37.001\n",
      ">epoch=40, lrate=0.250, error=36.918\n",
      ">epoch=41, lrate=0.250, error=36.851\n",
      ">epoch=42, lrate=0.250, error=36.793\n",
      ">epoch=43, lrate=0.250, error=36.741\n",
      ">epoch=44, lrate=0.250, error=36.693\n",
      ">epoch=45, lrate=0.250, error=36.648\n",
      ">epoch=46, lrate=0.250, error=36.608\n",
      ">epoch=47, lrate=0.250, error=36.572\n",
      ">epoch=48, lrate=0.250, error=36.538\n",
      ">epoch=49, lrate=0.250, error=36.501\n"
     ]
    }
   ],
   "source": [
    "## Setting Variables for the Neural Network \n",
    "num_epochs = 50   # Number of Epochs\n",
    "learning_rate = 0.25 # Learning Rate\n",
    "\n",
    "hidden_layer_width = 3  # Number of Nodes in Hidden Layer\n",
    "num_hidden_layers = 1   # Number of Hidden Layers between Input and Output layers \n",
    "\n",
    "n_inputs = len(X_full[0]) - 1  # Number of Inputs \n",
    "n_outputs = len(set([row[-1] for row in X_full])) # Number of Outputs \n",
    "\n",
    "network = initialize_network(n_inputs, hidden_layer_width, n_outputs, num_hidden_layers)\n",
    "errors = train_network(network, X_full, learning_rate, num_epochs, n_outputs)\n",
    "\n"
   ]
  },
  {
   "cell_type": "code",
   "execution_count": 44,
   "metadata": {},
   "outputs": [
    {
     "name": "stdout",
     "output_type": "stream",
     "text": [
      "Hidden Layer:\n",
      "[{'weights': [-0.6743674217937082, -0.4162539451092365, -0.025680920286451428, 2.636027114645107, -0.17728922864750218, -0.2461250604777693, 1.6849097412069798, -4.20513367005539, -2.2566183068518857, -0.6749996033414705, 0.15332416239004576, -1.6209305617457663, 1.133784357452877], 'output': 0.9989962447044979, 'delta': 5.614563592543611e-13}, {'weights': [-1.5448511941582945, 0.3831666395074542, 0.4595559017372913, -2.251970823161706, 4.640077050401497, 2.3432910413586434, -3.627199792471653, 4.309606934078395, -1.318243858860932, -0.29308741308853514, 2.8031043623987477, -0.06004776852961036, -1.5739364522493684], 'output': 0.0007058504939253826, 'delta': -4.190914098156918e-13}, {'weights': [0.6934298347417294, -1.6893634780001396, 0.6065863343579023, 2.3228853037225687, 0.4679398026951911, -0.9492591645072875, 2.7774013141942744, -1.5861001140783608, 0.7389181924202055, -0.6850767499252052, -0.8469564809529062, 0.9764731812501363, 0.7373933967578831], 'output': 0.8511476541113243, 'delta': 6.648389519044388e-11}]\n",
      "\n",
      "\n",
      "Output Layer\n",
      "[{'weights': [5.772670572726745, -6.114634281473721, 5.396764288463196, 1.5096692913106005], 'output': 0.999992972501792, 'delta': 4.9385384005632384e-11}, {'weights': [-5.764875678551818, 6.128875445205518, -5.416686493615774, -1.5181483978421024], 'output': 6.90462977929822e-06, 'delta': -4.7673583218456605e-11}]\n",
      "\n",
      "\n"
     ]
    }
   ],
   "source": [
    "count = 0\n",
    "for layer in network:\n",
    "    if count != num_hidden_layers:\n",
    "        print(\"Hidden Layer:\")\n",
    "    elif count == num_hidden_layers:\n",
    "        print(\"Output Layer\")\n",
    "        \n",
    "    print(layer)\n",
    "    count += 1 \n",
    "    print(\"\\n\")"
   ]
  },
  {
   "cell_type": "markdown",
   "metadata": {},
   "source": [
    "### Errors Plot: 50 Epochs, .25 Learning Rate, 3 Hidden Layer Widths"
   ]
  },
  {
   "cell_type": "code",
   "execution_count": 45,
   "metadata": {},
   "outputs": [
    {
     "data": {
      "text/plain": [
       "[<matplotlib.lines.Line2D at 0x7fd3fc4013d0>]"
      ]
     },
     "execution_count": 45,
     "metadata": {},
     "output_type": "execute_result"
    },
    {
     "data": {
      "image/png": "[encoded data removed]",
      "text/plain": [
       "<Figure size 576x432 with 1 Axes>"
      ]
     },
     "metadata": {
      "needs_background": "light"
     },
     "output_type": "display_data"
    }
   ],
   "source": [
    "import matplotlib.pyplot as plt\n",
    "plt.rcParams['figure.figsize'] = (8.0, 6.0) #Set default plot sizes\n",
    "plt.rcParams['image.interpolation'] = 'nearest' #Use nearest neighbor for rendering\n",
    "\n",
    "plt.plot(errors)"
   ]
  },
  {
   "cell_type": "markdown",
   "metadata": {},
   "source": [
    "### Running the Experiment (Attempt 3): \n",
    "#### 20 Epochs, 4 Hidden Layer Width, Learning Rate = 0.25\n"
   ]
  },
  {
   "cell_type": "code",
   "execution_count": 46,
   "metadata": {},
   "outputs": [
    {
     "name": "stdout",
     "output_type": "stream",
     "text": [
      ">epoch=0, lrate=0.250, error=146.434\n",
      ">epoch=1, lrate=0.250, error=157.173\n",
      ">epoch=2, lrate=0.250, error=67.610\n",
      ">epoch=3, lrate=0.250, error=59.545\n",
      ">epoch=4, lrate=0.250, error=56.336\n",
      ">epoch=5, lrate=0.250, error=54.291\n",
      ">epoch=6, lrate=0.250, error=52.950\n",
      ">epoch=7, lrate=0.250, error=51.959\n",
      ">epoch=8, lrate=0.250, error=50.384\n",
      ">epoch=9, lrate=0.250, error=49.137\n",
      ">epoch=10, lrate=0.250, error=47.764\n",
      ">epoch=11, lrate=0.250, error=46.408\n",
      ">epoch=12, lrate=0.250, error=45.179\n",
      ">epoch=13, lrate=0.250, error=44.153\n",
      ">epoch=14, lrate=0.250, error=43.454\n",
      ">epoch=15, lrate=0.250, error=42.876\n",
      ">epoch=16, lrate=0.250, error=42.478\n",
      ">epoch=17, lrate=0.250, error=42.064\n",
      ">epoch=18, lrate=0.250, error=41.785\n",
      ">epoch=19, lrate=0.250, error=41.444\n"
     ]
    }
   ],
   "source": [
    "## Setting Variables for the Neural Network \n",
    "num_epochs = 20   # Number of Epochs\n",
    "learning_rate = 0.25 # Learning Rate\n",
    "\n",
    "hidden_layer_width = 4  # Number of Nodes in Hidden Layer\n",
    "num_hidden_layers = 1   # Number of Hidden Layers between Input and Output layers \n",
    "\n",
    "n_inputs = len(X_full[0]) - 1  # Number of Inputs \n",
    "n_outputs = len(set([row[-1] for row in X_full])) # Number of Outputs \n",
    "\n",
    "network = initialize_network(n_inputs, hidden_layer_width, n_outputs, num_hidden_layers)\n",
    "errors = train_network(network, X_full, learning_rate, num_epochs, n_outputs)\n",
    "\n"
   ]
  },
  {
   "cell_type": "code",
   "execution_count": 47,
   "metadata": {},
   "outputs": [
    {
     "name": "stdout",
     "output_type": "stream",
     "text": [
      "Hidden Layer:\n",
      "[{'weights': [0.3911644875377161, 1.638314393826468, 0.11373413781459848, -0.7984602604614628, -0.18785981367508384, 0.487878811323241, -1.784814802337942, 2.4603604873097833, -0.4301999575176064, 0.11953011990574482, 1.32385644547273, 0.20213589265288087, -0.9099213671941779], 'output': 0.012805871822429373, 'delta': -1.1573765822417722e-09}, {'weights': [0.2606648164819715, -1.0440320319956253, 0.7488158534483248, 1.3291049370741497, 0.4106186378872889, 0.12614148977413203, 1.7264922553904913, -0.9365966083380077, 0.2357409762157872, -0.24532425129813448, -0.15654981391931344, 0.9013584662121946, 0.6782862565865414], 'output': 0.7902677132777653, 'delta': 1.6132502444904737e-08}, {'weights': [-0.5507411886129233, -0.06681908165376639, 0.10638696763821999, 2.385925299699542, -0.07489877202124247, -0.7508232815934027, 1.6342254340083024, -1.9010835874998866, -1.7958811297640733, -0.874160525751478, 0.41436568902056314, -0.7613493993205033, 1.4267790928416835], 'output': 0.9830812749952659, 'delta': 2.4640302375330232e-09}, {'weights': [-0.736997326218627, 0.3719959922115118, 0.13718857569313483, -0.716138584954667, 3.9308534575614846, 1.0602920918885705, -1.9375069670003653, 3.128171950339908, -0.7011207876716343, -0.010734467190352304, 1.982040574859216, 0.4703465712066505, -1.8754739292345084], 'output': 0.0003113759560401529, 'delta': -5.0027565247109937e-11}]\n",
      "\n",
      "\n",
      "Output Layer\n",
      "[{'weights': [-2.5134547783603556, 2.7256926110039843, 4.236492606569713, -4.550003797216781, 2.6272415137652008], 'output': 0.9998653209299556, 'delta': 1.813600903818551e-08}, {'weights': [2.65297599415148, -2.7645589141918148, -4.115798153851252, 4.5131443649962275, -2.7397884894483684], 'output': 0.00013163904101631387, 'delta': -1.73265559681944e-08}]\n",
      "\n",
      "\n"
     ]
    }
   ],
   "source": [
    "count = 0\n",
    "for layer in network:\n",
    "    if count != num_hidden_layers:\n",
    "        print(\"Hidden Layer:\")\n",
    "    elif count == num_hidden_layers:\n",
    "        print(\"Output Layer\")\n",
    "        \n",
    "    print(layer)\n",
    "    count += 1 \n",
    "    print(\"\\n\")"
   ]
  },
  {
   "cell_type": "markdown",
   "metadata": {},
   "source": [
    "### Errors Plot: 20 Epochs, .25 Learning Rate, 4 Hidden Layer Widths"
   ]
  },
  {
   "cell_type": "code",
   "execution_count": 48,
   "metadata": {},
   "outputs": [
    {
     "data": {
      "text/plain": [
       "[<matplotlib.lines.Line2D at 0x7fd3fc5e62e0>]"
      ]
     },
     "execution_count": 48,
     "metadata": {},
     "output_type": "execute_result"
    },
    {
     "data": {
      "image/png": "[encoded data removed]",
      "text/plain": [
       "<Figure size 576x432 with 1 Axes>"
      ]
     },
     "metadata": {
      "needs_background": "light"
     },
     "output_type": "display_data"
    }
   ],
   "source": [
    "import matplotlib.pyplot as plt\n",
    "plt.rcParams['figure.figsize'] = (8.0, 6.0) #Set default plot sizes\n",
    "plt.rcParams['image.interpolation'] = 'nearest' #Use nearest neighbor for rendering\n",
    "\n",
    "plt.plot(errors)"
   ]
  },
  {
   "cell_type": "markdown",
   "metadata": {},
   "source": [
    "## Summary\n",
    "\n",
    "Determine what the best neural network structure and hyperparameter settings results in the best predictive capability\n",
    "\n",
    "The three different neural networks that were tested were:\n",
    "- <b> Attempt 1: </b> Neural Network with 20 Epochs, 0.5 Learning Rate, 2 Hidden Layers\n",
    "- <b> Attempt 2: </b> Neural Network with 50 Epochs, .25 Learning Rate, 3 Hidden Layers\n",
    "- <b> Attempt 3: </b> Neural Network with 20 Epochs, .25 Learning Rate, 4 Hidden Layers \n",
    "\n",
    "The neural network structure that performed the best out of the three attempts was the second attempt Neural Network. While all three neural networks produced error plots that decreased with each epoch, the first attempt Neural Network brought the error down to 52.364, the third attempt neural network brought it down lower to 40.523, however the second neural network brought the error to the lowest of the three attemps at 36.501. \n",
    "\n",
    "It should be noted that while the second attempt produced the lowest error rate at the end, the second attempt neural network also took the longest to run. Since the epoch value was doubled, it was more computationally expensive. If resources are limited when running the neural networks, then the next best option would be the attempt 2 neural network. \n"
   ]
  },
  {
   "cell_type": "code",
   "execution_count": null,
   "metadata": {},
   "outputs": [],
   "source": []
  },
  {
   "cell_type": "code",
   "execution_count": null,
   "metadata": {},
   "outputs": [],
   "source": []
  },
  {
   "cell_type": "code",
   "execution_count": null,
   "metadata": {},
   "outputs": [],
   "source": []
  }
 ],
 "metadata": {
  "kernelspec": {
   "display_name": "Python 3",
   "language": "python",
   "name": "python3"
  },
  "language_info": {
   "codemirror_mode": {
    "name": "ipython",
    "version": 3
   },
   "file_extension": ".py",
   "mimetype": "text/x-python",
   "name": "python",
   "nbconvert_exporter": "python",
   "pygments_lexer": "ipython3",
   "version": "3.8.5"
  }
 },
 "nbformat": 4,
 "nbformat_minor": 1
}
