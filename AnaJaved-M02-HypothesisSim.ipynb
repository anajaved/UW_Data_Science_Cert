{
 "cells": [
  {
   "cell_type": "markdown",
   "metadata": {},
   "source": [
    "# Milestone 2 - Hypothesis Simulation \n",
    "\n",
    "## Author - Ana Javed\n",
    "\n"
   ]
  },
  {
   "cell_type": "markdown",
   "metadata": {},
   "source": [
    "## Instructions\n",
    "Use the <a href=\"https://archive.ics.uci.edu/ml/datasets/Automobile\">automotive data set</a> to perform the following:\n",
    "\n",
    "1. Identify a likely distribution for price and several other features.\n",
    "2. Compute basic summary statistics by both classical, bootstrap, and Bayesian methods\n",
    "3. Compute confidence intervals for these summary statistics by classical, bootstrap, and Bayesian methods\n",
    "4. Correctly use hypothesis tests to determine if the differences in pairs and multiple populations are significant:\n",
    "            Classical tests\n",
    "            Tukey’s Honest Significant Differences (HSD)\n",
    "            Bootstrap methods\n",
    "            Bayesian model\n"
   ]
  },
  {
   "cell_type": "markdown",
   "metadata": {},
   "source": [
    "### Note\n",
    "Please clearly outline the results with markdown text. Be sure your discussion includes narrative for your figures and tables so it is clear to the reader the importance of each bit of evidence."
   ]
  },
  {
   "cell_type": "code",
   "execution_count": null,
   "metadata": {
    "collapsed": true
   },
   "outputs": [],
   "source": [
    "fileName = \"https://library.startlearninglabs.uw.edu/DATASCI410/Datasets/Automobile%20price%20data%20_Raw_.csv\""
   ]
  },
  {
   "cell_type": "code",
   "execution_count": null,
   "metadata": {
    "collapsed": true
   },
   "outputs": [],
   "source": [
    "# Load necessary libraries\n"
   ]
  }
 ],
 "metadata": {
  "kernelspec": {
   "display_name": "Python 3",
   "language": "python",
   "name": "python3"
  },
  "language_info": {
   "codemirror_mode": {
    "name": "ipython",
    "version": 3
   },
   "file_extension": ".py",
   "mimetype": "text/x-python",
   "name": "python",
   "nbconvert_exporter": "python",
   "pygments_lexer": "ipython3",
   "version": "3.8.3"
  }
 },
 "nbformat": 4,
 "nbformat_minor": 1
}
