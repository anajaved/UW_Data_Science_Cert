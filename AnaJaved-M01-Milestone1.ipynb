{
 "cells": [
  {
   "cell_type": "markdown",
   "metadata": {},
   "source": [
    "# Milestone 1 - Data Visualization Complementary Views \n",
    "\n",
    "## Author - Ana Javed\n",
    "\n"
   ]
  },
  {
   "cell_type": "markdown",
   "metadata": {},
   "source": [
    "## Instructions\n",
    "1) Generate a clear statement problem and provide location for dataset\n",
    "\n",
    "2) Provide a clear solution to the problem for a non-technical audience\n",
    "\n",
    "3) Visually explore the data to generate insight and include summary statistics\n",
    "\n",
    "    - scatter plots showing key relationships you have found in the dataset. \n",
    "        Beware of over-plotting. \n",
    "    - bar, box or violin plots for various categorical groups within the dataset. \n",
    "    - Faceted plots to show diffences for different groups with in the data. \n",
    "    - Other plot types you find useful; heatmaps, histograms, etc. \n",
    "    - All plots should use methods that will aid in viewer perception."
   ]
  },
  {
   "cell_type": "markdown",
   "metadata": {},
   "source": [
    "## Problem\n",
    "\n",
    "In 2019, the World Health Organization identified Ischemic Heart Disease as the leading cause of death worldwide. Ischemic Heart Disease is a non-communicable condition that is preventable with proper exercise, dietary changes, and access to education and resources. \n",
    "\n",
    "(Source: https://www.who.int/news-room/fact-sheets/detail/the-top-10-causes-of-death)\n",
    "\n",
    "The University of California Irving has publicly made available an echocardiogram dataset that displays information whether a patient survives one year after a heart attack occurs. \n",
    "\n",
    "From analyzing this data, I would like to identify key factors that determines whether a patient can live up to one year after experiencing a heart attack. The factors I will be exploring include: a patient's age, presence of pericardial effusion, left ventricular end-diastolic dimension, and wall-motion index. \n",
    "\n",
    "Data Source and Documentation: https://archive.ics.uci.edu/ml/datasets/Echocardiogram\n"
   ]
  },
  {
   "cell_type": "markdown",
   "metadata": {},
   "source": [
    "## Process\n",
    "\n",
    "To solve this problem, I am going to analyze the relationships of the different variables to each other, and whether or not there is a relationship with a patient living a year after a heart attack.\n",
    "\n",
    "Part of this analysis includes creating a variety of visualizations - from bar plots to facet plots - to examine the different variables relationships. Before I can create any plots, I need to create a few additional columns that categorize the data for better end-user readability. I also need to clean up the data, and will replace missing values with the meadian value of the column (if applicable). "
   ]
  },
  {
   "cell_type": "code",
   "execution_count": 1,
   "metadata": {},
   "outputs": [],
   "source": [
    "# Loading necessary libraries\n",
    "import pandas as pd\n",
    "import numpy as np\n",
    "import matplotlib.pyplot as plt\n",
    "import seaborn as sns\n",
    "\n",
    "# Declaring inline visualizations \n",
    "%matplotlib inline\n"
   ]
  },
  {
   "cell_type": "code",
   "execution_count": 2,
   "metadata": {
    "scrolled": true
   },
   "outputs": [],
   "source": [
    "## Reading in the Hepatitis dataset from University of California Irvine \n",
    "url = \"https://archive.ics.uci.edu/ml/machine-learning-databases/echocardiogram/echocardiogram.data\"\n",
    "Echo = pd.read_csv(url, header = None, sep = '\\n')\n",
    "Echo = Echo[0].str.split(',', expand=True)\n",
    "\n",
    "## Assigning Readable Column Names \n",
    "Echo.columns = ['Survival', 'StillAlive', 'AgeAtHeartAttack', \n",
    "                'PericardialEffusion', 'Fractional-shortening',\n",
    "                'EPSS', 'LVDD', 'WallMotionScore', 'WallMotionIndex',\n",
    "                'Mult', 'Name', 'Group', 'AliveAtOneYear', 'None'\n",
    "               ]\n",
    "\n",
    "## There is an error in the dataset where an extra column exists on line 50. \n",
    "## To account for this, I reset the values for the row  \n",
    "Echo.loc[49, :] = ['?','?',77,'?','?','?','?','?',2,'?','name',2,'?', None]        \n",
    "\n",
    "## Dropping columns not needed.\n",
    "## Name, Mult, & Group columns were identified in data documentation as not needed \n",
    "Echo = Echo.drop([\"None\", \"Name\", \"Mult\", \"Group\"], axis = 1)\n",
    "\n",
    "## Creating counts Column for visualizations \n",
    "Echo['counts'] = 1"
   ]
  },
  {
   "cell_type": "code",
   "execution_count": 3,
   "metadata": {},
   "outputs": [],
   "source": [
    "## Converting Columns to Numeric and\n",
    "## Replacing missing values \"?\" with column median \n",
    "\n",
    "Echo.loc[:,'Survival'] = pd.to_numeric(Echo.loc[:,'Survival'], errors='coerce')  \n",
    "HasNan1 = np.isnan(Echo.loc[:,'Survival'])\n",
    "Echo.loc[HasNan1,'Survival'] = np.nanmedian(Echo.loc[:,'Survival'])\n",
    "\n",
    "Echo.loc[:,'StillAlive'] = pd.to_numeric(Echo.loc[:,'StillAlive'], errors='coerce')    \n",
    "HasNan1 = np.isnan(Echo.loc[:,'StillAlive'])\n",
    "Echo.loc[HasNan1,'StillAlive'] = np.nanmedian(Echo.loc[:,'StillAlive'])\n",
    "\n",
    "Echo.loc[:,'AgeAtHeartAttack'] = pd.to_numeric(Echo.loc[:,'AgeAtHeartAttack'], errors='coerce')\n",
    "HasNan1 = np.isnan(Echo.loc[:,'AgeAtHeartAttack'])\n",
    "Echo.loc[HasNan1,'AgeAtHeartAttack'] = np.nanmedian(Echo.loc[:,'AgeAtHeartAttack'])\n",
    "\n",
    "Echo.loc[:,'PericardialEffusion'] = pd.to_numeric(Echo.loc[:,'PericardialEffusion'], errors='coerce')    \n",
    "HasNan1 = np.isnan(Echo.loc[:,'PericardialEffusion'])\n",
    "Echo.loc[HasNan1,'PericardialEffusion'] = np.nanmedian(Echo.loc[:,'PericardialEffusion'])\n",
    "\n",
    "Echo.loc[:,'Fractional-shortening'] = pd.to_numeric(Echo.loc[:,'Fractional-shortening'], errors='coerce')    \n",
    "HasNan1 = np.isnan(Echo.loc[:,'Fractional-shortening'])\n",
    "Echo.loc[HasNan1,'Fractional-shortening'] = np.nanmedian(Echo.loc[:,'Fractional-shortening'])\n",
    "\n",
    "Echo.loc[:,'EPSS'] = pd.to_numeric(Echo.loc[:,'EPSS'], errors='coerce')    \n",
    "HasNan1 = np.isnan(Echo.loc[:,'EPSS'])\n",
    "Echo.loc[HasNan1,'EPSS'] = np.nanmedian(Echo.loc[:,'EPSS'])\n",
    "\n",
    "Echo.loc[:,'LVDD'] = pd.to_numeric(Echo.loc[:,'LVDD'], errors='coerce')    \n",
    "HasNan1 = np.isnan(Echo.loc[:,'LVDD'])\n",
    "Echo.loc[HasNan1,'LVDD'] = np.nanmedian(Echo.loc[:,'LVDD'])\n",
    "\n",
    "Echo.loc[:,'WallMotionScore'] = pd.to_numeric(Echo.loc[:,'WallMotionScore'], errors='coerce') \n",
    "HasNan1 = np.isnan(Echo.loc[:,'WallMotionScore'])\n",
    "Echo.loc[HasNan1,'WallMotionScore'] = np.nanmedian(Echo.loc[:,'WallMotionScore'])\n",
    "\n",
    "Echo.loc[:,'WallMotionIndex'] = pd.to_numeric(Echo.loc[:,'WallMotionIndex'], errors='coerce')    \n",
    "HasNan1 = np.isnan(Echo.loc[:,'WallMotionIndex'])\n",
    "Echo.loc[HasNan1,'WallMotionIndex'] = np.nanmedian(Echo.loc[:,'WallMotionIndex'])\n",
    "\n",
    "Echo.loc[:,'AliveAtOneYear'] = pd.to_numeric(Echo.loc[:,'AliveAtOneYear'], errors='coerce')    \n",
    "HasNan1 = np.isnan(Echo.loc[:,'AliveAtOneYear'])\n",
    "Echo.loc[HasNan1,'AliveAtOneYear'] = np.nanmedian(Echo.loc[:,'AliveAtOneYear'])\n",
    "    "
   ]
  },
  {
   "cell_type": "code",
   "execution_count": 4,
   "metadata": {},
   "outputs": [],
   "source": [
    "## Binning Age column into a categorical variable \n",
    "Echo.loc[:, \"Age_Decade\"] = Echo.loc[:, \"AgeAtHeartAttack\"]\n",
    "\n",
    "# Creating the new categories based on age: 10s, 20s, 30s, 40s, 50s...etc. \n",
    "for each in Echo.loc[:, \"Age_Decade\"].unique():\n",
    "    # print(each)\n",
    "    if len(str(each)) >1:\n",
    "        age_bucket = str(each)[0] + '0s'\n",
    "        Echo.loc[ Echo.loc[:, \"Age_Decade\"] == each, \"Age_Decade\"] = age_bucket\n",
    "    elif len(str(each)) <= 1:\n",
    "        age_bucket = '10s'\n",
    "        Echo.loc[ Echo.loc[:, \"Age_Decade\"] == each, \"Age_Decade\"] = age_bucket\n",
    "        \n",
    "# Consolidating the following categories in \"Age_Decade\"\n",
    "Echo.loc[Echo.loc[:, \"Age_Decade\"] == \"10s\", \"Age_Decade\"] = \"<20\"\n",
    "\n",
    "# print(Echo.loc[:,'Age_Decade'].value_counts())  # Age_Decade Value Counts "
   ]
  },
  {
   "cell_type": "code",
   "execution_count": 5,
   "metadata": {
    "scrolled": false
   },
   "outputs": [
    {
     "name": "stdout",
     "output_type": "stream",
     "text": [
      "(132, 12)\n"
     ]
    },
    {
     "data": {
      "text/html": [
       "<div>\n",
       "<style scoped>\n",
       "    .dataframe tbody tr th:only-of-type {\n",
       "        vertical-align: middle;\n",
       "    }\n",
       "\n",
       "    .dataframe tbody tr th {\n",
       "        vertical-align: top;\n",
       "    }\n",
       "\n",
       "    .dataframe thead th {\n",
       "        text-align: right;\n",
       "    }\n",
       "</style>\n",
       "<table border=\"1\" class=\"dataframe\">\n",
       "  <thead>\n",
       "    <tr style=\"text-align: right;\">\n",
       "      <th></th>\n",
       "      <th>Survival</th>\n",
       "      <th>StillAlive</th>\n",
       "      <th>AgeAtHeartAttack</th>\n",
       "      <th>PericardialEffusion</th>\n",
       "      <th>Fractional-shortening</th>\n",
       "      <th>EPSS</th>\n",
       "      <th>LVDD</th>\n",
       "      <th>WallMotionScore</th>\n",
       "      <th>WallMotionIndex</th>\n",
       "      <th>AliveAtOneYear</th>\n",
       "      <th>counts</th>\n",
       "    </tr>\n",
       "  </thead>\n",
       "  <tbody>\n",
       "    <tr>\n",
       "      <th>count</th>\n",
       "      <td>132.000000</td>\n",
       "      <td>132.000000</td>\n",
       "      <td>132.000000</td>\n",
       "      <td>132.000000</td>\n",
       "      <td>132.000000</td>\n",
       "      <td>132.000000</td>\n",
       "      <td>132.000000</td>\n",
       "      <td>132.000000</td>\n",
       "      <td>132.00000</td>\n",
       "      <td>132.000000</td>\n",
       "      <td>132.0</td>\n",
       "    </tr>\n",
       "    <tr>\n",
       "      <th>mean</th>\n",
       "      <td>22.202879</td>\n",
       "      <td>0.325758</td>\n",
       "      <td>62.890371</td>\n",
       "      <td>0.181818</td>\n",
       "      <td>0.216023</td>\n",
       "      <td>12.032409</td>\n",
       "      <td>4.753727</td>\n",
       "      <td>14.424848</td>\n",
       "      <td>1.38153</td>\n",
       "      <td>0.181818</td>\n",
       "      <td>1.0</td>\n",
       "    </tr>\n",
       "    <tr>\n",
       "      <th>std</th>\n",
       "      <td>15.737575</td>\n",
       "      <td>0.470443</td>\n",
       "      <td>8.243728</td>\n",
       "      <td>0.387164</td>\n",
       "      <td>0.104216</td>\n",
       "      <td>6.945299</td>\n",
       "      <td>0.775895</td>\n",
       "      <td>4.941928</td>\n",
       "      <td>0.45186</td>\n",
       "      <td>0.387164</td>\n",
       "      <td>0.0</td>\n",
       "    </tr>\n",
       "    <tr>\n",
       "      <th>min</th>\n",
       "      <td>0.030000</td>\n",
       "      <td>0.000000</td>\n",
       "      <td>35.000000</td>\n",
       "      <td>0.000000</td>\n",
       "      <td>0.010000</td>\n",
       "      <td>0.000000</td>\n",
       "      <td>2.320000</td>\n",
       "      <td>2.000000</td>\n",
       "      <td>1.00000</td>\n",
       "      <td>0.000000</td>\n",
       "      <td>1.0</td>\n",
       "    </tr>\n",
       "    <tr>\n",
       "      <th>25%</th>\n",
       "      <td>8.625000</td>\n",
       "      <td>0.000000</td>\n",
       "      <td>57.750000</td>\n",
       "      <td>0.000000</td>\n",
       "      <td>0.150000</td>\n",
       "      <td>7.575000</td>\n",
       "      <td>4.290000</td>\n",
       "      <td>11.375000</td>\n",
       "      <td>1.00000</td>\n",
       "      <td>0.000000</td>\n",
       "      <td>1.0</td>\n",
       "    </tr>\n",
       "    <tr>\n",
       "      <th>50%</th>\n",
       "      <td>23.500000</td>\n",
       "      <td>0.000000</td>\n",
       "      <td>62.000000</td>\n",
       "      <td>0.000000</td>\n",
       "      <td>0.205000</td>\n",
       "      <td>11.000000</td>\n",
       "      <td>4.650000</td>\n",
       "      <td>14.000000</td>\n",
       "      <td>1.22200</td>\n",
       "      <td>0.000000</td>\n",
       "      <td>1.0</td>\n",
       "    </tr>\n",
       "    <tr>\n",
       "      <th>75%</th>\n",
       "      <td>33.000000</td>\n",
       "      <td>1.000000</td>\n",
       "      <td>67.250000</td>\n",
       "      <td>0.000000</td>\n",
       "      <td>0.262500</td>\n",
       "      <td>14.850000</td>\n",
       "      <td>5.252500</td>\n",
       "      <td>16.125000</td>\n",
       "      <td>1.52250</td>\n",
       "      <td>0.000000</td>\n",
       "      <td>1.0</td>\n",
       "    </tr>\n",
       "    <tr>\n",
       "      <th>max</th>\n",
       "      <td>57.000000</td>\n",
       "      <td>1.000000</td>\n",
       "      <td>86.000000</td>\n",
       "      <td>1.000000</td>\n",
       "      <td>0.610000</td>\n",
       "      <td>40.000000</td>\n",
       "      <td>6.780000</td>\n",
       "      <td>39.000000</td>\n",
       "      <td>3.00000</td>\n",
       "      <td>1.000000</td>\n",
       "      <td>1.0</td>\n",
       "    </tr>\n",
       "  </tbody>\n",
       "</table>\n",
       "</div>"
      ],
      "text/plain": [
       "         Survival  StillAlive  AgeAtHeartAttack  PericardialEffusion  \\\n",
       "count  132.000000  132.000000        132.000000           132.000000   \n",
       "mean    22.202879    0.325758         62.890371             0.181818   \n",
       "std     15.737575    0.470443          8.243728             0.387164   \n",
       "min      0.030000    0.000000         35.000000             0.000000   \n",
       "25%      8.625000    0.000000         57.750000             0.000000   \n",
       "50%     23.500000    0.000000         62.000000             0.000000   \n",
       "75%     33.000000    1.000000         67.250000             0.000000   \n",
       "max     57.000000    1.000000         86.000000             1.000000   \n",
       "\n",
       "       Fractional-shortening        EPSS        LVDD  WallMotionScore  \\\n",
       "count             132.000000  132.000000  132.000000       132.000000   \n",
       "mean                0.216023   12.032409    4.753727        14.424848   \n",
       "std                 0.104216    6.945299    0.775895         4.941928   \n",
       "min                 0.010000    0.000000    2.320000         2.000000   \n",
       "25%                 0.150000    7.575000    4.290000        11.375000   \n",
       "50%                 0.205000   11.000000    4.650000        14.000000   \n",
       "75%                 0.262500   14.850000    5.252500        16.125000   \n",
       "max                 0.610000   40.000000    6.780000        39.000000   \n",
       "\n",
       "       WallMotionIndex  AliveAtOneYear  counts  \n",
       "count        132.00000      132.000000   132.0  \n",
       "mean           1.38153        0.181818     1.0  \n",
       "std            0.45186        0.387164     0.0  \n",
       "min            1.00000        0.000000     1.0  \n",
       "25%            1.00000        0.000000     1.0  \n",
       "50%            1.22200        0.000000     1.0  \n",
       "75%            1.52250        0.000000     1.0  \n",
       "max            3.00000        1.000000     1.0  "
      ]
     },
     "execution_count": 5,
     "metadata": {},
     "output_type": "execute_result"
    }
   ],
   "source": [
    "# Exploring the Dataframe\n",
    "\n",
    "print(Echo.shape)  # Dimensions of the Dataframe \n",
    "\n",
    "Echo.describe()    # Summary Statistics \n"
   ]
  },
  {
   "cell_type": "code",
   "execution_count": 6,
   "metadata": {},
   "outputs": [
    {
     "data": {
      "text/plain": [
       "60s    64\n",
       "50s    37\n",
       "70s    22\n",
       "80s     4\n",
       "40s     4\n",
       "30s     1\n",
       "Name: Age_Decade, dtype: int64"
      ]
     },
     "execution_count": 6,
     "metadata": {},
     "output_type": "execute_result"
    },
    {
     "data": {
      "image/png": "[encoded data removed]",
      "text/plain": [
       "<Figure size 432x288 with 1 Axes>"
      ]
     },
     "metadata": {
      "needs_background": "light"
     },
     "output_type": "display_data"
    }
   ],
   "source": [
    "# Bar Plot of Patients with Heart Attacks \n",
    "\n",
    "Echo.loc[:, ['Age_Decade', 'counts']].groupby(['Age_Decade']).agg('count').sort_values('counts').plot.bar()\n",
    "\n",
    "\n",
    "# Printing Unique Counts of Each Age Decade\n",
    "\n",
    "Echo.loc[:, \"Age_Decade\"].value_counts()"
   ]
  },
  {
   "cell_type": "code",
   "execution_count": 7,
   "metadata": {},
   "outputs": [
    {
     "data": {
      "text/plain": [
       "<AxesSubplot:xlabel='AliveAtOneYear'>"
      ]
     },
     "execution_count": 7,
     "metadata": {},
     "output_type": "execute_result"
    },
    {
     "data": {
      "image/png": "[encoded data removed]",
      "text/plain": [
       "<Figure size 432x288 with 1 Axes>"
      ]
     },
     "metadata": {
      "needs_background": "light"
     },
     "output_type": "display_data"
    }
   ],
   "source": [
    "# Bar Plot of Heart Attack Patients who are Alive/Dead At One Year\n",
    "\n",
    "Echo.loc[:, ['AliveAtOneYear', 'counts']].groupby(['AliveAtOneYear']).agg('count').sort_values('counts').plot.bar()"
   ]
  },
  {
   "cell_type": "code",
   "execution_count": 8,
   "metadata": {},
   "outputs": [
    {
     "data": {
      "text/plain": [
       "(-0.1, 0.7)"
      ]
     },
     "execution_count": 8,
     "metadata": {},
     "output_type": "execute_result"
    },
    {
     "data": {
      "image/png": "[encoded data removed]",
      "text/plain": [
       "<Figure size 432x432 with 1 Axes>"
      ]
     },
     "metadata": {
      "needs_background": "light"
     },
     "output_type": "display_data"
    }
   ],
   "source": [
    "## Box Plot of Fractional Shortening \n",
    "\n",
    "fig = plt.figure(figsize=(6, 6)) # Define plot area\n",
    "\n",
    "ax = fig.gca() # Define axis \n",
    "Echo.loc[:,['Fractional-shortening', \"AliveAtOneYear\"]].boxplot(by = 'AliveAtOneYear', ax = ax)\n",
    "\n",
    "ax.set_title('Box plot of Fractional-shortening') # Give the plot a main title\n",
    "ax.set_ylabel('Fractional-shortening')# Set text for y axis\n",
    "ax.set_xlabel('Alive at One Year')# Set text for x axis\n",
    "ax.set_ylim(-0.1, 0.7) # Set the limits of the y axis"
   ]
  },
  {
   "cell_type": "code",
   "execution_count": 9,
   "metadata": {},
   "outputs": [
    {
     "data": {
      "text/plain": [
       "(-5.0, 45.0)"
      ]
     },
     "execution_count": 9,
     "metadata": {},
     "output_type": "execute_result"
    },
    {
     "data": {
      "image/png": "[encoded data removed]",
      "text/plain": [
       "<Figure size 432x432 with 1 Axes>"
      ]
     },
     "metadata": {
      "needs_background": "light"
     },
     "output_type": "display_data"
    }
   ],
   "source": [
    "## Box Plot of EPSS\n",
    "\n",
    "fig = plt.figure(figsize=(6, 6)) # Define plot area\n",
    "ax = fig.gca() # Define axis \n",
    "\n",
    "Echo.loc[:,['EPSS', \"AliveAtOneYear\"]].boxplot(by = 'AliveAtOneYear', ax = ax)\n",
    "\n",
    "\n",
    "ax.set_title('Box plot of EPSS') # Give the plot a main title\n",
    "ax.set_ylabel('EPSS')# Set text for y axis\n",
    "ax.set_xlabel('Alive at One Year')# Set text for x axis\n",
    "ax.set_ylim(-5, 45) # Set the limits of the y axis"
   ]
  },
  {
   "cell_type": "code",
   "execution_count": 10,
   "metadata": {},
   "outputs": [
    {
     "data": {
      "text/plain": [
       "Text(0, 0.5, 'Alive At One Year')"
      ]
     },
     "execution_count": 10,
     "metadata": {},
     "output_type": "execute_result"
    },
    {
     "data": {
      "image/png": "[encoded data removed]",
      "text/plain": [
       "<Figure size 432x432 with 1 Axes>"
      ]
     },
     "metadata": {
      "needs_background": "light"
     },
     "output_type": "display_data"
    }
   ],
   "source": [
    "## Scatter Plot: Age of Heart Attack by Alive At One Year \n",
    "\n",
    "ax = plt.figure(figsize=(6, 6)).gca() # define axis\n",
    "\n",
    "Echo.plot.scatter(x = 'AgeAtHeartAttack', \n",
    "                  y = 'AliveAtOneYear', \n",
    "                  ax = ax, \n",
    "                  alpha = .5, \n",
    "                  color = 'Green') # Generating Plot \n",
    "\n",
    "ax.set_title('Age of Heart Attack vs. Alive at One Year') # Give the plot a main title\n",
    "ax.set_xlabel('Age At Heart Attack')# Set text for y axis\n",
    "ax.set_ylabel('Alive At One Year') # Set text for x axis "
   ]
  },
  {
   "cell_type": "code",
   "execution_count": 11,
   "metadata": {},
   "outputs": [
    {
     "data": {
      "text/plain": [
       "Text(0, 0.5, 'Alive At One Year')"
      ]
     },
     "execution_count": 11,
     "metadata": {},
     "output_type": "execute_result"
    },
    {
     "data": {
      "image/png": "[encoded data removed]",
      "text/plain": [
       "<Figure size 432x432 with 1 Axes>"
      ]
     },
     "metadata": {
      "needs_background": "light"
     },
     "output_type": "display_data"
    }
   ],
   "source": [
    "## Scatter Plot: Age of Heart Attack by Alive At One Year \n",
    "\n",
    "ax = plt.figure(figsize=(6, 6)).gca() # define axis\n",
    "\n",
    "Echo.plot.scatter(x = 'WallMotionIndex', \n",
    "                  y = 'AliveAtOneYear', \n",
    "                  ax = ax, \n",
    "                  alpha = .3, \n",
    "                  color = 'Blue') # Generating Plot \n",
    "\n",
    "ax.set_title('Wall Motion Index vs. Alive at One Year') # Give the plot a main title\n",
    "ax.set_xlabel('Wall Motion Index')# Set text for y axis\n",
    "ax.set_ylabel('Alive At One Year') # Set text for x axis "
   ]
  },
  {
   "cell_type": "code",
   "execution_count": 12,
   "metadata": {},
   "outputs": [
    {
     "data": {
      "text/plain": [
       "<seaborn.axisgrid.FacetGrid at 0x7fce1052b430>"
      ]
     },
     "execution_count": 12,
     "metadata": {},
     "output_type": "execute_result"
    },
    {
     "data": {
      "image/png": "[encoded data removed]",
      "text/plain": [
       "<Figure size 540x1296 with 12 Axes>"
      ]
     },
     "metadata": {
      "needs_background": "light"
     },
     "output_type": "display_data"
    }
   ],
   "source": [
    "## Facet Plot: LVDD by Age of Heart Attack and Alive at One Year \n",
    "\n",
    "g = sns.FacetGrid(Echo, \n",
    "                  col=\"AliveAtOneYear\", \n",
    "                  row='Age_Decade', \n",
    "                  hue=\"AliveAtOneYear\",\n",
    "                  aspect = 1.25\n",
    "                 )\n",
    "\n",
    "g = g.map(plt.hist, \"LVDD\")\n",
    "g.set_axis_labels(\"LVDD\")"
   ]
  },
  {
   "cell_type": "markdown",
   "metadata": {},
   "source": [
    "## Solution\n",
    "\n",
    "Many visualizations were created for the assignment, but there were many findings regarding the attribute as a result.\n",
    "\n",
    "First, there are 12 useable attributes and 132 rows - or distinct patients who have experienced a heart attack. Of these 132 patients, more than half are 50 years or older and over 100 were not alive a year after their heart attack. Knowing these statistics helps frame the other findings.\n",
    "\n",
    "One attribute, fractional shortening, measures the contractility of the heart and lower values tend to be abnormal. For patients who did not live to a year, the mean fractional shortening was slightly above 0.2. For patients who were alive a year after, had a mean fractional shortening slightly below 0.2. This may indicate that fractional shortening may not be a strong indicator or survivability. This result is shown in the boxplot created above. \n",
    "\n",
    "The attribute EPSS is another measure of contractility of the heart, and higher values are more abnormal. In the box plot created, it shows a mean EPSS of 11 for patients who did not survive, and a mean of 13 for patients who did survive. The IQR for patients who survives is higher than for the patients who did not survive. This result shows that EPSS may not be a strong indicator for whether a patient lives a year after their heart attack. \n",
    "\n",
    "In the scatter plot created for patient Age at heart attack, it shows that patients who did not survive had an age mostly between 60 to 70. For patients who did survive, the age range was more narrow, with most patients being closer to 60 years old. \n",
    "\n",
    "For Wall Motion Index, 1.0 is considered normal and 3.0 is considered abnormal. In the scatter plot created, it appears that most patients who did not survive a year from their heart attack were mostly in the 1.0-2.0  range. For patients who did survive, the range was mostly 1.25-1.75. Wall Motion Index may have some influence in determining a patient’s survivability. \n",
    "\n",
    "Lastly, the face grid plot created measures LVDD by a patients age and whether they were alive a year later.\n",
    "LVDD is measure of the patient’s heart - specifically left ventricular end-diastolic dimension, and larger LVDD tend to be sicker hearts. The mean LVDD for all patients was 4.75, and most values do tend sit around the mean for both alive and expired patients. \n"
   ]
  },
  {
   "cell_type": "code",
   "execution_count": null,
   "metadata": {},
   "outputs": [],
   "source": []
  }
 ],
 "metadata": {
  "kernelspec": {
   "display_name": "Python 3",
   "language": "python",
   "name": "python3"
  },
  "language_info": {
   "codemirror_mode": {
    "name": "ipython",
    "version": 3
   },
   "file_extension": ".py",
   "mimetype": "text/x-python",
   "name": "python",
   "nbconvert_exporter": "python",
   "pygments_lexer": "ipython3",
   "version": "3.8.3"
  }
 },
 "nbformat": 4,
 "nbformat_minor": 1
}
