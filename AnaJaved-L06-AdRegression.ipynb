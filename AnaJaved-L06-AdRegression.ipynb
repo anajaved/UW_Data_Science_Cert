{
 "cells": [
  {
   "cell_type": "markdown",
   "metadata": {},
   "source": [
    "# Lesson 6 Assignment - Advertising Sales Regression\n",
    "\n",
    "## Author - Ana Javed\n",
    "\n"
   ]
  },
  {
   "cell_type": "markdown",
   "metadata": {},
   "source": [
    "### Instructions  \n",
    "Perform four different linear regressions on advertising sales data located in 'Advertising.csv'.  Your dependent feature is 'sales', a measure of sales of a product in a given market in thousands of dollars. \n",
    "\n",
    "The independent features for each of the first 3 separate regressions are:\n",
    "\n",
    " 1. 'TV': advertising dollars spent on TV ads for a single product in a given market\n",
    " 2. 'radio': advertising dollars spent on radio ads\n",
    " 3. 'newspaper': advertising dollars spent on newspaper ads\n",
    "\n",
    "For the first 3 linear regression performed:\n",
    "\n",
    "- Produce a labeled graph showing the best fit line with the data points.\n",
    "- Interpret both the slope and y-intercept.\n",
    " \n",
    "The final regression(#4) includes all 3 features: (a) TV, (b) radio, and (c) newspaper. \n",
    "- Interpret each partial slope and the intercept parameters.\n",
    "- Interpret the adjusted R-squared.\n",
    "- Find and report the mean-squared error.\n",
    "\n",
    "#### Please prepare this information for a client who may not understand what the parameters mean.\n"
   ]
  },
  {
   "cell_type": "code",
   "execution_count": 1,
   "metadata": {},
   "outputs": [],
   "source": [
    "# Import libraries\n",
    "import numpy as np\n",
    "import pandas as pd\n",
    "import matplotlib.pyplot as plt\n",
    "\n",
    "from sklearn import linear_model\n",
    "import statsmodels.formula.api as sm\n",
    "import seaborn as sns\n",
    "\n",
    "%matplotlib inline"
   ]
  },
  {
   "cell_type": "code",
   "execution_count": 2,
   "metadata": {},
   "outputs": [
    {
     "name": "stdout",
     "output_type": "stream",
     "text": [
      "      TV  radio  newspaper  sales\n",
      "1  230.1   37.8       69.2   22.1\n",
      "2   44.5   39.3       45.1   10.4\n",
      "3   17.2   45.9       69.3    9.3\n",
      "4  151.5   41.3       58.5   18.5\n",
      "5  180.8   10.8       58.4   12.9\n",
      "(200, 4)\n"
     ]
    },
    {
     "data": {
      "text/html": [
       "<div>\n",
       "<style scoped>\n",
       "    .dataframe tbody tr th:only-of-type {\n",
       "        vertical-align: middle;\n",
       "    }\n",
       "\n",
       "    .dataframe tbody tr th {\n",
       "        vertical-align: top;\n",
       "    }\n",
       "\n",
       "    .dataframe thead th {\n",
       "        text-align: right;\n",
       "    }\n",
       "</style>\n",
       "<table border=\"1\" class=\"dataframe\">\n",
       "  <thead>\n",
       "    <tr style=\"text-align: right;\">\n",
       "      <th></th>\n",
       "      <th>TV</th>\n",
       "      <th>radio</th>\n",
       "      <th>newspaper</th>\n",
       "      <th>sales</th>\n",
       "    </tr>\n",
       "  </thead>\n",
       "  <tbody>\n",
       "    <tr>\n",
       "      <th>count</th>\n",
       "      <td>200.000000</td>\n",
       "      <td>200.000000</td>\n",
       "      <td>200.000000</td>\n",
       "      <td>200.000000</td>\n",
       "    </tr>\n",
       "    <tr>\n",
       "      <th>mean</th>\n",
       "      <td>147.042500</td>\n",
       "      <td>23.264000</td>\n",
       "      <td>30.554000</td>\n",
       "      <td>14.022500</td>\n",
       "    </tr>\n",
       "    <tr>\n",
       "      <th>std</th>\n",
       "      <td>85.854236</td>\n",
       "      <td>14.846809</td>\n",
       "      <td>21.778621</td>\n",
       "      <td>5.217457</td>\n",
       "    </tr>\n",
       "    <tr>\n",
       "      <th>min</th>\n",
       "      <td>0.700000</td>\n",
       "      <td>0.000000</td>\n",
       "      <td>0.300000</td>\n",
       "      <td>1.600000</td>\n",
       "    </tr>\n",
       "    <tr>\n",
       "      <th>25%</th>\n",
       "      <td>74.375000</td>\n",
       "      <td>9.975000</td>\n",
       "      <td>12.750000</td>\n",
       "      <td>10.375000</td>\n",
       "    </tr>\n",
       "    <tr>\n",
       "      <th>50%</th>\n",
       "      <td>149.750000</td>\n",
       "      <td>22.900000</td>\n",
       "      <td>25.750000</td>\n",
       "      <td>12.900000</td>\n",
       "    </tr>\n",
       "    <tr>\n",
       "      <th>75%</th>\n",
       "      <td>218.825000</td>\n",
       "      <td>36.525000</td>\n",
       "      <td>45.100000</td>\n",
       "      <td>17.400000</td>\n",
       "    </tr>\n",
       "    <tr>\n",
       "      <th>max</th>\n",
       "      <td>296.400000</td>\n",
       "      <td>49.600000</td>\n",
       "      <td>114.000000</td>\n",
       "      <td>27.000000</td>\n",
       "    </tr>\n",
       "  </tbody>\n",
       "</table>\n",
       "</div>"
      ],
      "text/plain": [
       "               TV       radio   newspaper       sales\n",
       "count  200.000000  200.000000  200.000000  200.000000\n",
       "mean   147.042500   23.264000   30.554000   14.022500\n",
       "std     85.854236   14.846809   21.778621    5.217457\n",
       "min      0.700000    0.000000    0.300000    1.600000\n",
       "25%     74.375000    9.975000   12.750000   10.375000\n",
       "50%    149.750000   22.900000   25.750000   12.900000\n",
       "75%    218.825000   36.525000   45.100000   17.400000\n",
       "max    296.400000   49.600000  114.000000   27.000000"
      ]
     },
     "execution_count": 2,
     "metadata": {},
     "output_type": "execute_result"
    }
   ],
   "source": [
    "# Load data\n",
    "filename = 'https://library.startlearninglabs.uw.edu/DATASCI410/Datasets/Advertising.csv'\n",
    "ad_data = pd.read_csv(filename, index_col=0)\n",
    "print(ad_data.head())\n",
    "print(ad_data.shape)\n",
    "ad_data.describe()"
   ]
  },
  {
   "cell_type": "code",
   "execution_count": 3,
   "metadata": {},
   "outputs": [
    {
     "name": "stdout",
     "output_type": "stream",
     "text": [
      "Intercept: 7.03259\n",
      "Slope : 0.04754\n"
     ]
    },
    {
     "data": {
      "image/png": "[encoded data removed]",
      "text/plain": [
       "<Figure size 432x288 with 1 Axes>"
      ]
     },
     "metadata": {
      "needs_background": "light"
     },
     "output_type": "display_data"
    }
   ],
   "source": [
    "## First Independent Feature: TV (Advertisting Dollars spent on TV ads) \n",
    "## Dependent Feature = Sales\n",
    "\n",
    "# First initialize the model.\n",
    "from sklearn import linear_model\n",
    "linear_model = linear_model.LinearRegression()\n",
    "\n",
    "\n",
    "# Fit the model to the data\n",
    "x_input = ad_data['TV'].values.reshape(len(ad_data['TV']), 1)\n",
    "y_output = ad_data['sales'].values.reshape(len(ad_data['sales']), 1)\n",
    "\n",
    "linear_model.fit(x_input, y_output)\n",
    "\n",
    "\n",
    "# Get predictions\n",
    "y_pred = linear_model.predict(x_input)\n",
    "\n",
    "# Plot output\n",
    "plt.scatter(x_input, y_output)\n",
    "plt.plot(x_input, y_pred, linewidth=2, color = 'black')\n",
    "plt.grid(True)\n",
    "plt.xlabel('TV')\n",
    "plt.ylabel('Sales')\n",
    "plt.title('TV vs Sales')\n",
    "\n",
    "# Print model parameters\n",
    "# Get slope (m) and y-intercept (b)\n",
    "print('Intercept: {0:.5f}'.format(linear_model.intercept_[0]))\n",
    "print('Slope : {0:.5f}'.format(linear_model.coef_[0][0]))"
   ]
  },
  {
   "cell_type": "code",
   "execution_count": 4,
   "metadata": {},
   "outputs": [
    {
     "name": "stdout",
     "output_type": "stream",
     "text": [
      "Intercept: 9.31164\n",
      "Slope : 0.20250\n"
     ]
    },
    {
     "data": {
      "image/png": "[encoded data removed]",
      "text/plain": [
       "<Figure size 432x288 with 1 Axes>"
      ]
     },
     "metadata": {
      "needs_background": "light"
     },
     "output_type": "display_data"
    }
   ],
   "source": [
    "## Second Independent Feature: Radio  (Advertisting Dollars spent on Radio Ads)\n",
    "## Dependent Feature = Sales\n",
    "\n",
    "# First initialize the model.\n",
    "from sklearn import linear_model\n",
    "linear_model = linear_model.LinearRegression()\n",
    "\n",
    "\n",
    "# Fit the model to the data\n",
    "x_input = ad_data['radio'].values.reshape(len(ad_data['radio']), 1)\n",
    "y_output = ad_data['sales'].values.reshape(len(ad_data['sales']), 1)\n",
    "\n",
    "linear_model.fit(x_input, y_output)\n",
    "\n",
    "\n",
    "# Get predictions\n",
    "y_pred = linear_model.predict(x_input)\n",
    "\n",
    "# Plot output\n",
    "plt.scatter(x_input, y_output, color = 'red')\n",
    "plt.plot(x_input, y_pred, linewidth=2, color = 'black')\n",
    "plt.grid(True)\n",
    "plt.xlabel('Radio')\n",
    "plt.ylabel('Sales')\n",
    "plt.title('Radio vs Sales')\n",
    "\n",
    "# Print model parameters\n",
    "# Get slope (m) and y-intercept (b)\n",
    "print('Intercept: {0:.5f}'.format(linear_model.intercept_[0]))\n",
    "print('Slope : {0:.5f}'.format(linear_model.coef_[0][0]))"
   ]
  },
  {
   "cell_type": "code",
   "execution_count": 5,
   "metadata": {},
   "outputs": [
    {
     "name": "stdout",
     "output_type": "stream",
     "text": [
      "Intercept: 12.35141\n",
      "Slope : 0.05469\n"
     ]
    },
    {
     "data": {
      "image/png": "[encoded data removed]",
      "text/plain": [
       "<Figure size 432x288 with 1 Axes>"
      ]
     },
     "metadata": {
      "needs_background": "light"
     },
     "output_type": "display_data"
    }
   ],
   "source": [
    "## Third Independent Feature: Newspaper (Advertisting Dollars spent on Newspaper Ads)\n",
    "## Dependent Feature = Sales\n",
    "\n",
    "# First initialize the model.\n",
    "from sklearn import linear_model\n",
    "linear_model = linear_model.LinearRegression()\n",
    "\n",
    "\n",
    "# Fit the model to the data\n",
    "x_input = ad_data['newspaper'].values.reshape(len(ad_data['newspaper']), 1)\n",
    "y_output = ad_data['sales'].values.reshape(len(ad_data['sales']), 1)\n",
    "\n",
    "linear_model.fit(x_input, y_output)\n",
    "\n",
    "\n",
    "# Get predictions\n",
    "y_pred = linear_model.predict(x_input)\n",
    "\n",
    "# Plot output\n",
    "plt.scatter(x_input, y_output, color = 'green')\n",
    "plt.plot(x_input, y_pred, linewidth=2, color='black')\n",
    "plt.grid(True)\n",
    "plt.xlabel('Newspaper')\n",
    "plt.ylabel('Sales')\n",
    "plt.title('Newspaper vs Sales')\n",
    "\n",
    "# Print model parameters\n",
    "# Get slope (m) and y-intercept (b)\n",
    "print('Intercept: {0:.5f}'.format(linear_model.intercept_[0]))\n",
    "print('Slope : {0:.5f}'.format(linear_model.coef_[0][0]))\n"
   ]
  },
  {
   "cell_type": "markdown",
   "metadata": {},
   "source": [
    "### Interpretation of the Intercept & Slope for TV, Radio, and Newspaper Ads in relation to Sales \n",
    "\n",
    "For TV, the slope is small but positive, which means that as TV ad spending increased, the Sales increased at a rate of 0.047. The y-intercept is 7.03, which means that if TV ad spending was 0, then sales would be about 7.03. \n",
    "\n",
    "For Radio, the slope is slightly bigger than TV and positive. This means that as radio ad spending increased, sales increased at a rate of 0.20. The y-intercept is also higher than TV, and it is 9.31. This means that if Radio ad spending was 0, then sales would be at 9.311. \n",
    "\n",
    "For Newspaper, the slope is 0.055. This means that as newspaper ads spending increased, sales increased at this rate. The y-intercept is the highest out of all three, and sits at 12.35. This means that if newspaper spending was 0, then sales would be at 12.35. "
   ]
  },
  {
   "cell_type": "code",
   "execution_count": 7,
   "metadata": {},
   "outputs": [],
   "source": [
    "## Regression for All 3 Features: TV, Radio, and Newspaper\n",
    "\n",
    "## Separating the independent variables vs dependent variables \n",
    "x = ad_data[['TV','radio', 'newspaper']]\n",
    "y = ad_data['sales']\n",
    "\n",
    "# Scalining the data via sklearn \n",
    "from sklearn.preprocessing import StandardScaler\n",
    "scaler = StandardScaler()\n",
    "scaler.fit(x)\n",
    "x = scaler.transform(x)"
   ]
  },
  {
   "cell_type": "code",
   "execution_count": 21,
   "metadata": {},
   "outputs": [
    {
     "name": "stdout",
     "output_type": "stream",
     "text": [
      "RMSE: 40.250563089633964\n",
      "SSR: 556.8252629021873\n",
      "                            OLS Regression Results                            \n",
      "==============================================================================\n",
      "Dep. Variable:                  sales   R-squared:                       0.897\n",
      "Model:                            OLS   Adj. R-squared:                  0.896\n",
      "Method:                 Least Squares   F-statistic:                     570.3\n",
      "Date:                Mon, 18 Jan 2021   Prob (F-statistic):           1.58e-96\n",
      "Time:                        21:15:28   Log-Likelihood:                -386.18\n",
      "No. Observations:                 200   AIC:                             780.4\n",
      "Df Residuals:                     196   BIC:                             793.6\n",
      "Df Model:                           3                                         \n",
      "Covariance Type:            nonrobust                                         \n",
      "==============================================================================\n",
      "                 coef    std err          t      P>|t|      [0.025      0.975]\n",
      "------------------------------------------------------------------------------\n",
      "const         14.0225      0.119    117.655      0.000      13.787      14.258\n",
      "x1             3.9193      0.119     32.809      0.000       3.684       4.155\n",
      "x2             2.7921      0.128     21.893      0.000       2.541       3.044\n",
      "x3            -0.0225      0.128     -0.177      0.860      -0.274       0.229\n",
      "==============================================================================\n",
      "Omnibus:                       60.414   Durbin-Watson:                   2.084\n",
      "Prob(Omnibus):                  0.000   Jarque-Bera (JB):              151.241\n",
      "Skew:                          -1.327   Prob(JB):                     1.44e-33\n",
      "Kurtosis:                       6.332   Cond. No.                         1.46\n",
      "==============================================================================\n",
      "\n",
      "Notes:\n",
      "[1] Standard Errors assume that the covariance matrix of the errors is correctly specified.\n"
     ]
    }
   ],
   "source": [
    "# Conducting Multivariant Regression with statsmodels\n",
    "import statsmodels.api as sm \n",
    "X = sm.add_constant(x) # adding a constant variable \n",
    "\n",
    "# Fitting the model \n",
    "model = sm.OLS(y, X).fit()  \n",
    "print_model = model.summary()\n",
    "\n",
    "# Printing the Mean-Squared Error (RMSE)\n",
    "print('RMSE: {}'.format(np.sqrt(model.mse_model)))\n",
    "print('SSR: {}'.format(model.ssr))\n",
    "\n",
    "# Printing the model Summary \n",
    "print(print_model)\n"
   ]
  },
  {
   "cell_type": "markdown",
   "metadata": {},
   "source": [
    "### Interpretation of the Multivariant Linear Regression Model \n",
    "\n",
    "The partial slope for TV (or x1) is 3.92, which means if all other predictors are held constant, if the TV ads sales increased, average sales would increase by 3.92. The partial slope for radio (or x2) is 2.79, so if all predictors are held constant - if radio ads increased, average sales would increase by 2.79. This is smaller than TV. Finally, for newspaper (or x3) the partial slope is -0.022. This suggests that for each newspaper ad purchased, the sales would decrease by -0.022. The constant for the equation is 14.022. \n",
    "\n",
    "The adjusted r-squared is 0.896, which suggests the model can account for 89.6% of the variations seen in the sample data provided to the model. \n",
    "\n",
    "Lastly, the mean-squared error, or average measure of errors of the model, is 40.25. This is quite large and can suggest that our model has large errors.  "
   ]
  },
  {
   "cell_type": "code",
   "execution_count": null,
   "metadata": {},
   "outputs": [],
   "source": []
  }
 ],
 "metadata": {
  "kernelspec": {
   "display_name": "Python 3",
   "language": "python",
   "name": "python3"
  },
  "language_info": {
   "codemirror_mode": {
    "name": "ipython",
    "version": 3
   },
   "file_extension": ".py",
   "mimetype": "text/x-python",
   "name": "python",
   "nbconvert_exporter": "python",
   "pygments_lexer": "ipython3",
   "version": "3.8.3"
  }
 },
 "nbformat": 4,
 "nbformat_minor": 2
}
