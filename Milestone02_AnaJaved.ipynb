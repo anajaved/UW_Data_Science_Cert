{
 "cells": [
  {
   "cell_type": "markdown",
   "id": "celtic-sequence",
   "metadata": {},
   "source": [
    "## Milestone 02 - Capstone Project Definition\n",
    "### Author: Ana Javed\n",
    "\n",
    "#### Workplace Scenario\n",
    "\n",
    "\n",
    "\n",
    "The capstone project focuses on diaper manufacturing quality. In the Lesson 01 assignment, you discovered how the diaper manufacturing process works. Generally, to ensure or predict quality, a diaper manufacturer need s to monitor every step of the manufacturing process with sensors such as heat sensors, glue sensors, glue level, etc.\n",
    "\n",
    "For this capstone project, we will use the SECOM (https://archive.ics.uci.edu/ml/machine-learning-databases/secom/) manufacturing Data Set from the UCI Machine Learning Repository. The set is originally for semiconductor manufacturing, but in our case, we will assume that it is for the diaper manufacturing process.\n",
    "\n",
    "The dataset consists of two files:\n",
    "\n",
    "   - a dataset file SECOM containing 1567 examples, each with 591 features, presented in a 1567 x 591 matrix\n",
    "   - a labels file listing the classifications and date time stamp for each example\n",
    "\n",
    "Reference\n",
    "\n",
    "Dua, D. and Karra Taniskidou, E. (2017). UCI Machine Learning Repository [http://archive.ics.uci.edu/ml]. Irvine, CA: University of California, School of Information and Computer Science.\n",
    "\n"
   ]
  },
  {
   "cell_type": "markdown",
   "id": "fiscal-bracelet",
   "metadata": {},
   "source": [
    "### Instructions\n",
    "\n",
    "Create a new notebook for this assignment named Milestone02_studentname.ipynb (replacing studentname with your own).\n",
    "\n",
    "    Split prepared data from Milestone 1 into training and testing\n",
    "    Build a decision tree model that detects faulty products\n",
    "    Build an ensemble model that detects faulty products\n",
    "    Build an SVM model\n",
    "    Evaluate all three models\n",
    "    Solicit specific feedback on your code (instructions below).\n",
    "\n",
    "Instructions to Solicit Feedback\n",
    "\n",
    "Write 2-3 questions soliciting feedback on specific aspects on the assignment. For example, if you did something one way but are unsure if there might be a different or better way to do it, ask for feedback on that part. You may submit these questions by commenting out in the code within your .ipynb file or by typing them below your file name in the Your Response box on the Submit Milestone Assignment page. While the questions you submit will have no bearing on your grade, by doing so, you will engage more actively with the assignment and we will also be able to give you pointed feedback.\n"
   ]
  },
  {
   "cell_type": "markdown",
   "id": "incorrect-trick",
   "metadata": {},
   "source": [
    "Reading and Merging Data"
   ]
  },
  {
   "cell_type": "code",
   "execution_count": 128,
   "id": "latin-failure",
   "metadata": {},
   "outputs": [],
   "source": [
    "## Importing Necessary Libraries & Packages \n",
    "import matplotlib.pyplot as plt\n",
    "import pandas as pd \n",
    "import numpy as np\n",
    "import datetime as dt\n",
    "import csv\n",
    "import sklearn \n",
    "from sklearn.preprocessing import StandardScaler\n",
    "from sklearn.model_selection import train_test_split\n",
    "\n",
    "# Declaring inline visualizations \n",
    "%matplotlib inline\n"
   ]
  },
  {
   "cell_type": "code",
   "execution_count": 129,
   "id": "cosmetic-perth",
   "metadata": {},
   "outputs": [
    {
     "name": "stdout",
     "output_type": "stream",
     "text": [
      "   sensor1  sensor2    sensor3    sensor4  sensor5  sensor6   sensor7  \\\n",
      "0  3030.93  2564.00  2187.7333  1411.1265   1.3602    100.0   97.6133   \n",
      "1  3095.78  2465.14  2230.4222  1463.6606   0.8294    100.0  102.3433   \n",
      "2  2932.61  2559.94  2186.4111  1698.0172   1.5102    100.0   95.4878   \n",
      "3  2988.72  2479.90  2199.0333   909.7926   1.3204    100.0  104.2367   \n",
      "4  3032.24  2502.87  2233.3667  1326.5200   1.5334    100.0  100.3967   \n",
      "\n",
      "   sensor8  sensor9  sensor10  ...  sensor581  sensor582  sensor583  \\\n",
      "0   0.1242   1.5005    0.0162  ...        NaN        NaN     0.5005   \n",
      "1   0.1247   1.4966   -0.0005  ...     0.0060   208.2045     0.5019   \n",
      "2   0.1241   1.4436    0.0041  ...     0.0148    82.8602     0.4958   \n",
      "3   0.1217   1.4882   -0.0124  ...     0.0044    73.8432     0.4990   \n",
      "4   0.1235   1.5031   -0.0031  ...        NaN        NaN     0.4800   \n",
      "\n",
      "   sensor584  sensor585  sensor586  sensor587  sensor588  sensor589  sensor590  \n",
      "0     0.0118     0.0035     2.3630        NaN        NaN        NaN        NaN  \n",
      "1     0.0223     0.0055     4.4447     0.0096     0.0201     0.0060   208.2045  \n",
      "2     0.0157     0.0039     3.1745     0.0584     0.0484     0.0148    82.8602  \n",
      "3     0.0103     0.0025     2.0544     0.0202     0.0149     0.0044    73.8432  \n",
      "4     0.4766     0.1045    99.3032     0.0202     0.0149     0.0044    73.8432  \n",
      "\n",
      "[5 rows x 590 columns]\n",
      "   class            timestamp\n",
      "0     -1  19/07/2008 11:55:00\n",
      "1     -1  19/07/2008 12:32:00\n",
      "2      1  19/07/2008 13:17:00\n",
      "3     -1  19/07/2008 14:43:00\n",
      "4     -1  19/07/2008 15:22:00\n"
     ]
    }
   ],
   "source": [
    "## Reading data file into Dataframe \n",
    "url = \"https://archive.ics.uci.edu/ml/machine-learning-databases/secom/secom.data\"\n",
    "labels_url = \"https://archive.ics.uci.edu/ml/machine-learning-databases/secom/secom_labels.data\"\n",
    "\n",
    "col_name_list = []\n",
    "## Renaming Columns to different Sensor #'s\n",
    "for i in range (1, 591, 1):\n",
    "    col_name_list.append(\"sensor\" + str(i))\n",
    "\n",
    "# print (col_name_list)\n",
    "    \n",
    "df = pd.read_csv(url, sep=\" \", header=None , names = col_name_list)\n",
    "df_labels = pd.read_csv(labels_url, sep=\" \", header = None, names = [\"class\", \"timestamp\"])\n",
    "\n",
    "\n",
    "## First 5 Rows from Dataframes\n",
    "print(df.head())\n",
    "print(df_labels.head()) \n"
   ]
  },
  {
   "cell_type": "code",
   "execution_count": 130,
   "id": "employed-western",
   "metadata": {},
   "outputs": [
    {
     "name": "stdout",
     "output_type": "stream",
     "text": [
      "(1567, 590)\n",
      "sensor1      float64\n",
      "sensor2      float64\n",
      "sensor3      float64\n",
      "sensor4      float64\n",
      "sensor5      float64\n",
      "              ...   \n",
      "sensor586    float64\n",
      "sensor587    float64\n",
      "sensor588    float64\n",
      "sensor589    float64\n",
      "sensor590    float64\n",
      "Length: 590, dtype: object\n",
      "           sensor1      sensor2      sensor3      sensor4      sensor5  \\\n",
      "count  1561.000000  1560.000000  1553.000000  1553.000000  1553.000000   \n",
      "mean   3014.452896  2495.850231  2200.547318  1396.376627     4.197013   \n",
      "std      73.621787    80.407705    29.513152   441.691640    56.355540   \n",
      "min    2743.240000  2158.750000  2060.660000     0.000000     0.681500   \n",
      "25%    2966.260000  2452.247500  2181.044400  1081.875800     1.017700   \n",
      "50%    3011.490000  2499.405000  2201.066700  1285.214400     1.316800   \n",
      "75%    3056.650000  2538.822500  2218.055500  1591.223500     1.525700   \n",
      "max    3356.350000  2846.440000  2315.266700  3715.041700  1114.536600   \n",
      "\n",
      "       sensor6      sensor7      sensor8      sensor9     sensor10  ...  \\\n",
      "count   1553.0  1553.000000  1558.000000  1565.000000  1565.000000  ...   \n",
      "mean     100.0   101.112908     0.121822     1.462862    -0.000841  ...   \n",
      "std        0.0     6.237214     0.008961     0.073897     0.015116  ...   \n",
      "min      100.0    82.131100     0.000000     1.191000    -0.053400  ...   \n",
      "25%      100.0    97.920000     0.121100     1.411200    -0.010800  ...   \n",
      "50%      100.0   101.512200     0.122400     1.461600    -0.001300  ...   \n",
      "75%      100.0   104.586700     0.123800     1.516900     0.008400  ...   \n",
      "max      100.0   129.252200     0.128600     1.656400     0.074900  ...   \n",
      "\n",
      "        sensor581   sensor582    sensor583    sensor584    sensor585  \\\n",
      "count  618.000000  618.000000  1566.000000  1566.000000  1566.000000   \n",
      "mean     0.005396   97.934373     0.500096     0.015318     0.003847   \n",
      "std      0.003116   87.520966     0.003404     0.017180     0.003720   \n",
      "min      0.001000    0.000000     0.477800     0.006000     0.001700   \n",
      "25%      0.003400   46.184900     0.497900     0.011600     0.003100   \n",
      "50%      0.004700   72.288900     0.500200     0.013800     0.003600   \n",
      "75%      0.006475  116.539150     0.502375     0.016500     0.004100   \n",
      "max      0.028600  737.304800     0.509800     0.476600     0.104500   \n",
      "\n",
      "         sensor586    sensor587    sensor588    sensor589    sensor590  \n",
      "count  1566.000000  1566.000000  1566.000000  1566.000000  1566.000000  \n",
      "mean      3.067826     0.021458     0.016475     0.005283    99.670066  \n",
      "std       3.578033     0.012358     0.008808     0.002867    93.891919  \n",
      "min       1.197500    -0.016900     0.003200     0.001000     0.000000  \n",
      "25%       2.306500     0.013425     0.010600     0.003300    44.368600  \n",
      "50%       2.757650     0.020500     0.014800     0.004600    71.900500  \n",
      "75%       3.295175     0.027600     0.020300     0.006400   114.749700  \n",
      "max      99.303200     0.102800     0.079900     0.028600   737.304800  \n",
      "\n",
      "[8 rows x 590 columns]\n",
      "(1567, 2)\n"
     ]
    },
    {
     "data": {
      "text/html": [
       "<div>\n",
       "<style scoped>\n",
       "    .dataframe tbody tr th:only-of-type {\n",
       "        vertical-align: middle;\n",
       "    }\n",
       "\n",
       "    .dataframe tbody tr th {\n",
       "        vertical-align: top;\n",
       "    }\n",
       "\n",
       "    .dataframe thead th {\n",
       "        text-align: right;\n",
       "    }\n",
       "</style>\n",
       "<table border=\"1\" class=\"dataframe\">\n",
       "  <thead>\n",
       "    <tr style=\"text-align: right;\">\n",
       "      <th></th>\n",
       "      <th>sensor1</th>\n",
       "      <th>sensor2</th>\n",
       "      <th>sensor3</th>\n",
       "      <th>sensor4</th>\n",
       "      <th>sensor5</th>\n",
       "      <th>sensor6</th>\n",
       "      <th>sensor7</th>\n",
       "      <th>sensor8</th>\n",
       "      <th>sensor9</th>\n",
       "      <th>sensor10</th>\n",
       "      <th>...</th>\n",
       "      <th>sensor581</th>\n",
       "      <th>sensor582</th>\n",
       "      <th>sensor583</th>\n",
       "      <th>sensor584</th>\n",
       "      <th>sensor585</th>\n",
       "      <th>sensor586</th>\n",
       "      <th>sensor587</th>\n",
       "      <th>sensor588</th>\n",
       "      <th>sensor589</th>\n",
       "      <th>sensor590</th>\n",
       "    </tr>\n",
       "  </thead>\n",
       "  <tbody>\n",
       "    <tr>\n",
       "      <th>0</th>\n",
       "      <td>3030.93</td>\n",
       "      <td>2564.00</td>\n",
       "      <td>2187.7333</td>\n",
       "      <td>1411.1265</td>\n",
       "      <td>1.3602</td>\n",
       "      <td>100.0</td>\n",
       "      <td>97.6133</td>\n",
       "      <td>0.1242</td>\n",
       "      <td>1.5005</td>\n",
       "      <td>0.0162</td>\n",
       "      <td>...</td>\n",
       "      <td>NaN</td>\n",
       "      <td>NaN</td>\n",
       "      <td>0.5005</td>\n",
       "      <td>0.0118</td>\n",
       "      <td>0.0035</td>\n",
       "      <td>2.3630</td>\n",
       "      <td>NaN</td>\n",
       "      <td>NaN</td>\n",
       "      <td>NaN</td>\n",
       "      <td>NaN</td>\n",
       "    </tr>\n",
       "    <tr>\n",
       "      <th>1</th>\n",
       "      <td>3095.78</td>\n",
       "      <td>2465.14</td>\n",
       "      <td>2230.4222</td>\n",
       "      <td>1463.6606</td>\n",
       "      <td>0.8294</td>\n",
       "      <td>100.0</td>\n",
       "      <td>102.3433</td>\n",
       "      <td>0.1247</td>\n",
       "      <td>1.4966</td>\n",
       "      <td>-0.0005</td>\n",
       "      <td>...</td>\n",
       "      <td>0.0060</td>\n",
       "      <td>208.2045</td>\n",
       "      <td>0.5019</td>\n",
       "      <td>0.0223</td>\n",
       "      <td>0.0055</td>\n",
       "      <td>4.4447</td>\n",
       "      <td>0.0096</td>\n",
       "      <td>0.0201</td>\n",
       "      <td>0.0060</td>\n",
       "      <td>208.2045</td>\n",
       "    </tr>\n",
       "    <tr>\n",
       "      <th>2</th>\n",
       "      <td>2932.61</td>\n",
       "      <td>2559.94</td>\n",
       "      <td>2186.4111</td>\n",
       "      <td>1698.0172</td>\n",
       "      <td>1.5102</td>\n",
       "      <td>100.0</td>\n",
       "      <td>95.4878</td>\n",
       "      <td>0.1241</td>\n",
       "      <td>1.4436</td>\n",
       "      <td>0.0041</td>\n",
       "      <td>...</td>\n",
       "      <td>0.0148</td>\n",
       "      <td>82.8602</td>\n",
       "      <td>0.4958</td>\n",
       "      <td>0.0157</td>\n",
       "      <td>0.0039</td>\n",
       "      <td>3.1745</td>\n",
       "      <td>0.0584</td>\n",
       "      <td>0.0484</td>\n",
       "      <td>0.0148</td>\n",
       "      <td>82.8602</td>\n",
       "    </tr>\n",
       "    <tr>\n",
       "      <th>3</th>\n",
       "      <td>2988.72</td>\n",
       "      <td>2479.90</td>\n",
       "      <td>2199.0333</td>\n",
       "      <td>909.7926</td>\n",
       "      <td>1.3204</td>\n",
       "      <td>100.0</td>\n",
       "      <td>104.2367</td>\n",
       "      <td>0.1217</td>\n",
       "      <td>1.4882</td>\n",
       "      <td>-0.0124</td>\n",
       "      <td>...</td>\n",
       "      <td>0.0044</td>\n",
       "      <td>73.8432</td>\n",
       "      <td>0.4990</td>\n",
       "      <td>0.0103</td>\n",
       "      <td>0.0025</td>\n",
       "      <td>2.0544</td>\n",
       "      <td>0.0202</td>\n",
       "      <td>0.0149</td>\n",
       "      <td>0.0044</td>\n",
       "      <td>73.8432</td>\n",
       "    </tr>\n",
       "    <tr>\n",
       "      <th>4</th>\n",
       "      <td>3032.24</td>\n",
       "      <td>2502.87</td>\n",
       "      <td>2233.3667</td>\n",
       "      <td>1326.5200</td>\n",
       "      <td>1.5334</td>\n",
       "      <td>100.0</td>\n",
       "      <td>100.3967</td>\n",
       "      <td>0.1235</td>\n",
       "      <td>1.5031</td>\n",
       "      <td>-0.0031</td>\n",
       "      <td>...</td>\n",
       "      <td>NaN</td>\n",
       "      <td>NaN</td>\n",
       "      <td>0.4800</td>\n",
       "      <td>0.4766</td>\n",
       "      <td>0.1045</td>\n",
       "      <td>99.3032</td>\n",
       "      <td>0.0202</td>\n",
       "      <td>0.0149</td>\n",
       "      <td>0.0044</td>\n",
       "      <td>73.8432</td>\n",
       "    </tr>\n",
       "  </tbody>\n",
       "</table>\n",
       "<p>5 rows × 590 columns</p>\n",
       "</div>"
      ],
      "text/plain": [
       "   sensor1  sensor2    sensor3    sensor4  sensor5  sensor6   sensor7  \\\n",
       "0  3030.93  2564.00  2187.7333  1411.1265   1.3602    100.0   97.6133   \n",
       "1  3095.78  2465.14  2230.4222  1463.6606   0.8294    100.0  102.3433   \n",
       "2  2932.61  2559.94  2186.4111  1698.0172   1.5102    100.0   95.4878   \n",
       "3  2988.72  2479.90  2199.0333   909.7926   1.3204    100.0  104.2367   \n",
       "4  3032.24  2502.87  2233.3667  1326.5200   1.5334    100.0  100.3967   \n",
       "\n",
       "   sensor8  sensor9  sensor10  ...  sensor581  sensor582  sensor583  \\\n",
       "0   0.1242   1.5005    0.0162  ...        NaN        NaN     0.5005   \n",
       "1   0.1247   1.4966   -0.0005  ...     0.0060   208.2045     0.5019   \n",
       "2   0.1241   1.4436    0.0041  ...     0.0148    82.8602     0.4958   \n",
       "3   0.1217   1.4882   -0.0124  ...     0.0044    73.8432     0.4990   \n",
       "4   0.1235   1.5031   -0.0031  ...        NaN        NaN     0.4800   \n",
       "\n",
       "   sensor584  sensor585  sensor586  sensor587  sensor588  sensor589  sensor590  \n",
       "0     0.0118     0.0035     2.3630        NaN        NaN        NaN        NaN  \n",
       "1     0.0223     0.0055     4.4447     0.0096     0.0201     0.0060   208.2045  \n",
       "2     0.0157     0.0039     3.1745     0.0584     0.0484     0.0148    82.8602  \n",
       "3     0.0103     0.0025     2.0544     0.0202     0.0149     0.0044    73.8432  \n",
       "4     0.4766     0.1045    99.3032     0.0202     0.0149     0.0044    73.8432  \n",
       "\n",
       "[5 rows x 590 columns]"
      ]
     },
     "execution_count": 130,
     "metadata": {},
     "output_type": "execute_result"
    }
   ],
   "source": [
    "## Conducting Exploratory Data Analysis: \n",
    "\n",
    "print(df.shape)  # (1567, 592)\n",
    "print(df.dtypes) \n",
    "print(df.describe()) \n",
    "\n",
    "print(df_labels.shape)  # (1567, 2)\n",
    "\n",
    "df.head()"
   ]
  },
  {
   "cell_type": "markdown",
   "id": "elementary-edition",
   "metadata": {},
   "source": [
    "Clean and prepare data"
   ]
  },
  {
   "cell_type": "code",
   "execution_count": 131,
   "id": "facial-dress",
   "metadata": {},
   "outputs": [],
   "source": [
    "## Function to Find & Replace Missing values\n",
    "\n",
    "def replace_missing_values(df):\n",
    "    for each in df.columns:\n",
    "        if df.loc[:, each].dtype in ('float64', 'int64'):\n",
    "            df.loc[:, each] = pd.to_numeric(df.loc[:, each], errors='coerce')\n",
    "            HasNan1 = np.isnan(df.loc[:, each] )\n",
    "            # print(\"Number of missing values removed in \" + each + \" column:\", sum(HasNan1)) \n",
    "            df.loc[HasNan1, each] = np.nanmedian(df.loc[:, each] )\n",
    "\n",
    "\n"
   ]
  },
  {
   "cell_type": "code",
   "execution_count": 132,
   "id": "clear-standing",
   "metadata": {},
   "outputs": [],
   "source": [
    "## Missing Value Counts by Columns: \n",
    "replace_missing_values(df)\n",
    "\n",
    "\n",
    "## Standardizing / Normalizing Values with StandardScaler \n",
    "standardization_scale = StandardScaler().fit(df)\n",
    "df = pd.DataFrame(standardization_scale.transform(df), \n",
    "                             columns=df.columns)\n",
    "\n",
    "## Merging the two Datasets into df \n",
    "df['class'] = df_labels['class']\n",
    "df['timestamp'] = df_labels['timestamp']\n"
   ]
  },
  {
   "cell_type": "code",
   "execution_count": 133,
   "id": "distributed-andrews",
   "metadata": {},
   "outputs": [],
   "source": [
    "## Adding separate date and time columns \n",
    "df['timestamp'] = pd.to_datetime(df['timestamp'])\n",
    "df['date_column'] = pd.to_datetime(df['timestamp']).dt.date\n",
    "df['time_column'] = pd.to_datetime(df['timestamp']).dt.time\n",
    "\n",
    "## Creating counts Column for visualizations \n",
    "df['counts'] = 1\n",
    "\n",
    "## Adding Month Column and TimeOfDay Column\n",
    "df['Month'] = pd.to_datetime(df['timestamp']).dt.month\n",
    "\n",
    "### Categorizing Time of Day into \n",
    "### Morning\", \"Early Afternoon\", \"Later Afternoon\", \"Evening\" Buckets\n",
    "df.loc[:, \"TimeOfDay\"] = df.loc[:, \"time_column\"]\n",
    "df.loc[df.loc[:, \"time_column\"] < pd.to_datetime('19:00:00').time() , \"TimeOfDay\"] = \"Late Afternoon\"\n",
    "df.loc[df.loc[:, \"time_column\"] < pd.to_datetime('13:00:00').time()  , \"TimeOfDay\"] = \"Early Afternoon\"\n",
    "df.loc[df.loc[:, \"time_column\"] < pd.to_datetime('07:00:00').time() , \"TimeOfDay\"] = \"Morning\"\n",
    "df.loc[df.loc[:, \"time_column\"] >= pd.to_datetime('19:00:00').time() , \"TimeOfDay\"] = \"Evening\"\n"
   ]
  },
  {
   "cell_type": "code",
   "execution_count": 134,
   "id": "unauthorized-preview",
   "metadata": {},
   "outputs": [
    {
     "name": "stdout",
     "output_type": "stream",
     "text": [
      "\n",
      "Morning: \n",
      "00:01:00  to  06:56:00\n",
      "\n",
      "Early Afternoon: \n",
      "07:01:00  to  12:58:00\n",
      "\n",
      "Late Afternoon: \n",
      "13:01:00  to  18:59:00\n",
      "\n",
      "Evening: \n",
      "19:03:00  to  23:59:00\n"
     ]
    }
   ],
   "source": [
    "## Validating New Column Counts\n",
    "# print(\"Category Counts: \")\n",
    "# print(df.loc[:, \"TimeOfDay\"].value_counts())\n",
    "\n",
    "# Verifying the Ranges for the Categories \n",
    "print(\"\\nMorning: \")\n",
    "print(min(df.loc[df.loc[:, \"TimeOfDay\"] ==\"Morning\" , \"time_column\"]), \" to \",\n",
    "      max(df.loc[df.loc[:, \"TimeOfDay\"] ==\"Morning\" , \"time_column\"]),\n",
    "     )\n",
    "print(\"\\nEarly Afternoon: \")\n",
    "print(min(df.loc[df.loc[:, \"TimeOfDay\"] ==\"Early Afternoon\" , \"time_column\"]),  \" to \",\n",
    "      max(df.loc[df.loc[:, \"TimeOfDay\"] ==\"Early Afternoon\" , \"time_column\"]),\n",
    "     )\n",
    "print(\"\\nLate Afternoon: \")\n",
    "print(min(df.loc[df.loc[:, \"TimeOfDay\"] ==\"Late Afternoon\" , \"time_column\"]),  \" to \",\n",
    "      max(df.loc[df.loc[:, \"TimeOfDay\"] ==\"Late Afternoon\" , \"time_column\"]),\n",
    "     )\n",
    "print(\"\\nEvening: \")\n",
    "print(min(df.loc[df.loc[:, \"TimeOfDay\"] ==\"Evening\" , \"time_column\"]),  \" to \",\n",
    "      max(df.loc[df.loc[:, \"TimeOfDay\"] ==\"Evening\" , \"time_column\"]),\n",
    "     )"
   ]
  },
  {
   "cell_type": "markdown",
   "id": "hundred-comparative",
   "metadata": {},
   "source": [
    "Visually explore data"
   ]
  },
  {
   "cell_type": "code",
   "execution_count": 135,
   "id": "confirmed-fleece",
   "metadata": {},
   "outputs": [
    {
     "name": "stdout",
     "output_type": "stream",
     "text": [
      "Number of Values in Each Class: \n",
      "-1    1463\n",
      " 1     104\n",
      "Name: class, dtype: int64\n"
     ]
    },
    {
     "data": {
      "text/plain": [
       "(array([1463.,    0.,    0.,    0.,    0.,    0.,    0.,    0.,    0.,\n",
       "         104.]),\n",
       " array([-1. , -0.8, -0.6, -0.4, -0.2,  0. ,  0.2,  0.4,  0.6,  0.8,  1. ]),\n",
       " <BarContainer object of 10 artists>)"
      ]
     },
     "execution_count": 135,
     "metadata": {},
     "output_type": "execute_result"
    },
    {
     "data": {
      "image/png": "[encoded data removed]",
      "text/plain": [
       "<Figure size 432x288 with 1 Axes>"
      ]
     },
     "metadata": {
      "needs_background": "light"
     },
     "output_type": "display_data"
    }
   ],
   "source": [
    "## Distribution of The Class Categories \n",
    "print(\"Number of Values in Each Class: \")\n",
    "print(df.loc[:, \"class\"].value_counts())\n",
    "\n",
    "plt.hist(df.loc[:, \"class\"])"
   ]
  },
  {
   "cell_type": "code",
   "execution_count": 136,
   "id": "consistent-touch",
   "metadata": {},
   "outputs": [
    {
     "name": "stdout",
     "output_type": "stream",
     "text": [
      "2008-02-09    62\n",
      "2008-08-29    50\n",
      "2008-08-30    49\n",
      "2008-06-10    48\n",
      "2008-08-21    44\n",
      "              ..\n",
      "2008-08-13     1\n",
      "2008-07-25     1\n",
      "2008-02-08     1\n",
      "2008-07-20     1\n",
      "2008-08-25     1\n",
      "Name: date_column, Length: 86, dtype: int64\n",
      "\n",
      "\n",
      "Min Date:  2008-01-08 02:02:00\n",
      "Max Date:  2008-12-10 18:47:00\n"
     ]
    },
    {
     "data": {
      "image/png": "[encoded data removed]",
      "text/plain": [
       "<Figure size 1800x432 with 1 Axes>"
      ]
     },
     "metadata": {
      "needs_background": "light"
     },
     "output_type": "display_data"
    }
   ],
   "source": [
    "### Data Value Counts By Day \n",
    "## Bar Plot\n",
    "fig = plt.figure(figsize=(25, 6)) # Define plot area\n",
    "ax = fig.gca() # Define axis\n",
    "df.loc[:, ['date_column', 'counts']].groupby(['date_column']).agg('count').sort_values('date_column').plot.bar(ax=ax)\n",
    "\n",
    "\n",
    "# Printing Unique Counts of Each Day \n",
    "print(df.loc[:, \"date_column\"].value_counts().sort_values(axis = 0, ascending = False))\n",
    "print('\\n')\n",
    "## Printing Min and Max Timestamp Values\n",
    "print(\"Min Date: \", min(df.loc[:,'timestamp']))\n",
    "print(\"Max Date: \", max(df.loc[:,'timestamp']))"
   ]
  },
  {
   "cell_type": "code",
   "execution_count": 137,
   "id": "greek-champion",
   "metadata": {},
   "outputs": [
    {
     "name": "stdout",
     "output_type": "stream",
     "text": [
      "Morning            438\n",
      "Late Afternoon     405\n",
      "Early Afternoon    380\n",
      "Evening            344\n",
      "Name: TimeOfDay, dtype: int64\n",
      "\n",
      "\n"
     ]
    },
    {
     "data": {
      "image/png": "[encoded data removed]",
      "text/plain": [
       "<Figure size 432x432 with 1 Axes>"
      ]
     },
     "metadata": {
      "needs_background": "light"
     },
     "output_type": "display_data"
    }
   ],
   "source": [
    "### Counts By Time of Day \n",
    "## Bar Plot\n",
    "fig = plt.figure(figsize=(6, 6)) # Define plot area\n",
    "ax = fig.gca() # Define axis\n",
    "df.loc[:, ['TimeOfDay', 'counts']].groupby(['TimeOfDay']).agg('count').sort_values('TimeOfDay').plot.bar(ax=ax)\n",
    "\n",
    "# Printing Unique Counts of Each Day \n",
    "print(df.loc[:, \"TimeOfDay\"].value_counts().sort_values(axis = 0, ascending = False))\n",
    "print('\\n')\n"
   ]
  },
  {
   "cell_type": "code",
   "execution_count": 138,
   "id": "functional-mistake",
   "metadata": {},
   "outputs": [
    {
     "data": {
      "image/png": "[encoded data removed]",
      "text/plain": [
       "<Figure size 370x864 with 4 Axes>"
      ]
     },
     "metadata": {
      "needs_background": "light"
     },
     "output_type": "display_data"
    }
   ],
   "source": [
    "## Facet Plot: By Class \n",
    "import seaborn as sns\n",
    "g = sns.FacetGrid(df,  \n",
    "                  row='TimeOfDay', \n",
    "                  hue=\"class\",\n",
    "                  aspect = 1.5,\n",
    "                  palette = \"Set1\"\n",
    "                 )\n",
    "g = g.map(plt.hist, \"class\").add_legend().tight_layout()\n",
    "g"
   ]
  },
  {
   "cell_type": "markdown",
   "id": "structured-vinyl",
   "metadata": {},
   "source": [
    "Handle class imbalance problem"
   ]
  },
  {
   "cell_type": "code",
   "execution_count": 139,
   "id": "adjacent-covering",
   "metadata": {},
   "outputs": [
    {
     "name": "stdout",
     "output_type": "stream",
     "text": [
      "(1567, 591)\n"
     ]
    }
   ],
   "source": [
    "df = df.drop(columns=\"timestamp\")\n",
    "df = df.drop(columns=\"date_column\")\n",
    "df = df.drop(columns=\"time_column\")\n",
    "df = df.drop(columns=\"TimeOfDay\")\n",
    "df = df.drop(columns=\"class\")\n",
    "df = df.drop(columns=\"counts\")\n",
    "\n",
    "print(df.shape)  #(1567, 593)\n",
    "\n",
    "## Splitting Training and Testing Data\n",
    "x_train, x_test, y_train, y_test = train_test_split (np.array(df),\n",
    "                                                     np.array(df_labels.loc[:,\"class\"]),\n",
    "                                                     test_size = 0.5,\n",
    "                                                     random_state = 123)"
   ]
  },
  {
   "cell_type": "code",
   "execution_count": 140,
   "id": "matched-martial",
   "metadata": {},
   "outputs": [],
   "source": [
    "## Loading SMOTE Package \n",
    "from imblearn.over_sampling import SMOTE \n",
    "sm = SMOTE(random_state= 1234)\n",
    "\n",
    "X_res, y_res = sm.fit_resample(x_train, y_train)\n"
   ]
  },
  {
   "cell_type": "code",
   "execution_count": 141,
   "id": "frequent-vector",
   "metadata": {},
   "outputs": [
    {
     "name": "stdout",
     "output_type": "stream",
     "text": [
      "1466 [-1  1] [733 733]\n",
      "(1466, 591)\n"
     ]
    }
   ],
   "source": [
    "## Checking the Total Resampled Counts\n",
    "uni, freq = np.unique(y_res, return_counts = True)  # 50% Class 0, #50% Class 1\n",
    "\n",
    "print(len(y_res), uni, freq )  # New Counts per Class\n",
    "print(X_res.shape)\n",
    "\n",
    "    "
   ]
  },
  {
   "cell_type": "markdown",
   "id": "trained-apparel",
   "metadata": {},
   "source": [
    "Apply feature selection techniques to reduce dimensionality of data"
   ]
  },
  {
   "cell_type": "markdown",
   "id": "romance-worth",
   "metadata": {},
   "source": [
    "I will be applying the Lasso embed method to reduce the number of features in this dataset."
   ]
  },
  {
   "cell_type": "code",
   "execution_count": 142,
   "id": "outdoor-spiritual",
   "metadata": {},
   "outputs": [
    {
     "name": "stdout",
     "output_type": "stream",
     "text": [
      "[-0.         -0.         -0.         -0.         -0.          0.\n",
      "  0.          0.          0.         -0.          0.         -0.\n",
      " -0.          0.         -0.0061404  -0.          0.          0.\n",
      " -0.          0.          0.          0.02631023 -0.          0.\n",
      " -0.          0.         -0.          0.         -0.         -0.\n",
      "  0.         -0.          0.          0.00724393 -0.         -0.\n",
      "  0.          0.         -0.         -0.         -0.         -0.\n",
      "  0.         -0.         -0.          0.         -0.          0.\n",
      " -0.          0.         -0.          0.          0.          0.\n",
      "  0.         -0.          0.         -0.          0.          0.0455032\n",
      " -0.          0.         -0.          0.          0.02040781  0.\n",
      " -0.         -0.         -0.          0.         -0.          0.\n",
      "  0.         -0.         -0.          0.00511417 -0.          0.\n",
      "  0.          0.         -0.          0.         -0.         -0.\n",
      " -0.         -0.          0.         -0.          0.          0.\n",
      " -0.          0.         -0.          0.          0.          0.\n",
      " -0.          0.         -0.          0.          0.         -0.\n",
      " -0.          0.01962183 -0.          0.         -0.         -0.\n",
      " -0.         -0.          0.         -0.          0.          0.\n",
      "  0.00865591 -0.          0.         -0.         -0.         -0.\n",
      " -0.          0.01453675 -0.          0.          0.         -0.\n",
      "  0.         -0.          0.          0.0104007   0.00287572  0.\n",
      " -0.          0.         -0.         -0.          0.          0.\n",
      "  0.          0.         -0.          0.         -0.         -0.\n",
      " -0.         -0.         -0.         -0.         -0.          0.\n",
      " -0.         -0.         -0.         -0.          0.         -0.\n",
      "  0.         -0.          0.          0.          0.         -0.\n",
      "  0.          0.          0.          0.          0.          0.\n",
      "  0.          0.          0.          0.          0.          0.\n",
      "  0.          0.         -0.         -0.          0.          0.\n",
      " -0.         -0.         -0.          0.          0.         -0.\n",
      "  0.          0.          0.          0.          0.          0.\n",
      "  0.          0.          0.          0.          0.          0.\n",
      "  0.          0.          0.          0.         -0.          0.\n",
      " -0.         -0.         -0.         -0.         -0.         -0.\n",
      "  0.          0.         -0.          0.         -0.         -0.\n",
      "  0.          0.         -0.          0.         -0.          0.\n",
      "  0.          0.          0.          0.          0.          0.\n",
      "  0.          0.          0.          0.          0.          0.\n",
      "  0.          0.          0.          0.          0.         -0.\n",
      "  0.          0.          0.          0.         -0.         -0.\n",
      " -0.          0.         -0.          0.         -0.         -0.\n",
      " -0.         -0.         -0.         -0.          0.          0.\n",
      "  0.          0.          0.          0.          0.          0.\n",
      "  0.          0.          0.          0.          0.          0.\n",
      " -0.          0.          0.          0.          0.         -0.\n",
      "  0.         -0.         -0.         -0.         -0.         -0.00281047\n",
      " -0.         -0.          0.         -0.         -0.         -0.\n",
      " -0.         -0.         -0.          0.         -0.          0.\n",
      "  0.          0.         -0.          0.          0.          0.\n",
      "  0.          0.          0.          0.          0.          0.\n",
      "  0.          0.          0.          0.          0.         -0.\n",
      " -0.          0.          0.          0.         -0.00141314 -0.\n",
      " -0.          0.         -0.         -0.          0.          0.\n",
      "  0.          0.          0.          0.          0.          0.\n",
      "  0.          0.         -0.          0.          0.         -0.\n",
      " -0.          0.         -0.          0.         -0.         -0.\n",
      " -0.         -0.         -0.         -0.         -0.         -0.\n",
      "  0.02648843  0.         -0.          0.         -0.         -0.\n",
      "  0.          0.         -0.          0.         -0.          0.\n",
      "  0.          0.          0.          0.          0.          0.\n",
      "  0.         -0.         -0.          0.          0.          0.\n",
      "  0.          0.          0.          0.          0.         -0.\n",
      "  0.          0.          0.          0.         -0.         -0.\n",
      " -0.          0.         -0.          0.          0.         -0.\n",
      " -0.         -0.         -0.         -0.          0.          0.\n",
      "  0.          0.          0.          0.          0.          0.\n",
      "  0.          0.          0.          0.          0.          0.\n",
      " -0.          0.          0.          0.          0.         -0.\n",
      "  0.         -0.         -0.         -0.         -0.          0.\n",
      " -0.         -0.          0.          0.         -0.          0.\n",
      " -0.          0.         -0.          0.          0.          0.00429271\n",
      " -0.          0.          0.          0.          0.          0.01004753\n",
      "  0.         -0.          0.          0.          0.          0.\n",
      "  0.          0.          0.         -0.         -0.          0.\n",
      "  0.          0.         -0.         -0.         -0.          0.00210223\n",
      " -0.         -0.          0.          0.          0.          0.\n",
      "  0.          0.          0.          0.          0.          0.\n",
      " -0.          0.          0.          0.          0.          0.\n",
      "  0.          0.         -0.          0.         -0.         -0.\n",
      " -0.          0.         -0.         -0.         -0.00025826 -0.\n",
      "  0.          0.         -0.          0.         -0.          0.\n",
      " -0.          0.          0.         -0.         -0.          0.\n",
      "  0.         -0.          0.          0.          0.          0.\n",
      "  0.          0.          0.          0.          0.          0.\n",
      "  0.01037155  0.          0.          0.          0.          0.\n",
      " -0.         -0.         -0.          0.         -0.          0.\n",
      "  0.         -0.         -0.         -0.         -0.         -0.\n",
      "  0.          0.          0.          0.          0.          0.\n",
      "  0.          0.          0.          0.          0.          0.\n",
      "  0.          0.         -0.         -0.         -0.         -0.\n",
      " -0.          0.         -0.          0.          0.          0.\n",
      "  0.          0.          0.          0.          0.          0.\n",
      "  0.          0.          0.          0.         -0.         -0.\n",
      "  0.          0.         -0.          0.          0.          0.\n",
      "  0.         -0.         -0.         -0.         -0.         -0.\n",
      " -0.         -0.          0.          0.          0.         -0.\n",
      "  0.          0.          0.          0.          0.          0.\n",
      "  0.         -0.          0.        ]\n",
      "-0.8672622846202933\n"
     ]
    }
   ],
   "source": [
    "## Separating out the target variable\n",
    "X = df\n",
    "y = df_labels.loc[:, \"class\"]\n",
    "\n",
    "## Applying LASSO Embedded Method \n",
    "from sklearn import linear_model\n",
    "\n",
    "alpha = 0.025 # Increasing alpha can shrink variable coefficients more to 0\n",
    "clf = linear_model.Lasso(alpha=alpha)\n",
    "clf.fit(X, y)\n",
    "\n",
    "print(clf.coef_)\n",
    "print(clf.intercept_)\n"
   ]
  },
  {
   "cell_type": "code",
   "execution_count": 143,
   "id": "removable-services",
   "metadata": {},
   "outputs": [
    {
     "name": "stdout",
     "output_type": "stream",
     "text": [
      "sensor15 .... Column: 14 .... -0.006140397488435855\n",
      "sensor22 .... Column: 21 .... 0.026310228829674553\n",
      "sensor34 .... Column: 33 .... 0.007243928685268307\n",
      "sensor60 .... Column: 59 .... 0.04550319677074833\n",
      "sensor65 .... Column: 64 .... 0.020407806037949273\n",
      "sensor76 .... Column: 75 .... 0.005114173133561314\n",
      "sensor104 .... Column: 103 .... 0.01962183029918629\n",
      "sensor115 .... Column: 114 .... 0.00865591331258631\n",
      "sensor122 .... Column: 121 .... 0.014536747850965488\n",
      "sensor130 .... Column: 129 .... 0.010400698849259718\n",
      "sensor131 .... Column: 130 .... 0.002875723555295411\n",
      "sensor282 .... Column: 281 .... -0.002810470537685449\n",
      "sensor317 .... Column: 316 .... -0.001413139161257039\n",
      "sensor349 .... Column: 348 .... 0.026488427956661325\n",
      "sensor432 .... Column: 431 .... 0.004292709581914159\n",
      "sensor438 .... Column: 437 .... 0.010047530783654396\n",
      "sensor456 .... Column: 455 .... 0.002102233413598377\n",
      "sensor485 .... Column: 484 .... -0.00025826101620221933\n",
      "sensor511 .... Column: 510 .... 0.01037155426838045\n"
     ]
    }
   ],
   "source": [
    "for i, val in enumerate(clf.coef_):\n",
    "    # print(i, val)\n",
    "    if str(abs(val)) != '0.0':\n",
    "        if df.columns[i] != 'class':\n",
    "            print (df.columns[i], \".... Column:\", i, \"....\", val)"
   ]
  },
  {
   "cell_type": "markdown",
   "id": "baking-mainland",
   "metadata": {},
   "source": [
    "Initial findings:"
   ]
  },
  {
   "cell_type": "markdown",
   "id": "generic-appearance",
   "metadata": {},
   "source": [
    "This dataset shows serious class imbalance. Approximately 7% of the rows were of class \"1\" and the rest were \"-1\", which is why SMOTE was utilize to handle the imbalance. During data exploration, it was found that there were about even amounts of values for each of the \"TimeOfDay\" categories (Morning, Early Afternoon, Late Afternoon, and Evening). \n",
    "\n",
    "Lastly, the feature selection method applied to the dataset was the Embedded Method, specifically the LASSO method. A higher alpha value means a higher penalty for coefficients, and the more the coefficients will be closer to 0. With this information, I set the alpha = 0.025, and 19 of the original 591 attributes returned. They were:\n",
    "\n",
    "    - sensor15 .... Column: 14 .... -0.006140397488435855\n",
    "    - sensor22 .... Column: 21 .... 0.026310228829674553\n",
    "    - sensor34 .... Column: 33 .... 0.007243928685268307\n",
    "    - sensor60 .... Column: 59 .... 0.04550319677074833\n",
    "    - sensor65 .... Column: 64 .... 0.020407806037949273\n",
    "    - sensor76 .... Column: 75 .... 0.005114173133561314\n",
    "    - sensor104 .... Column: 103 .... 0.01962183029918629\n",
    "    - sensor115 .... Column: 114 .... 0.00865591331258631\n",
    "    - sensor122 .... Column: 121 .... 0.014536747850965488\n",
    "    - sensor130 .... Column: 129 .... 0.010400698849259718\n",
    "    - sensor131 .... Column: 130 .... 0.002875723555295411\n",
    "    - sensor282 .... Column: 281 .... -0.002810470537685449\n",
    "    - sensor317 .... Column: 316 .... -0.001413139161257039\n",
    "    - sensor349 .... Column: 348 .... 0.026488427956661325\n",
    "    - sensor432 .... Column: 431 .... 0.004292709581914159\n",
    "    - sensor438 .... Column: 437 .... 0.010047530783654396\n",
    "    - sensor456 .... Column: 455 .... 0.002102233413598377\n",
    "    - sensor485 .... Column: 484 .... -0.00025826101620221933\n",
    "    - sensor511 .... Column: 510 .... 0.01037155426838045\n",
    "\n",
    "\n",
    "It is difficult to make inferences about the sensor types, since there is little information of the different sensors - but it is going to be computationally easier for our models to work with 19 attributes now. "
   ]
  },
  {
   "cell_type": "markdown",
   "id": "mental-maryland",
   "metadata": {},
   "source": [
    "### 1. Split prepared data from Milestone 1 into training and testing"
   ]
  },
  {
   "cell_type": "code",
   "execution_count": 144,
   "id": "practical-facial",
   "metadata": {},
   "outputs": [],
   "source": [
    "df_reduced = df.loc[:, ['sensor15','sensor22','sensor34','sensor60',\n",
    "           'sensor65','sensor76','sensor104','sensor115',\n",
    "           'sensor122','sensor130','sensor131','sensor282',\n",
    "           'sensor317','sensor349', 'sensor432','sensor438',\n",
    "           'sensor456','sensor485','sensor511',]]"
   ]
  },
  {
   "cell_type": "code",
   "execution_count": 145,
   "id": "meaning-arrow",
   "metadata": {},
   "outputs": [
    {
     "name": "stdout",
     "output_type": "stream",
     "text": [
      "(array([-1,  1]), array([1463, 1463]))\n"
     ]
    }
   ],
   "source": [
    "X = np.array(df_reduced)\n",
    "y = np.array(df_labels.loc[:,\"class\"])\n",
    "\n",
    "## Loading SMOTE Package \n",
    "sm = SMOTE(random_state= 1)\n",
    "X, y = sm.fit_resample(X, y)\n",
    "\n",
    "## Breakdown of the Counts \n",
    "print(np.unique(y, return_counts=True))\n",
    "\n"
   ]
  },
  {
   "cell_type": "code",
   "execution_count": 146,
   "id": "perfect-surfing",
   "metadata": {},
   "outputs": [],
   "source": [
    "## Splitting Training and Testing Data\n",
    "X_train, X_test, y_train, y_test = train_test_split (X,\n",
    "                                                     y,\n",
    "                                                     test_size = 0.5,\n",
    "                                                     random_state = 123)"
   ]
  },
  {
   "cell_type": "markdown",
   "id": "fabulous-semiconductor",
   "metadata": {},
   "source": [
    "### 2. Build a decision tree model that detects faulty products"
   ]
  },
  {
   "cell_type": "code",
   "execution_count": 147,
   "id": "wrong-relations",
   "metadata": {},
   "outputs": [],
   "source": [
    "from sklearn.tree import DecisionTreeClassifier \n",
    "# Decision Tree Model - Using Gini Criterion (default, with no hyperparameters)\n",
    "\n",
    "# Using X_res, y_res variables, which account for class imbalance \n",
    "model_gini = DecisionTreeClassifier(random_state = 1).fit(X_train, y_train)\n",
    "y_gini_pred = model_gini.predict(X_test)"
   ]
  },
  {
   "cell_type": "code",
   "execution_count": 148,
   "id": "comparative-brake",
   "metadata": {},
   "outputs": [
    {
     "name": "stdout",
     "output_type": "stream",
     "text": [
      "Gini accuracy is : 86.1244019138756%\n",
      "Gini precision is : 83.87516254876462%\n",
      "Gini recall is : 89.08839779005525%\n"
     ]
    }
   ],
   "source": [
    "# Generate an accuracy Score\n",
    "from sklearn.metrics import accuracy_score\n",
    "from sklearn.metrics import precision_score\n",
    "from sklearn.metrics import recall_score\n",
    "\n",
    "print(\"Gini accuracy is : {}%\".format(accuracy_score(\n",
    "    y_test, y_gini_pred)*100))\n",
    "print(\"Gini precision is : {}%\".format(precision_score(\n",
    "    y_test, y_gini_pred)*100))\n",
    "print(\"Gini recall is : {}%\".format(recall_score(\n",
    "    y_test, y_gini_pred)*100))"
   ]
  },
  {
   "cell_type": "code",
   "execution_count": 149,
   "id": "breeding-socket",
   "metadata": {},
   "outputs": [
    {
     "name": "stdout",
     "output_type": "stream",
     "text": [
      "\n",
      "\n",
      "Gini Model Confusion Matrix: \n",
      "             Predicted Normal  Predicted Defect\n",
      "True Normal               615               124\n",
      "True Defect                79               645\n"
     ]
    }
   ],
   "source": [
    "## Printing the Confusion Matrix for the Decision Tree Model \n",
    "from sklearn.metrics import confusion_matrix\n",
    "\n",
    "print(\"\\n\")\n",
    "print(\"Gini Model Confusion Matrix: \")\n",
    "print(pd.DataFrame(\n",
    "    confusion_matrix(y_test, y_gini_pred),\n",
    "    columns=['Predicted Normal', 'Predicted Defect'],\n",
    "    index=['True Normal', 'True Defect']\n",
    "))"
   ]
  },
  {
   "cell_type": "markdown",
   "id": "economic-disclosure",
   "metadata": {},
   "source": [
    "### 3. Build an ensemble model that detects faulty products\n"
   ]
  },
  {
   "cell_type": "code",
   "execution_count": 154,
   "id": "considered-petite",
   "metadata": {},
   "outputs": [],
   "source": [
    "## Ensemble Model Approach:\n",
    "from sklearn.ensemble import RandomForestClassifier\n",
    "\n",
    "## Defining Model Parameters: \n",
    "nTrees = 100\n",
    "max_depth = 7\n",
    "min_node_size = 5\n",
    "verbose = 0\n",
    "\n",
    "\n",
    "## Generating Random Forest Classifier \n",
    "clf = RandomForestClassifier(n_estimators=nTrees, \n",
    "                             max_depth=max_depth,\n",
    "                             random_state=0, \n",
    "                             verbose=verbose, \n",
    "                             min_samples_leaf=min_node_size)\n",
    "clf.fit(X_train, y_train)\n",
    "y_predict2 = clf.predict(X_test)\n"
   ]
  },
  {
   "cell_type": "code",
   "execution_count": 155,
   "id": "surprised-indiana",
   "metadata": {},
   "outputs": [
    {
     "name": "stdout",
     "output_type": "stream",
     "text": [
      "Ensemble Accuracy is : 89.33697881066303%\n",
      "Ensemble Precision is : 85.678391959799%\n",
      "Ensemble Recall is : 94.1988950276243%\n"
     ]
    }
   ],
   "source": [
    "## Validating the model\n",
    "print(\"Ensemble Accuracy is : {}%\".format(accuracy_score(\n",
    "    y_test, y_predict2)*100))\n",
    "print(\"Ensemble Precision is : {}%\".format(precision_score(\n",
    "    y_test, y_predict2)*100))\n",
    "print(\"Ensemble Recall is : {}%\".format(recall_score(\n",
    "    y_test, y_predict2)*100))\n"
   ]
  },
  {
   "cell_type": "code",
   "execution_count": 156,
   "id": "functioning-singles",
   "metadata": {},
   "outputs": [
    {
     "name": "stdout",
     "output_type": "stream",
     "text": [
      "Ensemble Confusion Matrix: \n",
      "             Predicted Normal  Predicted Defect\n",
      "True Normal               625               114\n",
      "True Defect                42               682\n"
     ]
    }
   ],
   "source": [
    "print(\"Ensemble Confusion Matrix: \")\n",
    "print(pd.DataFrame(\n",
    "    confusion_matrix(y_test, y_predict2),\n",
    "    columns=['Predicted Normal', 'Predicted Defect'],\n",
    "    index=['True Normal', 'True Defect']\n",
    "))"
   ]
  },
  {
   "cell_type": "markdown",
   "id": "imperial-developer",
   "metadata": {},
   "source": [
    "### 4. Build an SVM model"
   ]
  },
  {
   "cell_type": "code",
   "execution_count": 157,
   "id": "floating-istanbul",
   "metadata": {},
   "outputs": [
    {
     "name": "stdout",
     "output_type": "stream",
     "text": [
      "Polynomial Kernel\n",
      "              precision    recall  f1-score   support\n",
      "\n",
      "          -1       0.77      0.97      0.86       585\n",
      "           1       0.98      0.81      0.88       878\n",
      "\n",
      "    accuracy                           0.87      1463\n",
      "   macro avg       0.87      0.89      0.87      1463\n",
      "weighted avg       0.89      0.87      0.87      1463\n",
      "\n"
     ]
    }
   ],
   "source": [
    "cost = .9 # penalty parameter \n",
    "gamma = 8 # defines the influence of input vectors on the margins\n",
    "\n",
    "from sklearn import svm, metrics\n",
    "from sklearn.metrics import classification_report\n",
    "\n",
    "# Test rbf \n",
    "clf = svm.SVC(gamma=gamma, kernel='poly', C=cost, random_state=1).fit(X_train, y_train)\n",
    "y_predict3 = clf.predict(X_test)\n",
    "print(\"Polynomial Kernel\")\n",
    "print(classification_report(y_predict3, y_test))"
   ]
  },
  {
   "cell_type": "code",
   "execution_count": 158,
   "id": "broadband-rhythm",
   "metadata": {},
   "outputs": [
    {
     "name": "stdout",
     "output_type": "stream",
     "text": [
      "SVM Accuracy is : 87.2863978127136%\n",
      "SVM Precision is : 80.6378132118451%\n",
      "SVM Recall is : 97.79005524861878%\n"
     ]
    }
   ],
   "source": [
    "## Validating the model\n",
    "print(\"SVM Accuracy is : {}%\".format(accuracy_score(\n",
    "    y_test, y_predict3)*100))\n",
    "print(\"SVM Precision is : {}%\".format(precision_score(\n",
    "    y_test, y_predict3)*100))\n",
    "print(\"SVM Recall is : {}%\".format(recall_score(\n",
    "    y_test, y_predict3)*100))\n"
   ]
  },
  {
   "cell_type": "markdown",
   "id": "stunning-uzbekistan",
   "metadata": {},
   "source": [
    "### 5. Evaluate all three models"
   ]
  },
  {
   "cell_type": "markdown",
   "id": "casual-atlas",
   "metadata": {},
   "source": [
    "The Single Decision Tree results were:\n",
    "- Gini accuracy is : 86.1244019138756%\n",
    "- Gini precision is : 83.87516254876462%\n",
    "- Gini recall is : 89.08839779005525%\n",
    "\n",
    "The Ensemble Method results were:\n",
    "- Ensemble Accuracy is : 89.33697881066303%\n",
    "- Ensemble Precision is : 85.678391959799%\n",
    "- Ensemble Recall is : 94.1988950276243%\n",
    "\n",
    "The SVM Method results were:\n",
    "- SVM Accuracy is : 87.2863978127136%\n",
    "- SVM Precision is : 80.6378132118451%\n",
    "- SVM Recall is : 97.79005524861878%\n",
    "\n",
    "In comparison to each other, the method with the highest accuracy was the Ensemble (Random Forest) method. It had an accuracy rate of 89.29%, the SVM method was the next highest at 87.28%, and the Decision Tree had 86.12%. The model that had the highest precision was once again the Ensemble method, which was 85.68%. The Decision Tree had the second highest precision at 83.87% and the SVM method had a precision of 80.64%. Lastly, the model with the highest recall percentage was the SVM method, which was 87.79%. The Ensemble method had the next highest recall at 94.19%, and the Decision Tree had a recall at 89.08%.\n",
    "\n",
    "Overall each model performed well, while still having room to grow. The best model to use for detecting defected products is the Ensemble method since it had the highest accurace and precision out of all three methods. In order to optimize this model, I would fine tune the parameters to see if the model could its metrics, but also I would revisit the feature selection conducted (Lasso technique was initially used) in the data preparation stage, to see if there were other features that could improve the models. "
   ]
  },
  {
   "cell_type": "markdown",
   "id": "seventh-lodging",
   "metadata": {},
   "source": [
    "### 6. Solicit specific feedback on your code (instructions below)."
   ]
  },
  {
   "cell_type": "markdown",
   "id": "together-expression",
   "metadata": {},
   "source": [
    "1. For handling class imbalance, should you resample (via SMOTE) both the training datasets and testing datasets? Or just the training dataset?\n",
    "\n",
    "2. What's a good percentage for the amount of test data? I usually have been doing 50% test data and 50% train data, but I noticed this can impact a models performance.\n",
    "\n",
    "3. Is it ok that the model I found to perform the best had the highest Accuracy and Precision score out of all the other models? This  "
   ]
  },
  {
   "cell_type": "code",
   "execution_count": null,
   "id": "aging-sleep",
   "metadata": {},
   "outputs": [],
   "source": []
  }
 ],
 "metadata": {
  "kernelspec": {
   "display_name": "Python 3",
   "language": "python",
   "name": "python3"
  },
  "language_info": {
   "codemirror_mode": {
    "name": "ipython",
    "version": 3
   },
   "file_extension": ".py",
   "mimetype": "text/x-python",
   "name": "python",
   "nbconvert_exporter": "python",
   "pygments_lexer": "ipython3",
   "version": "3.8.5"
  }
 },
 "nbformat": 4,
 "nbformat_minor": 5
}
